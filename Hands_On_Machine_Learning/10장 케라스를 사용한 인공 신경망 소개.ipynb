{
 "cells": [
  {
   "cell_type": "code",
   "execution_count": 2,
   "id": "d367775c",
   "metadata": {},
   "outputs": [
    {
     "data": {
      "text/plain": [
       "'2.7.0'"
      ]
     },
     "execution_count": 2,
     "metadata": {},
     "output_type": "execute_result"
    }
   ],
   "source": [
    "import tensorflow as tf\n",
    "from tensorflow import keras\n",
    "tf.__version__"
   ]
  },
  {
   "cell_type": "code",
   "execution_count": 3,
   "id": "809114cc",
   "metadata": {},
   "outputs": [
    {
     "data": {
      "text/plain": [
       "'2.7.0'"
      ]
     },
     "execution_count": 3,
     "metadata": {},
     "output_type": "execute_result"
    }
   ],
   "source": [
    "keras.__version__"
   ]
  },
  {
   "cell_type": "markdown",
   "id": "3cdb272e",
   "metadata": {},
   "source": [
    "# 1. 시퀀셜 API를 사용하여 이미지 분류기 만들기\n",
    "\n",
    "MNIST\n",
    "\n",
    "- 사이킷런 대신 케라스를 사용하여 MNIST나 패션 MNIST 데이터를 적재할 때 중요한 차이점은 각 이미지가 784 크기의 1D 배열이 아니라 28X28크기의 배열이라는 것!\n",
    "- 픽셀 강도 (0 ~ 255)"
   ]
  },
  {
   "cell_type": "code",
   "execution_count": 4,
   "id": "978a2643",
   "metadata": {},
   "outputs": [
    {
     "name": "stdout",
     "output_type": "stream",
     "text": [
      "Downloading data from https://storage.googleapis.com/tensorflow/tf-keras-datasets/train-labels-idx1-ubyte.gz\n",
      "32768/29515 [=================================] - 0s 0us/step\n",
      "40960/29515 [=========================================] - 0s 0us/step\n",
      "Downloading data from https://storage.googleapis.com/tensorflow/tf-keras-datasets/train-images-idx3-ubyte.gz\n",
      "26427392/26421880 [==============================] - 3s 0us/step\n",
      "26435584/26421880 [==============================] - 3s 0us/step\n",
      "Downloading data from https://storage.googleapis.com/tensorflow/tf-keras-datasets/t10k-labels-idx1-ubyte.gz\n",
      "16384/5148 [===============================================================================================] - 0s 0s/step\n",
      "Downloading data from https://storage.googleapis.com/tensorflow/tf-keras-datasets/t10k-images-idx3-ubyte.gz\n",
      "4423680/4422102 [==============================] - 1s 0us/step\n",
      "4431872/4422102 [==============================] - 1s 0us/step\n"
     ]
    }
   ],
   "source": [
    "# 케라스를 사용하여 데이터셋 적재하기\n",
    "\n",
    "fashion_mnist = keras.datasets.fashion_mnist\n",
    "\n",
    "(X_train_full, y_train_full), (X_test, y_test) = fashion_mnist.load_data()"
   ]
  },
  {
   "cell_type": "code",
   "execution_count": 5,
   "id": "bc30bcf3",
   "metadata": {},
   "outputs": [
    {
     "data": {
      "text/plain": [
       "(60000, 28, 28)"
      ]
     },
     "execution_count": 5,
     "metadata": {},
     "output_type": "execute_result"
    }
   ],
   "source": [
    "# 크기 확인\n",
    "\n",
    "X_train_full.shape"
   ]
  },
  {
   "cell_type": "code",
   "execution_count": 6,
   "id": "3ef95b41",
   "metadata": {},
   "outputs": [
    {
     "data": {
      "text/plain": [
       "dtype('uint8')"
      ]
     },
     "execution_count": 6,
     "metadata": {},
     "output_type": "execute_result"
    }
   ],
   "source": [
    "# 타입 확인\n",
    "\n",
    "X_train_full.dtype"
   ]
  },
  {
   "cell_type": "code",
   "execution_count": 7,
   "id": "32bf4fee",
   "metadata": {},
   "outputs": [],
   "source": [
    "# 훈련 세트와 테스트 세트로 나누어져 있지만 검증 세트는 없기에 만들어 주기\n",
    "#  경사하강법으로 신경망을 훈련하기에 입력특성의 스케일을 조정 (0 ~ 255사이의 강도를 0 ~ 1사이 값으로 조정)\n",
    "\n",
    "X_valid, X_train = X_train_full[:5000] / 255.0, X_train_full[5000:] / 255.0\n",
    "y_valid, y_train = y_train_full[:5000], y_train_full[5000:]\n",
    "X_test = X_test / 255.0"
   ]
  },
  {
   "cell_type": "code",
   "execution_count": 8,
   "id": "bc6b4380",
   "metadata": {},
   "outputs": [],
   "source": [
    "#  패션 MNIST는 레이블에 해당하는 아이템을 나타내기 위해 클래스 이름의 리스트를 만들어 줌\n",
    "\n",
    "class_names = [\"T-shirt/top\", \"trouser\", \"Pullover\", \"Dress\", \"Coat\", \"Sandal\", \"Shirt\", \n",
    "              \"Sneaker\", \"Bag\", \"Ankle boot\"]\n"
   ]
  },
  {
   "cell_type": "code",
   "execution_count": 9,
   "id": "bb087fbb",
   "metadata": {},
   "outputs": [
    {
     "data": {
      "text/plain": [
       "'Coat'"
      ]
     },
     "execution_count": 9,
     "metadata": {},
     "output_type": "execute_result"
    }
   ],
   "source": [
    "# 훈려 세트에 있는 첫 번째 이미지는 코트\n",
    "class_names[y_train[0]]"
   ]
  },
  {
   "cell_type": "code",
   "execution_count": 15,
   "id": "9d988454",
   "metadata": {},
   "outputs": [],
   "source": [
    "# 시퀀셜 API를 사용하여 모델 만들기\n",
    "# 방법 1\n",
    "model = keras.models.Sequential()\n",
    "model.add(keras.layers.Flatten(input_shape=[28,28]))\n",
    "model.add(keras.layers.Dense(300, activation=\"relu\"))   # 뉴런 300개를 가진 Dense 은닉층 추가, 활성화 함수 relu 사용    \n",
    "model.add(keras.layers.Dense(100, activation=\"relu\"))   # 뉴런 100개를 가진 Dense 은닉층 추가, 활성화 함수 relu 사용 \n",
    "model.add(keras.layers.Dense(10, activation=\"softmax\")) # 뉴런 10개를 가진 Dense 출력층 추가, 활성화 함수 softmax 사용 \n"
   ]
  },
  {
   "cell_type": "code",
   "execution_count": 11,
   "id": "05b71918",
   "metadata": {},
   "outputs": [],
   "source": [
    "# 방법 2\n",
    "model = keras.models.Sequential([\n",
    "    keras.layers.Flatten(input_shape=[28,28]),\n",
    "    keras.layers.Dense(300, activation=\"relu\"),\n",
    "    keras.layers.Dense(100, activation=\"relu\"),\n",
    "    keras.layers.Dense(10, activation=\"softmax\")\n",
    "])"
   ]
  },
  {
   "cell_type": "code",
   "execution_count": 12,
   "id": "f238f2f6",
   "metadata": {},
   "outputs": [
    {
     "name": "stdout",
     "output_type": "stream",
     "text": [
      "Model: \"sequential_1\"\n",
      "_________________________________________________________________\n",
      " Layer (type)                Output Shape              Param #   \n",
      "=================================================================\n",
      " flatten_1 (Flatten)         (None, 784)               0         \n",
      "                                                                 \n",
      " dense_3 (Dense)             (None, 300)               235500    \n",
      "                                                                 \n",
      " dense_4 (Dense)             (None, 100)               30100     \n",
      "                                                                 \n",
      " dense_5 (Dense)             (None, 10)                1010      \n",
      "                                                                 \n",
      "=================================================================\n",
      "Total params: 266,610\n",
      "Trainable params: 266,610\n",
      "Non-trainable params: 0\n",
      "_________________________________________________________________\n"
     ]
    }
   ],
   "source": [
    "# 모델의 summary() 메서드는 모델에 있는 모든 층을 출력한다.\n",
    "\n",
    "model.summary()"
   ]
  },
  {
   "cell_type": "markdown",
   "id": "c1a576cf",
   "metadata": {},
   "source": [
    "첫 번째 은닉층은 784x300개의 연결 가중치와 300개의 편향을 가짐 == 235500 <br>\n",
    "모델은 훈련 데이터를 학습하기 충분한 유연성을 가진다. 또한 과대적합의 위험을 갖는다는 의미이기도 하다. <br>\n",
    "훈련 데이터가 많지 않을 경우 더욱 그렇다."
   ]
  },
  {
   "cell_type": "code",
   "execution_count": 16,
   "id": "ec41487e",
   "metadata": {},
   "outputs": [
    {
     "data": {
      "text/plain": [
       "[<keras.layers.core.flatten.Flatten at 0x17839f17f10>,\n",
       " <keras.layers.core.dense.Dense at 0x17839f17fa0>,\n",
       " <keras.layers.core.dense.Dense at 0x17839f15550>,\n",
       " <keras.layers.core.dense.Dense at 0x17839f19fa0>]"
      ]
     },
     "execution_count": 16,
     "metadata": {},
     "output_type": "execute_result"
    }
   ],
   "source": [
    "# 모델에 있는 층의 리스트 출력하거나 인데스로 층을 쉽게 선택 가능\n",
    "model.layers"
   ]
  },
  {
   "cell_type": "code",
   "execution_count": 17,
   "id": "8f53001e",
   "metadata": {},
   "outputs": [
    {
     "data": {
      "text/plain": [
       "'dense_6'"
      ]
     },
     "execution_count": 17,
     "metadata": {},
     "output_type": "execute_result"
    }
   ],
   "source": [
    "hidden1 = model.layers[1]\n",
    "hidden1.name"
   ]
  },
  {
   "cell_type": "code",
   "execution_count": 20,
   "id": "ccf08a82",
   "metadata": {},
   "outputs": [
    {
     "data": {
      "text/plain": [
       "True"
      ]
     },
     "execution_count": 20,
     "metadata": {},
     "output_type": "execute_result"
    }
   ],
   "source": [
    "model.get_layer(\"dense_6\") is hidden1"
   ]
  },
  {
   "cell_type": "code",
   "execution_count": 21,
   "id": "8d9c732b",
   "metadata": {},
   "outputs": [
    {
     "data": {
      "text/plain": [
       "array([[ 0.05448109,  0.05888519,  0.04701342, ...,  0.02603782,\n",
       "         0.01176836, -0.06255236],\n",
       "       [ 0.03295794, -0.06092408,  0.02065254, ..., -0.03330339,\n",
       "         0.00853574,  0.02270206],\n",
       "       [-0.01409248,  0.03250417,  0.0547045 , ..., -0.02419926,\n",
       "        -0.005446  ,  0.04853275],\n",
       "       ...,\n",
       "       [ 0.04117348, -0.04293244,  0.0107645 , ..., -0.0053723 ,\n",
       "         0.00788739,  0.03383609],\n",
       "       [-0.02908382,  0.01523595,  0.0003529 , ...,  0.05971335,\n",
       "         0.06561626,  0.00428827],\n",
       "       [-0.02205532, -0.03637466, -0.04855434, ..., -0.05842457,\n",
       "         0.06253847,  0.04241338]], dtype=float32)"
      ]
     },
     "execution_count": 21,
     "metadata": {},
     "output_type": "execute_result"
    }
   ],
   "source": [
    "# 층의 모든 파라미터\n",
    "\n",
    "weights, bias = hidden1.get_weights()\n",
    "weights"
   ]
  },
  {
   "cell_type": "code",
   "execution_count": 22,
   "id": "b42aaadc",
   "metadata": {},
   "outputs": [
    {
     "data": {
      "text/plain": [
       "(784, 300)"
      ]
     },
     "execution_count": 22,
     "metadata": {},
     "output_type": "execute_result"
    }
   ],
   "source": [
    "weights.shape"
   ]
  },
  {
   "cell_type": "code",
   "execution_count": 23,
   "id": "2e08af50",
   "metadata": {},
   "outputs": [
    {
     "data": {
      "text/plain": [
       "(300,)"
      ]
     },
     "execution_count": 23,
     "metadata": {},
     "output_type": "execute_result"
    }
   ],
   "source": [
    "bias.shape"
   ]
  },
  {
   "cell_type": "markdown",
   "id": "e12ddeee",
   "metadata": {},
   "source": [
    "### 모델 컴파일"
   ]
  },
  {
   "cell_type": "code",
   "execution_count": 27,
   "id": "c984e77d",
   "metadata": {},
   "outputs": [],
   "source": [
    "model.compile(loss=\"sparse_categorical_crossentropy\",\n",
    "              optimizer=\"sgd\",\n",
    "              metrics=[\"accuracy\"])"
   ]
  },
  {
   "cell_type": "markdown",
   "id": "0d5cd12d",
   "metadata": {},
   "source": [
    "- 클래스가 배타적이므로 \"spare_categorical_crossentropy\" 손실 사용\n",
    "- 원핫벡터라면 \"categorical_crossentropy\" 손실 사용\n",
    "- 이진분류를 수행한다면 츨력층에 sigmoid 함수 사용하고 \"binary_crossentropy\" 손실 사용\n",
    "\n",
    "- 옴티마이저에 \"sgd\"를 지정하면 기본 확률저 경사 하강법(stochastic gradient descent)을 사용하여 모델을 훈련한다는 것을 의미, <br>\n",
    "  다른 말로 하면 케라스가 앞서 소개한 역전파 알고리즘을 수행\n",
    "  \n",
    "##### SGD 옵태마니저를 사용 시 학습률 튜닝이 중요!\n",
    "- keras.optimizer.SGD(lr=??), 기본값은 lr=0.01"
   ]
  },
  {
   "cell_type": "markdown",
   "id": "e869ea36",
   "metadata": {},
   "source": [
    "### 모델 훈련과 평가"
   ]
  },
  {
   "cell_type": "code",
   "execution_count": 28,
   "id": "3bda9d56",
   "metadata": {
    "scrolled": true
   },
   "outputs": [
    {
     "name": "stdout",
     "output_type": "stream",
     "text": [
      "Epoch 1/30\n",
      "1719/1719 [==============================] - 3s 2ms/step - loss: 0.7380 - accuracy: 0.7589 - val_loss: 0.5111 - val_accuracy: 0.8266\n",
      "Epoch 2/30\n",
      "1719/1719 [==============================] - 3s 2ms/step - loss: 0.4880 - accuracy: 0.8288 - val_loss: 0.4495 - val_accuracy: 0.8492\n",
      "Epoch 3/30\n",
      "1719/1719 [==============================] - 3s 2ms/step - loss: 0.4426 - accuracy: 0.8450 - val_loss: 0.4353 - val_accuracy: 0.8490\n",
      "Epoch 4/30\n",
      "1719/1719 [==============================] - 3s 2ms/step - loss: 0.4160 - accuracy: 0.8533 - val_loss: 0.4173 - val_accuracy: 0.8532\n",
      "Epoch 5/30\n",
      "1719/1719 [==============================] - 3s 2ms/step - loss: 0.3970 - accuracy: 0.8607 - val_loss: 0.3974 - val_accuracy: 0.8618\n",
      "Epoch 6/30\n",
      "1719/1719 [==============================] - 3s 2ms/step - loss: 0.3800 - accuracy: 0.8665 - val_loss: 0.3770 - val_accuracy: 0.8684\n",
      "Epoch 7/30\n",
      "1719/1719 [==============================] - 3s 2ms/step - loss: 0.3671 - accuracy: 0.8703 - val_loss: 0.3799 - val_accuracy: 0.8688\n",
      "Epoch 8/30\n",
      "1719/1719 [==============================] - 3s 2ms/step - loss: 0.3557 - accuracy: 0.8734 - val_loss: 0.3623 - val_accuracy: 0.8752\n",
      "Epoch 9/30\n",
      "1719/1719 [==============================] - 3s 2ms/step - loss: 0.3445 - accuracy: 0.8773 - val_loss: 0.3555 - val_accuracy: 0.8736\n",
      "Epoch 10/30\n",
      "1719/1719 [==============================] - 3s 2ms/step - loss: 0.3353 - accuracy: 0.8811 - val_loss: 0.3409 - val_accuracy: 0.8804\n",
      "Epoch 11/30\n",
      "1719/1719 [==============================] - 3s 2ms/step - loss: 0.3270 - accuracy: 0.8837 - val_loss: 0.3361 - val_accuracy: 0.8790\n",
      "Epoch 12/30\n",
      "1719/1719 [==============================] - 3s 2ms/step - loss: 0.3180 - accuracy: 0.8867 - val_loss: 0.3361 - val_accuracy: 0.8834\n",
      "Epoch 13/30\n",
      "1719/1719 [==============================] - 3s 2ms/step - loss: 0.3112 - accuracy: 0.8885 - val_loss: 0.3373 - val_accuracy: 0.8784\n",
      "Epoch 14/30\n",
      "1719/1719 [==============================] - 3s 2ms/step - loss: 0.3038 - accuracy: 0.8916 - val_loss: 0.3196 - val_accuracy: 0.8842\n",
      "Epoch 15/30\n",
      "1719/1719 [==============================] - 3s 2ms/step - loss: 0.2976 - accuracy: 0.8929 - val_loss: 0.3361 - val_accuracy: 0.8786\n",
      "Epoch 16/30\n",
      "1719/1719 [==============================] - 3s 2ms/step - loss: 0.2903 - accuracy: 0.8958 - val_loss: 0.3151 - val_accuracy: 0.8862\n",
      "Epoch 17/30\n",
      "1719/1719 [==============================] - 3s 2ms/step - loss: 0.2848 - accuracy: 0.8975 - val_loss: 0.3206 - val_accuracy: 0.8854\n",
      "Epoch 18/30\n",
      "1719/1719 [==============================] - 3s 2ms/step - loss: 0.2802 - accuracy: 0.8986 - val_loss: 0.3192 - val_accuracy: 0.8858\n",
      "Epoch 19/30\n",
      "1719/1719 [==============================] - 3s 2ms/step - loss: 0.2741 - accuracy: 0.9010 - val_loss: 0.3148 - val_accuracy: 0.8884\n",
      "Epoch 20/30\n",
      "1719/1719 [==============================] - 3s 2ms/step - loss: 0.2690 - accuracy: 0.9035 - val_loss: 0.3139 - val_accuracy: 0.8864\n",
      "Epoch 21/30\n",
      "1719/1719 [==============================] - 3s 2ms/step - loss: 0.2643 - accuracy: 0.9049 - val_loss: 0.3079 - val_accuracy: 0.8912\n",
      "Epoch 22/30\n",
      "1719/1719 [==============================] - 3s 2ms/step - loss: 0.2601 - accuracy: 0.9061 - val_loss: 0.3049 - val_accuracy: 0.8912\n",
      "Epoch 23/30\n",
      "1719/1719 [==============================] - 3s 2ms/step - loss: 0.2544 - accuracy: 0.9071 - val_loss: 0.3060 - val_accuracy: 0.8888\n",
      "Epoch 24/30\n",
      "1719/1719 [==============================] - 3s 2ms/step - loss: 0.2494 - accuracy: 0.9105 - val_loss: 0.3176 - val_accuracy: 0.8842\n",
      "Epoch 25/30\n",
      "1719/1719 [==============================] - 3s 2ms/step - loss: 0.2460 - accuracy: 0.9115 - val_loss: 0.3037 - val_accuracy: 0.8892\n",
      "Epoch 26/30\n",
      "1719/1719 [==============================] - 3s 2ms/step - loss: 0.2415 - accuracy: 0.9136 - val_loss: 0.3026 - val_accuracy: 0.8892\n",
      "Epoch 27/30\n",
      "1719/1719 [==============================] - 3s 2ms/step - loss: 0.2377 - accuracy: 0.9153 - val_loss: 0.3025 - val_accuracy: 0.8876\n",
      "Epoch 28/30\n",
      "1719/1719 [==============================] - 3s 2ms/step - loss: 0.2336 - accuracy: 0.9165 - val_loss: 0.3073 - val_accuracy: 0.8876\n",
      "Epoch 29/30\n",
      "1719/1719 [==============================] - 3s 2ms/step - loss: 0.2302 - accuracy: 0.9167 - val_loss: 0.2996 - val_accuracy: 0.8898\n",
      "Epoch 30/30\n",
      "1719/1719 [==============================] - 3s 2ms/step - loss: 0.2259 - accuracy: 0.9193 - val_loss: 0.2980 - val_accuracy: 0.8886\n"
     ]
    }
   ],
   "source": [
    "history = model.fit(X_train, y_train, epochs=30,\n",
    "                    validation_data=(X_valid, y_valid)) # 검증 세트\n",
    "# 케라스는 에포크가 끝날 때마다 검증세트를 사용해 손실과 추가적인 측정 지표를 계산\n",
    "\n",
    "# 훈련세트 성능이 검증 세트보다 월등히 높다면 아미도 모델이 훈련세트에 과대적합되었을 것!\n",
    "#  걸린 시간, 훈현세트의 손실과 정확도, 검증세트의 손실과 정확도 순으로 나타남\n",
    "# 훈련정확도와 검증 정확도가 큰 차이가 없으므로 과대적합이 일어나지 않은 것 같다."
   ]
  },
  {
   "cell_type": "markdown",
   "id": "5fb38c13",
   "metadata": {},
   "source": [
    "tip\n",
    "- validation_data 매개변수에 검증 세트를 전달하는 대신 케라스가 검증에 사용할 훈현 세트의 비율을 지정\n",
    "- 예를 들어 validation_data_split = 0.1로 쓰면 케라스는 검증에 (섞기 전의)데이터의 마지막 10%를 사용"
   ]
  },
  {
   "cell_type": "code",
   "execution_count": 31,
   "id": "11161b2e",
   "metadata": {},
   "outputs": [
    {
     "data": {
      "text/plain": [
       "{'verbose': 1, 'epochs': 30, 'steps': 1719}"
      ]
     },
     "execution_count": 31,
     "metadata": {},
     "output_type": "execute_result"
    }
   ],
   "source": [
    "history.params"
   ]
  },
  {
   "cell_type": "code",
   "execution_count": 32,
   "id": "9d688819",
   "metadata": {},
   "outputs": [
    {
     "name": "stdout",
     "output_type": "stream",
     "text": [
      "[0, 1, 2, 3, 4, 5, 6, 7, 8, 9, 10, 11, 12, 13, 14, 15, 16, 17, 18, 19, 20, 21, 22, 23, 24, 25, 26, 27, 28, 29]\n"
     ]
    }
   ],
   "source": [
    "print(history.epoch)"
   ]
  },
  {
   "cell_type": "code",
   "execution_count": 33,
   "id": "d69bd5b8",
   "metadata": {},
   "outputs": [
    {
     "data": {
      "text/plain": [
       "dict_keys(['loss', 'accuracy', 'val_loss', 'val_accuracy'])"
      ]
     },
     "execution_count": 33,
     "metadata": {},
     "output_type": "execute_result"
    }
   ],
   "source": [
    "history.history.keys()"
   ]
  },
  {
   "cell_type": "code",
   "execution_count": 34,
   "id": "8071fe4b",
   "metadata": {},
   "outputs": [
    {
     "data": {
      "image/png": "[encoded data removed]",
      "text/plain": [
       "<Figure size 576x360 with 1 Axes>"
      ]
     },
     "metadata": {
      "needs_background": "light"
     },
     "output_type": "display_data"
    }
   ],
   "source": [
    "# 학습 곡선 시각화\n",
    "\n",
    "import pandas as pd\n",
    "\n",
    "pd.DataFrame(history.history).plot(figsize=(8, 5))\n",
    "plt.grid(True)\n",
    "plt.gca().set_ylim(0, 1) # y축 범위 0 ~ 1사이로 설정\n",
    "plt.show()"
   ]
  },
  {
   "cell_type": "code",
   "execution_count": 35,
   "id": "1d21f9b7",
   "metadata": {},
   "outputs": [
    {
     "name": "stdout",
     "output_type": "stream",
     "text": [
      "313/313 [==============================] - 0s 991us/step - loss: 0.3315 - accuracy: 0.8830\n"
     ]
    },
    {
     "data": {
      "text/plain": [
       "[0.3314962685108185, 0.8830000162124634]"
      ]
     },
     "execution_count": 35,
     "metadata": {},
     "output_type": "execute_result"
    }
   ],
   "source": [
    "# 모델 평가\n",
    "model.evaluate(X_test, y_test)"
   ]
  },
  {
   "cell_type": "markdown",
   "id": "d6246ca3",
   "metadata": {},
   "source": [
    "### 모델을 사용해 예측을 만들기"
   ]
  },
  {
   "cell_type": "code",
   "execution_count": 36,
   "id": "afc543e0",
   "metadata": {},
   "outputs": [
    {
     "data": {
      "text/plain": [
       "array([[0.  , 0.  , 0.  , 0.  , 0.  , 0.  , 0.  , 0.02, 0.  , 0.97],\n",
       "       [0.  , 0.  , 1.  , 0.  , 0.  , 0.  , 0.  , 0.  , 0.  , 0.  ],\n",
       "       [0.  , 1.  , 0.  , 0.  , 0.  , 0.  , 0.  , 0.  , 0.  , 0.  ]],\n",
       "      dtype=float32)"
      ]
     },
     "execution_count": 36,
     "metadata": {},
     "output_type": "execute_result"
    }
   ],
   "source": [
    "X_new = X_test[:3]\n",
    "y_proba = model.predict(X_new)\n",
    "y_proba.round(2)"
   ]
  },
  {
   "cell_type": "code",
   "execution_count": 39,
   "id": "735ad9e6",
   "metadata": {},
   "outputs": [
    {
     "data": {
      "text/plain": [
       "array([9, 2, 1], dtype=int64)"
      ]
     },
     "execution_count": 39,
     "metadata": {},
     "output_type": "execute_result"
    }
   ],
   "source": [
    "import numpy as np\n",
    "\n",
    "y_pred = np.argmax(model.predict(X_new), axis=-1)\n",
    "y_pred"
   ]
  },
  {
   "cell_type": "code",
   "execution_count": 40,
   "id": "61f54803",
   "metadata": {},
   "outputs": [
    {
     "data": {
      "text/plain": [
       "array(['Ankle boot', 'Pullover', 'trouser'], dtype='<U11')"
      ]
     },
     "execution_count": 40,
     "metadata": {},
     "output_type": "execute_result"
    }
   ],
   "source": [
    "np.array(class_names)[y_pred]\n",
    "\n",
    "# 잘 분류된것을 확인"
   ]
  },
  {
   "cell_type": "code",
   "execution_count": 41,
   "id": "2c1bc640",
   "metadata": {},
   "outputs": [
    {
     "data": {
      "text/plain": [
       "array([9, 2, 1], dtype=uint8)"
      ]
     },
     "execution_count": 41,
     "metadata": {},
     "output_type": "execute_result"
    }
   ],
   "source": [
    "y_new = y_test[:3]\n",
    "y_new"
   ]
  },
  {
   "cell_type": "markdown",
   "id": "43829700",
   "metadata": {},
   "source": [
    "# 2. 시퀀셜 API를 사용하여 회귀용 다층 펍셉트론 만들기\n",
    "- 캘리포니아 주택 가격 데이터셋으로 바꾸어 회귀 신경망으로 이를 해결"
   ]
  },
  {
   "cell_type": "code",
   "execution_count": 42,
   "id": "9fa89041",
   "metadata": {},
   "outputs": [],
   "source": [
    "# 데이터를 적재한 후 훈련 세트, 검증 세트, 테스트 세트로 나누고 모든 특성이 스케일을 조정\n",
    "\n",
    "from sklearn.datasets import fetch_california_housing\n",
    "from sklearn.model_selection import train_test_split\n",
    "from sklearn.preprocessing import StandardScaler\n",
    "\n",
    "housing = fetch_california_housing()\n",
    "\n",
    "X_train_full, X_test, y_train_full, y_test = train_test_split(housing.data, housing.target)\n",
    "X_train, X_valid, y_train, y_valid = train_test_split(X_train_full, y_train_full)\n",
    "\n",
    "scaler = StandardScaler()\n",
    "X_train = scaler.fit_transform(X_train)\n",
    "X_valid = scaler.fit_transform(X_valid)\n",
    "X_test = scaler.fit_transform(X_test)"
   ]
  },
  {
   "cell_type": "markdown",
   "id": "9c0b32b1",
   "metadata": {},
   "source": [
    "#### 분류 방식과 비슷하나 차이점은 출력층이 활성화 함수가 없는 하나의 뉴런을 가진다는 것과 손실함수로 평균 제곰 오차를 사용한다는 것!\n"
   ]
  },
  {
   "cell_type": "code",
   "execution_count": null,
   "id": "157cd22c",
   "metadata": {},
   "outputs": [],
   "source": []
  },
  {
   "cell_type": "code",
   "execution_count": 49,
   "id": "429cd261",
   "metadata": {
    "collapsed": true
   },
   "outputs": [
    {
     "name": "stdout",
     "output_type": "stream",
     "text": [
      "Epoch 1/20\n",
      "363/363 [==============================] - 1s 1ms/step - loss: 0.7661 - val_loss: 1.6374\n",
      "Epoch 2/20\n",
      "363/363 [==============================] - 0s 845us/step - loss: 1.7987 - val_loss: 0.7782\n",
      "Epoch 3/20\n",
      "363/363 [==============================] - 0s 904us/step - loss: 1.8798 - val_loss: 0.6436\n",
      "Epoch 4/20\n",
      "363/363 [==============================] - 0s 876us/step - loss: 0.4124 - val_loss: 0.6090\n",
      "Epoch 5/20\n",
      "363/363 [==============================] - 0s 865us/step - loss: 0.4043 - val_loss: 0.5222\n",
      "Epoch 6/20\n",
      "363/363 [==============================] - 0s 861us/step - loss: 0.3852 - val_loss: 0.5179\n",
      "Epoch 7/20\n",
      "363/363 [==============================] - 0s 846us/step - loss: 0.3725 - val_loss: 0.5109\n",
      "Epoch 8/20\n",
      "363/363 [==============================] - 0s 900us/step - loss: 0.3858 - val_loss: 0.5122\n",
      "Epoch 9/20\n",
      "363/363 [==============================] - 0s 841us/step - loss: 0.3892 - val_loss: 0.5279\n",
      "Epoch 10/20\n",
      "363/363 [==============================] - 0s 859us/step - loss: 0.3661 - val_loss: 0.5024\n",
      "Epoch 11/20\n",
      "363/363 [==============================] - 0s 887us/step - loss: 0.3619 - val_loss: 0.4987\n",
      "Epoch 12/20\n",
      "363/363 [==============================] - 0s 834us/step - loss: 0.3534 - val_loss: 0.5024\n",
      "Epoch 13/20\n",
      "363/363 [==============================] - 0s 848us/step - loss: 0.3510 - val_loss: 0.5009\n",
      "Epoch 14/20\n",
      "363/363 [==============================] - 0s 881us/step - loss: 0.3504 - val_loss: 0.4982\n",
      "Epoch 15/20\n",
      "363/363 [==============================] - 0s 850us/step - loss: 0.3468 - val_loss: 0.4911\n",
      "Epoch 16/20\n",
      "363/363 [==============================] - 0s 835us/step - loss: 0.3440 - val_loss: 0.5019\n",
      "Epoch 17/20\n",
      "363/363 [==============================] - 0s 887us/step - loss: 0.3420 - val_loss: 0.4930\n",
      "Epoch 18/20\n",
      "363/363 [==============================] - 0s 855us/step - loss: 0.3401 - val_loss: 0.4952\n",
      "Epoch 19/20\n",
      "363/363 [==============================] - 0s 865us/step - loss: 0.3388 - val_loss: 0.4941\n",
      "Epoch 20/20\n",
      "363/363 [==============================] - 0s 862us/step - loss: 0.3376 - val_loss: 0.4825\n",
      "162/162 [==============================] - 0s 578us/step - loss: 0.4253\n",
      "WARNING:tensorflow:5 out of the last 6 calls to <function Model.make_predict_function.<locals>.predict_function at 0x0000017839441D30> triggered tf.function retracing. Tracing is expensive and the excessive number of tracings could be due to (1) creating @tf.function repeatedly in a loop, (2) passing tensors with different shapes, (3) passing Python objects instead of tensors. For (1), please define your @tf.function outside of the loop. For (2), @tf.function has experimental_relax_shapes=True option that relaxes argument shapes that can avoid unnecessary retracing. For (3), please refer to https://www.tensorflow.org/guide/function#controlling_retracing and https://www.tensorflow.org/api_docs/python/tf/function for  more details.\n"
     ]
    }
   ],
   "source": [
    "# 데이터셋에 잡음이 많기 때문에 과대적합을 막는 용도로 뉴런 수가 적은 은닉층 하나만 사용\n",
    "\n",
    "model = keras.models.Sequential([\n",
    "    keras.layers.Dense(30, activation=\"relu\", input_shape=X_train.shape[1:]),\n",
    "    keras.layers.Dense(1)\n",
    "])\n",
    "\n",
    "# 모델 컴파일\n",
    "model.compile(loss = \"mean_squared_error\", optimizer=\"sgd\")\n",
    "\n",
    "# 모델 학습\n",
    "history = model.fit(X_train, y_train, epochs=20,\n",
    "                   validation_data=(X_valid, y_valid))\n",
    "\n",
    "# 모델 평가\n",
    "mse_test = model.evaluate(X_test, y_test)\n",
    "\n",
    "# 테스트\n",
    "X_new = X_test[:3]   # 새로운 샘플이라고 생각\n",
    "y_pred = model.predict(X_new)"
   ]
  },
  {
   "cell_type": "code",
   "execution_count": null,
   "id": "c2ddb711",
   "metadata": {},
   "outputs": [],
   "source": [
    "plt.plot(pd.DataFrame(history.history))\n",
    "plt.grid(True)\n",
    "plt.gca().set_ylim(0, 1)\n",
    "plt.show()"
   ]
  },
  {
   "cell_type": "markdown",
   "id": "4e4527ba",
   "metadata": {},
   "source": [
    "# 함수형 API를 사용해 복잡한 모델 만들기\n",
    "- 입력과 출력이 여러 개거나 더 복잡한 넽트워크 토폴로지를 갖는 신경망을 만들어야 할 때\n",
    "\n",
    "## 와이드 & 딥 신경망 (Wide & Deep)\n",
    "- 이 신경마은 같은 입력의 일부 또는 전체가 출력층에 바로 연결되는 구조\n",
    "- 복잡한 패턴과 간단한 규칙을 모두 학습할 수 있는 구조\n",
    "(데이터에 있는 간단한 패턴이 연속된 변환으로 인해 왜곡될 수 있음)"
   ]
  },
  {
   "cell_type": "code",
   "execution_count": 51,
   "id": "dfe0a23d",
   "metadata": {},
   "outputs": [],
   "source": [
    "# 캘리포니아 주택 데이터셋\n",
    "\n",
    "input_ = keras.layers.Input(shape=X_train.shape[1:])\n",
    "hidden1 = keras.layers.Dense(30, activation=\"relu\")(input_)\n",
    "hidden2 = keras.layers.Dense(30, activation=\"relu\")(hidden1)\n",
    "concat = keras.layers.concatenate([input_, hidden2])\n",
    "output = keras.layers.Dense(1)(concat)\n",
    "model = keras.models.Model(inputs=[input_], outputs=[output])"
   ]
  },
  {
   "cell_type": "code",
   "execution_count": 52,
   "id": "dc7543f8",
   "metadata": {},
   "outputs": [
    {
     "name": "stdout",
     "output_type": "stream",
     "text": [
      "Model: \"model\"\n",
      "__________________________________________________________________________________________________\n",
      " Layer (type)                   Output Shape         Param #     Connected to                     \n",
      "==================================================================================================\n",
      " input_1 (InputLayer)           [(None, 8)]          0           []                               \n",
      "                                                                                                  \n",
      " dense_17 (Dense)               (None, 30)           270         ['input_1[0][0]']                \n",
      "                                                                                                  \n",
      " dense_18 (Dense)               (None, 30)           930         ['dense_17[0][0]']               \n",
      "                                                                                                  \n",
      " concatenate (Concatenate)      (None, 38)           0           ['input_1[0][0]',                \n",
      "                                                                  'dense_18[0][0]']               \n",
      "                                                                                                  \n",
      " dense_19 (Dense)               (None, 1)            39          ['concatenate[0][0]']            \n",
      "                                                                                                  \n",
      "==================================================================================================\n",
      "Total params: 1,239\n",
      "Trainable params: 1,239\n",
      "Non-trainable params: 0\n",
      "__________________________________________________________________________________________________\n"
     ]
    }
   ],
   "source": [
    "model.summary()"
   ]
  },
  {
   "cell_type": "code",
   "execution_count": 53,
   "id": "71a4c80e",
   "metadata": {
    "scrolled": true
   },
   "outputs": [
    {
     "name": "stdout",
     "output_type": "stream",
     "text": [
      "Epoch 1/20\n",
      "363/363 [==============================] - 1s 1ms/step - loss: 2.0015 - val_loss: 0.8327\n",
      "Epoch 2/20\n",
      "363/363 [==============================] - 0s 915us/step - loss: 0.7612 - val_loss: 0.7165\n",
      "Epoch 3/20\n",
      "363/363 [==============================] - 0s 942us/step - loss: 0.6914 - val_loss: 0.6730\n",
      "Epoch 4/20\n",
      "363/363 [==============================] - 0s 956us/step - loss: 0.6535 - val_loss: 0.6411\n",
      "Epoch 5/20\n",
      "363/363 [==============================] - 0s 917us/step - loss: 0.6248 - val_loss: 0.6167\n",
      "Epoch 6/20\n",
      "363/363 [==============================] - 0s 947us/step - loss: 0.6006 - val_loss: 0.5997\n",
      "Epoch 7/20\n",
      "363/363 [==============================] - 0s 958us/step - loss: 0.5819 - val_loss: 0.5830\n",
      "Epoch 8/20\n",
      "363/363 [==============================] - 0s 945us/step - loss: 0.5648 - val_loss: 0.5651\n",
      "Epoch 9/20\n",
      "363/363 [==============================] - 0s 920us/step - loss: 0.5500 - val_loss: 0.5524\n",
      "Epoch 10/20\n",
      "363/363 [==============================] - 0s 951us/step - loss: 0.5384 - val_loss: 0.5388\n",
      "Epoch 11/20\n",
      "363/363 [==============================] - 0s 948us/step - loss: 0.5259 - val_loss: 0.5312\n",
      "Epoch 12/20\n",
      "363/363 [==============================] - 0s 936us/step - loss: 0.5175 - val_loss: 0.5197\n",
      "Epoch 13/20\n",
      "363/363 [==============================] - 0s 926us/step - loss: 0.5081 - val_loss: 0.5133\n",
      "Epoch 14/20\n",
      "363/363 [==============================] - 0s 909us/step - loss: 0.5020 - val_loss: 0.5075\n",
      "Epoch 15/20\n",
      "363/363 [==============================] - 0s 950us/step - loss: 0.4943 - val_loss: 0.4985\n",
      "Epoch 16/20\n",
      "363/363 [==============================] - 0s 917us/step - loss: 0.4871 - val_loss: 0.4928\n",
      "Epoch 17/20\n",
      "363/363 [==============================] - 0s 931us/step - loss: 0.4829 - val_loss: 0.4875\n",
      "Epoch 18/20\n",
      "363/363 [==============================] - 0s 903us/step - loss: 0.4766 - val_loss: 0.4838\n",
      "Epoch 19/20\n",
      "363/363 [==============================] - 0s 1ms/step - loss: 0.4715 - val_loss: 0.4768\n",
      "Epoch 20/20\n",
      "363/363 [==============================] - 0s 961us/step - loss: 0.4668 - val_loss: 0.4729\n",
      "162/162 [==============================] - 0s 609us/step - loss: 0.5254\n",
      "WARNING:tensorflow:6 out of the last 7 calls to <function Model.make_predict_function.<locals>.predict_function at 0x00000178395DE3A0> triggered tf.function retracing. Tracing is expensive and the excessive number of tracings could be due to (1) creating @tf.function repeatedly in a loop, (2) passing tensors with different shapes, (3) passing Python objects instead of tensors. For (1), please define your @tf.function outside of the loop. For (2), @tf.function has experimental_relax_shapes=True option that relaxes argument shapes that can avoid unnecessary retracing. For (3), please refer to https://www.tensorflow.org/guide/function#controlling_retracing and https://www.tensorflow.org/api_docs/python/tf/function for  more details.\n"
     ]
    }
   ],
   "source": [
    "model.compile(loss=\"mean_squared_error\", optimizer=keras.optimizers.SGD(learning_rate=1e-3))\n",
    "history = model.fit(X_train, y_train, epochs=20,\n",
    "                    validation_data=(X_valid, y_valid))\n",
    "mse_test = model.evaluate(X_test, y_test)\n",
    "y_pred = model.predict(X_new)"
   ]
  },
  {
   "cell_type": "markdown",
   "id": "edfe8070",
   "metadata": {},
   "source": [
    "#### 여러개의 입력 다루기"
   ]
  },
  {
   "cell_type": "code",
   "execution_count": 55,
   "id": "27bc33dd",
   "metadata": {},
   "outputs": [],
   "source": [
    "input_A = keras.layers.Input(shape=[5], name=\"wide_input\")\n",
    "input_B = keras.layers.Input(shape=[6], name=\"deep_input\")\n",
    "hidden1 = keras.layers.Dense(30, activation=\"relu\")(input_B)\n",
    "hidden2 = keras.layers.Dense(30, activation=\"relu\")(hidden1)\n",
    "concat = keras.layers.concatenate([input_A, hidden2])\n",
    "output = keras.layers.Dense(1, name=\"output\")(concat)\n",
    "model = keras.models.Model(inputs=[input_A, input_B], outputs=[output])"
   ]
  },
  {
   "cell_type": "code",
   "execution_count": 56,
   "id": "a1fc8312",
   "metadata": {
    "scrolled": true
   },
   "outputs": [
    {
     "name": "stdout",
     "output_type": "stream",
     "text": [
      "Epoch 1/20\n",
      "363/363 [==============================] - 1s 1ms/step - loss: 1.7632 - val_loss: 0.8288\n",
      "Epoch 2/20\n",
      "363/363 [==============================] - 0s 1ms/step - loss: 0.7082 - val_loss: 0.6600\n",
      "Epoch 3/20\n",
      "363/363 [==============================] - 0s 1ms/step - loss: 0.6007 - val_loss: 0.6215\n",
      "Epoch 4/20\n",
      "363/363 [==============================] - 0s 1ms/step - loss: 0.5674 - val_loss: 0.5816\n",
      "Epoch 5/20\n",
      "363/363 [==============================] - 0s 978us/step - loss: 0.5439 - val_loss: 0.5588\n",
      "Epoch 6/20\n",
      "363/363 [==============================] - 0s 964us/step - loss: 0.5267 - val_loss: 0.5460\n",
      "Epoch 7/20\n",
      "363/363 [==============================] - 0s 998us/step - loss: 0.5123 - val_loss: 0.5239\n",
      "Epoch 8/20\n",
      "363/363 [==============================] - 0s 992us/step - loss: 0.5020 - val_loss: 0.5168\n",
      "Epoch 9/20\n",
      "363/363 [==============================] - 0s 1ms/step - loss: 0.4931 - val_loss: 0.5132\n",
      "Epoch 10/20\n",
      "363/363 [==============================] - 0s 989us/step - loss: 0.4833 - val_loss: 0.4931\n",
      "Epoch 11/20\n",
      "363/363 [==============================] - 0s 959us/step - loss: 0.4768 - val_loss: 0.4903\n",
      "Epoch 12/20\n",
      "363/363 [==============================] - 0s 978us/step - loss: 0.4692 - val_loss: 0.4803\n",
      "Epoch 13/20\n",
      "363/363 [==============================] - 0s 938us/step - loss: 0.4657 - val_loss: 0.4783\n",
      "Epoch 14/20\n",
      "363/363 [==============================] - 0s 970us/step - loss: 0.4587 - val_loss: 0.4665\n",
      "Epoch 15/20\n",
      "363/363 [==============================] - 0s 975us/step - loss: 0.4556 - val_loss: 0.4630\n",
      "Epoch 16/20\n",
      "363/363 [==============================] - 0s 939us/step - loss: 0.4512 - val_loss: 0.4608\n",
      "Epoch 17/20\n",
      "363/363 [==============================] - 0s 992us/step - loss: 0.4471 - val_loss: 0.4576\n",
      "Epoch 18/20\n",
      "363/363 [==============================] - 0s 942us/step - loss: 0.4418 - val_loss: 0.4579\n",
      "Epoch 19/20\n",
      "363/363 [==============================] - 0s 984us/step - loss: 0.4383 - val_loss: 0.4478\n",
      "Epoch 20/20\n",
      "363/363 [==============================] - 0s 994us/step - loss: 0.4358 - val_loss: 0.4493\n",
      "162/162 [==============================] - 0s 670us/step - loss: 0.5050\n"
     ]
    }
   ],
   "source": [
    "model.compile(loss=\"mse\", optimizer=keras.optimizers.SGD(learning_rate=1e-3))\n",
    "\n",
    "X_train_A, X_train_B = X_train[:, :5], X_train[:, 2:]\n",
    "X_valid_A, X_valid_B = X_valid[:, :5], X_valid[:, 2:]\n",
    "X_test_A, X_test_B = X_test[:, :5], X_test[:, 2:]\n",
    "X_new_A, X_new_B = X_test_A[:3], X_test_B[:3]\n",
    "\n",
    "history = model.fit((X_train_A, X_train_B), y_train, epochs=20,\n",
    "                    validation_data=((X_valid_A, X_valid_B), y_valid))\n",
    "mse_test = model.evaluate((X_test_A, X_test_B), y_test)\n",
    "y_pred = model.predict((X_new_A, X_new_B))"
   ]
  },
  {
   "cell_type": "markdown",
   "id": "1a306623",
   "metadata": {},
   "source": [
    "#### 여러개의 출력 다루기"
   ]
  },
  {
   "cell_type": "code",
   "execution_count": 57,
   "id": "472b2459",
   "metadata": {},
   "outputs": [],
   "source": [
    "input_A = keras.layers.Input(shape=[5], name=\"wide_input\")\n",
    "input_B = keras.layers.Input(shape=[6], name=\"deep_input\")\n",
    "hidden1 = keras.layers.Dense(30, activation=\"relu\")(input_B)\n",
    "hidden2 = keras.layers.Dense(30, activation=\"relu\")(hidden1)\n",
    "concat = keras.layers.concatenate([input_A, hidden2])\n",
    "output = keras.layers.Dense(1, name=\"main_output\")(concat)\n",
    "aux_output = keras.layers.Dense(1, name=\"aux_output\")(hidden2)\n",
    "model = keras.models.Model(inputs=[input_A, input_B],\n",
    "                           outputs=[output, aux_output])\n"
   ]
  },
  {
   "cell_type": "code",
   "execution_count": 58,
   "id": "2493c009",
   "metadata": {},
   "outputs": [],
   "source": [
    "model.compile(loss=[\"mse\", \"mse\"], loss_weights=[0.9, 0.1], optimizer=keras.optimizers.SGD(learning_rate=1e-3))\n"
   ]
  },
  {
   "cell_type": "code",
   "execution_count": 59,
   "id": "9fb2901c",
   "metadata": {
    "scrolled": true
   },
   "outputs": [
    {
     "name": "stdout",
     "output_type": "stream",
     "text": [
      "Epoch 1/20\n",
      "363/363 [==============================] - 1s 2ms/step - loss: 2.0385 - main_output_loss: 1.7975 - aux_output_loss: 4.2074 - val_loss: 1.1518 - val_main_output_loss: 0.9056 - val_aux_output_loss: 3.3680\n",
      "Epoch 2/20\n",
      "363/363 [==============================] - 0s 1ms/step - loss: 0.9710 - main_output_loss: 0.7744 - aux_output_loss: 2.7403 - val_loss: 0.8970 - val_main_output_loss: 0.7324 - val_aux_output_loss: 2.3780\n",
      "Epoch 3/20\n",
      "363/363 [==============================] - 0s 1ms/step - loss: 0.8002 - main_output_loss: 0.6628 - aux_output_loss: 2.0372 - val_loss: 0.7932 - val_main_output_loss: 0.6732 - val_aux_output_loss: 1.8730\n",
      "Epoch 4/20\n",
      "363/363 [==============================] - 0s 1ms/step - loss: 0.7220 - main_output_loss: 0.6144 - aux_output_loss: 1.6904 - val_loss: 0.7267 - val_main_output_loss: 0.6266 - val_aux_output_loss: 1.6281\n",
      "Epoch 5/20\n",
      "363/363 [==============================] - 0s 1ms/step - loss: 0.6767 - main_output_loss: 0.5826 - aux_output_loss: 1.5234 - val_loss: 0.6884 - val_main_output_loss: 0.5979 - val_aux_output_loss: 1.5034\n",
      "Epoch 6/20\n",
      "363/363 [==============================] - 0s 1ms/step - loss: 0.6465 - main_output_loss: 0.5593 - aux_output_loss: 1.4319 - val_loss: 0.6625 - val_main_output_loss: 0.5778 - val_aux_output_loss: 1.4247\n",
      "Epoch 7/20\n",
      "363/363 [==============================] - 0s 1ms/step - loss: 0.6231 - main_output_loss: 0.5403 - aux_output_loss: 1.3681 - val_loss: 0.6354 - val_main_output_loss: 0.5530 - val_aux_output_loss: 1.3771\n",
      "Epoch 8/20\n",
      "363/363 [==============================] - 0s 1ms/step - loss: 0.6055 - main_output_loss: 0.5253 - aux_output_loss: 1.3275 - val_loss: 0.6201 - val_main_output_loss: 0.5410 - val_aux_output_loss: 1.3322\n",
      "Epoch 9/20\n",
      "363/363 [==============================] - 0s 1ms/step - loss: 0.5901 - main_output_loss: 0.5125 - aux_output_loss: 1.2888 - val_loss: 0.6071 - val_main_output_loss: 0.5302 - val_aux_output_loss: 1.2989\n",
      "Epoch 10/20\n",
      "363/363 [==============================] - 0s 1ms/step - loss: 0.5764 - main_output_loss: 0.5009 - aux_output_loss: 1.2563 - val_loss: 0.5897 - val_main_output_loss: 0.5138 - val_aux_output_loss: 1.2727\n",
      "Epoch 11/20\n",
      "363/363 [==============================] - 0s 1ms/step - loss: 0.5653 - main_output_loss: 0.4915 - aux_output_loss: 1.2300 - val_loss: 0.5816 - val_main_output_loss: 0.5077 - val_aux_output_loss: 1.2470\n",
      "Epoch 12/20\n",
      "363/363 [==============================] - 0s 1ms/step - loss: 0.5553 - main_output_loss: 0.4833 - aux_output_loss: 1.2038 - val_loss: 0.5700 - val_main_output_loss: 0.4974 - val_aux_output_loss: 1.2233\n",
      "Epoch 13/20\n",
      "363/363 [==============================] - 0s 1ms/step - loss: 0.5475 - main_output_loss: 0.4772 - aux_output_loss: 1.1810 - val_loss: 0.5627 - val_main_output_loss: 0.4917 - val_aux_output_loss: 1.2012\n",
      "Epoch 14/20\n",
      "363/363 [==============================] - 0s 1ms/step - loss: 0.5400 - main_output_loss: 0.4713 - aux_output_loss: 1.1592 - val_loss: 0.5542 - val_main_output_loss: 0.4846 - val_aux_output_loss: 1.1802\n",
      "Epoch 15/20\n",
      "363/363 [==============================] - 0s 1ms/step - loss: 0.5337 - main_output_loss: 0.4665 - aux_output_loss: 1.1381 - val_loss: 0.5479 - val_main_output_loss: 0.4797 - val_aux_output_loss: 1.1615\n",
      "Epoch 16/20\n",
      "363/363 [==============================] - 0s 1ms/step - loss: 0.5275 - main_output_loss: 0.4619 - aux_output_loss: 1.1178 - val_loss: 0.5425 - val_main_output_loss: 0.4759 - val_aux_output_loss: 1.1421\n",
      "Epoch 17/20\n",
      "363/363 [==============================] - 0s 1ms/step - loss: 0.5213 - main_output_loss: 0.4573 - aux_output_loss: 1.0971 - val_loss: 0.5353 - val_main_output_loss: 0.4704 - val_aux_output_loss: 1.1199\n",
      "Epoch 18/20\n",
      "363/363 [==============================] - 0s 1ms/step - loss: 0.5149 - main_output_loss: 0.4526 - aux_output_loss: 1.0757 - val_loss: 0.5306 - val_main_output_loss: 0.4672 - val_aux_output_loss: 1.1010\n",
      "Epoch 19/20\n",
      "363/363 [==============================] - 0s 1ms/step - loss: 0.5100 - main_output_loss: 0.4492 - aux_output_loss: 1.0572 - val_loss: 0.5237 - val_main_output_loss: 0.4614 - val_aux_output_loss: 1.0840\n",
      "Epoch 20/20\n",
      "363/363 [==============================] - 0s 1ms/step - loss: 0.5058 - main_output_loss: 0.4463 - aux_output_loss: 1.0408 - val_loss: 0.5198 - val_main_output_loss: 0.4589 - val_aux_output_loss: 1.0681\n"
     ]
    }
   ],
   "source": [
    "# 개별 손실과 총 손실을 반환\n",
    "\n",
    "history = model.fit([X_train_A, X_train_B], [y_train, y_train], epochs=20,\n",
    "                    validation_data=([X_valid_A, X_valid_B], [y_valid, y_valid]))"
   ]
  },
  {
   "cell_type": "code",
   "execution_count": 60,
   "id": "d0ae6848",
   "metadata": {},
   "outputs": [
    {
     "name": "stdout",
     "output_type": "stream",
     "text": [
      "162/162 [==============================] - 0s 777us/step - loss: 0.5658 - main_output_loss: 0.5093 - aux_output_loss: 1.0745\n"
     ]
    }
   ],
   "source": [
    "# 모델 평가\n",
    "total_loss, main_loss, aux_loss = model.evaluate(\n",
    "    [X_test_A, X_test_B], [y_test, y_test])\n",
    "y_pred_main, y_pred_aux = model.predict([X_new_A, X_new_B])"
   ]
  },
  {
   "cell_type": "markdown",
   "id": "ffffa719",
   "metadata": {},
   "source": [
    "# 서브클래싱 API로 동적 모델 만들기"
   ]
  },
  {
   "cell_type": "code",
   "execution_count": 61,
   "id": "eaf6ffb1",
   "metadata": {},
   "outputs": [],
   "source": [
    "class WideAndDeepModel(keras.models.Model):\n",
    "    def __init__(self, units=30, activation=\"relu\", **kwargs):\n",
    "        super().__init__(**kwargs)\n",
    "        self.hidden1 = keras.layers.Dense(units, activation=activation)\n",
    "        self.hidden2 = keras.layers.Dense(units, activation=activation)\n",
    "        self.main_output = keras.layers.Dense(1)\n",
    "        self.aux_output = keras.layers.Dense(1)\n",
    "        \n",
    "    def call(self, inputs):\n",
    "        input_A, input_B = inputs\n",
    "        hidden1 = self.hidden1(input_B)\n",
    "        hidden2 = self.hidden2(hidden1)\n",
    "        concat = keras.layers.concatenate([input_A, hidden2])\n",
    "        main_output = self.main_output(concat)\n",
    "        aux_output = self.aux_output(hidden2)\n",
    "        return main_output, aux_output\n",
    "\n",
    "model = WideAndDeepModel(30, activation=\"relu\")"
   ]
  },
  {
   "cell_type": "code",
   "execution_count": 62,
   "id": "b87b6b64",
   "metadata": {
    "scrolled": true
   },
   "outputs": [
    {
     "name": "stdout",
     "output_type": "stream",
     "text": [
      "Epoch 1/10\n",
      "363/363 [==============================] - 1s 2ms/step - loss: 2.5189 - output_1_loss: 2.3586 - output_2_loss: 3.9616 - val_loss: 1.5717 - val_output_1_loss: 1.3929 - val_output_2_loss: 3.1808\n",
      "Epoch 2/10\n",
      "363/363 [==============================] - 0s 1ms/step - loss: 1.0098 - output_1_loss: 0.8569 - output_2_loss: 2.3861 - val_loss: 0.8806 - val_output_1_loss: 0.7459 - val_output_2_loss: 2.0924\n",
      "Epoch 3/10\n",
      "363/363 [==============================] - 0s 1ms/step - loss: 0.7751 - output_1_loss: 0.6656 - output_2_loss: 1.7602 - val_loss: 0.7588 - val_output_1_loss: 0.6567 - val_output_2_loss: 1.6773\n",
      "Epoch 4/10\n",
      "363/363 [==============================] - 0s 1ms/step - loss: 0.6939 - output_1_loss: 0.6073 - output_2_loss: 1.4735 - val_loss: 0.6906 - val_output_1_loss: 0.6050 - val_output_2_loss: 1.4606\n",
      "Epoch 5/10\n",
      "363/363 [==============================] - 0s 1ms/step - loss: 0.6451 - output_1_loss: 0.5696 - output_2_loss: 1.3253 - val_loss: 0.6484 - val_output_1_loss: 0.5711 - val_output_2_loss: 1.3437\n",
      "Epoch 6/10\n",
      "363/363 [==============================] - 0s 1ms/step - loss: 0.6109 - output_1_loss: 0.5407 - output_2_loss: 1.2424 - val_loss: 0.6176 - val_output_1_loss: 0.5452 - val_output_2_loss: 1.2688\n",
      "Epoch 7/10\n",
      "363/363 [==============================] - 0s 1ms/step - loss: 0.5846 - output_1_loss: 0.5178 - output_2_loss: 1.1867 - val_loss: 0.5917 - val_output_1_loss: 0.5218 - val_output_2_loss: 1.2209\n",
      "Epoch 8/10\n",
      "363/363 [==============================] - 0s 1ms/step - loss: 0.5640 - output_1_loss: 0.4991 - output_2_loss: 1.1479 - val_loss: 0.5739 - val_output_1_loss: 0.5067 - val_output_2_loss: 1.1790\n",
      "Epoch 9/10\n",
      "363/363 [==============================] - 0s 1ms/step - loss: 0.5480 - output_1_loss: 0.4851 - output_2_loss: 1.1136 - val_loss: 0.5612 - val_output_1_loss: 0.4962 - val_output_2_loss: 1.1464\n",
      "Epoch 10/10\n",
      "363/363 [==============================] - 0s 1ms/step - loss: 0.5345 - output_1_loss: 0.4735 - output_2_loss: 1.0837 - val_loss: 0.5456 - val_output_1_loss: 0.4818 - val_output_2_loss: 1.1195\n",
      "162/162 [==============================] - 0s 739us/step - loss: 0.5997 - output_1_loss: 0.5429 - output_2_loss: 1.1111\n"
     ]
    }
   ],
   "source": [
    "model.compile(loss=\"mse\", loss_weights=[0.9, 0.1], optimizer=keras.optimizers.SGD(learning_rate=1e-3))\n",
    "history = model.fit((X_train_A, X_train_B), (y_train, y_train), epochs=10,\n",
    "                    validation_data=((X_valid_A, X_valid_B), (y_valid, y_valid)))\n",
    "total_loss, main_loss, aux_loss = model.evaluate((X_test_A, X_test_B), (y_test, y_test))\n",
    "y_pred_main, y_pred_aux = model.predict((X_new_A, X_new_B))"
   ]
  },
  {
   "cell_type": "markdown",
   "id": "846e8d86",
   "metadata": {},
   "source": [
    "## 모델 저장과 복원"
   ]
  },
  {
   "cell_type": "code",
   "execution_count": 63,
   "id": "6cd83e8a",
   "metadata": {},
   "outputs": [],
   "source": [
    "model = keras.models.Sequential([\n",
    "    keras.layers.Dense(30, activation=\"relu\", input_shape=[8]),\n",
    "    keras.layers.Dense(30, activation=\"relu\"),\n",
    "    keras.layers.Dense(1)\n",
    "]) "
   ]
  },
  {
   "cell_type": "code",
   "execution_count": 64,
   "id": "8300304d",
   "metadata": {
    "collapsed": true
   },
   "outputs": [
    {
     "name": "stdout",
     "output_type": "stream",
     "text": [
      "Epoch 1/10\n",
      "363/363 [==============================] - 1s 1ms/step - loss: 2.5143 - val_loss: 1.5909\n",
      "Epoch 2/10\n",
      "363/363 [==============================] - 0s 887us/step - loss: 0.8626 - val_loss: 0.7180\n",
      "Epoch 3/10\n",
      "363/363 [==============================] - 0s 926us/step - loss: 0.6627 - val_loss: 0.6417\n",
      "Epoch 4/10\n",
      "363/363 [==============================] - 0s 870us/step - loss: 0.6113 - val_loss: 0.6003\n",
      "Epoch 5/10\n",
      "363/363 [==============================] - 0s 970us/step - loss: 0.5797 - val_loss: 0.5729\n",
      "Epoch 6/10\n",
      "363/363 [==============================] - 0s 884us/step - loss: 0.5558 - val_loss: 0.5508\n",
      "Epoch 7/10\n",
      "363/363 [==============================] - 0s 901us/step - loss: 0.5367 - val_loss: 0.5332\n",
      "Epoch 8/10\n",
      "363/363 [==============================] - 0s 865us/step - loss: 0.5205 - val_loss: 0.5185\n",
      "Epoch 9/10\n",
      "363/363 [==============================] - 0s 873us/step - loss: 0.5072 - val_loss: 0.5067\n",
      "Epoch 10/10\n",
      "363/363 [==============================] - 0s 873us/step - loss: 0.4955 - val_loss: 0.4948\n",
      "162/162 [==============================] - 0s 609us/step - loss: 0.5523\n"
     ]
    }
   ],
   "source": [
    "model.compile(loss=\"mse\", optimizer=keras.optimizers.SGD(learning_rate=1e-3))\n",
    "history = model.fit(X_train, y_train, epochs=10, validation_data=(X_valid, y_valid))\n",
    "mse_test = model.evaluate(X_test, y_test)"
   ]
  },
  {
   "cell_type": "code",
   "execution_count": 65,
   "id": "659ef612",
   "metadata": {},
   "outputs": [],
   "source": [
    "# 모델 저장\n",
    "model.save(\"my_keras_model.h5\")"
   ]
  },
  {
   "cell_type": "code",
   "execution_count": 66,
   "id": "69a3a7ce",
   "metadata": {},
   "outputs": [],
   "source": [
    "# 저장 모델 다시 불러오기\n",
    "\n",
    "model = keras.models.load_model(\"my_keras_model.h5\")"
   ]
  },
  {
   "cell_type": "code",
   "execution_count": 67,
   "id": "787a80d9",
   "metadata": {},
   "outputs": [
    {
     "data": {
      "text/plain": [
       "array([[1.6884105],\n",
       "       [0.892621 ],\n",
       "       [1.7517455]], dtype=float32)"
      ]
     },
     "execution_count": 67,
     "metadata": {},
     "output_type": "execute_result"
    }
   ],
   "source": [
    "# 불러 온 모델로 예측하기\n",
    "model.predict(X_new)"
   ]
  },
  {
   "cell_type": "markdown",
   "id": "055434ee",
   "metadata": {},
   "source": [
    "## 콜백 사용하기\n",
    "- fit() 메서드의 callback 매개변수를 사용하여 케라스가 훈련의 시작이나 끝에 호출할 객체리스트를 지정할 수 있음\n",
    "- 또는 에포크의 시작이나 끝, 각 배치 처리전후에 호출 가능"
   ]
  },
  {
   "cell_type": "code",
   "execution_count": 69,
   "id": "569d5634",
   "metadata": {},
   "outputs": [],
   "source": [
    "model = keras.models.Sequential([\n",
    "    keras.layers.Dense(30, activation=\"relu\", input_shape=[8]),\n",
    "    keras.layers.Dense(30, activation=\"relu\"),\n",
    "    keras.layers.Dense(1)\n",
    "])   "
   ]
  },
  {
   "cell_type": "code",
   "execution_count": 70,
   "id": "53ed7a7c",
   "metadata": {
    "scrolled": true
   },
   "outputs": [
    {
     "name": "stdout",
     "output_type": "stream",
     "text": [
      "Epoch 1/10\n",
      "363/363 [==============================] - 1s 1ms/step - loss: 1.6857 - val_loss: 0.9632\n",
      "Epoch 2/10\n",
      "363/363 [==============================] - 0s 950us/step - loss: 0.8032 - val_loss: 0.7557\n",
      "Epoch 3/10\n",
      "363/363 [==============================] - 0s 965us/step - loss: 0.6960 - val_loss: 0.6744\n",
      "Epoch 4/10\n",
      "363/363 [==============================] - 0s 948us/step - loss: 0.6350 - val_loss: 0.6155\n",
      "Epoch 5/10\n",
      "363/363 [==============================] - 0s 995us/step - loss: 0.5905 - val_loss: 0.5729\n",
      "Epoch 6/10\n",
      "363/363 [==============================] - 0s 1ms/step - loss: 0.5549 - val_loss: 0.5400\n",
      "Epoch 7/10\n",
      "363/363 [==============================] - 0s 942us/step - loss: 0.5259 - val_loss: 0.5120\n",
      "Epoch 8/10\n",
      "363/363 [==============================] - 0s 965us/step - loss: 0.5022 - val_loss: 0.4920\n",
      "Epoch 9/10\n",
      "363/363 [==============================] - 0s 1ms/step - loss: 0.4832 - val_loss: 0.4755\n",
      "Epoch 10/10\n",
      "363/363 [==============================] - 0s 978us/step - loss: 0.4670 - val_loss: 0.4594\n",
      "162/162 [==============================] - 0s 665us/step - loss: 0.5276\n"
     ]
    }
   ],
   "source": [
    "model.compile(loss=\"mse\", optimizer=keras.optimizers.SGD(learning_rate=1e-3))\n",
    "checkpoint_cb = keras.callbacks.ModelCheckpoint(\"my_keras_model.h5\", save_best_only=True) \n",
    "# save_best_only=True :최상의 검증 세트 점수만 모델에 저장\n",
    "\n",
    "history = model.fit(X_train, y_train, epochs=10,\n",
    "                    validation_data=(X_valid, y_valid),\n",
    "                    callbacks=[checkpoint_cb])\n",
    "\n",
    "model = keras.models.load_model(\"my_keras_model.h5\") # rollback to best model\n",
    "mse_test = model.evaluate(X_test, y_test)"
   ]
  },
  {
   "cell_type": "code",
   "execution_count": null,
   "id": "68bc8a6c",
   "metadata": {},
   "outputs": [],
   "source": []
  },
  {
   "cell_type": "markdown",
   "id": "273c3a3c",
   "metadata": {},
   "source": [
    "##### EarlyStopping :  일정 에포크동안 검증세트에 대한 점수가 향상되지 않으면 훈련 멈춤"
   ]
  },
  {
   "cell_type": "code",
   "execution_count": null,
   "id": "109cad24",
   "metadata": {},
   "outputs": [],
   "source": []
  },
  {
   "cell_type": "code",
   "execution_count": 71,
   "id": "8a27f687",
   "metadata": {
    "scrolled": true
   },
   "outputs": [
    {
     "name": "stdout",
     "output_type": "stream",
     "text": [
      "Epoch 1/100\n",
      "363/363 [==============================] - 1s 1ms/step - loss: 0.4542 - val_loss: 0.4474\n",
      "Epoch 2/100\n",
      "363/363 [==============================] - 0s 934us/step - loss: 0.4437 - val_loss: 0.4386\n",
      "Epoch 3/100\n",
      "363/363 [==============================] - 0s 994us/step - loss: 0.4347 - val_loss: 0.4353\n",
      "Epoch 4/100\n",
      "363/363 [==============================] - 0s 952us/step - loss: 0.4270 - val_loss: 0.4252\n",
      "Epoch 5/100\n",
      "363/363 [==============================] - 0s 965us/step - loss: 0.4205 - val_loss: 0.4207\n",
      "Epoch 6/100\n",
      "363/363 [==============================] - 0s 979us/step - loss: 0.4151 - val_loss: 0.4165\n",
      "Epoch 7/100\n",
      "363/363 [==============================] - 0s 950us/step - loss: 0.4100 - val_loss: 0.4114\n",
      "Epoch 8/100\n",
      "363/363 [==============================] - 0s 948us/step - loss: 0.4060 - val_loss: 0.4097\n",
      "Epoch 9/100\n",
      "363/363 [==============================] - 0s 947us/step - loss: 0.4022 - val_loss: 0.4066\n",
      "Epoch 10/100\n",
      "363/363 [==============================] - 0s 978us/step - loss: 0.3986 - val_loss: 0.4032\n",
      "Epoch 11/100\n",
      "363/363 [==============================] - 0s 926us/step - loss: 0.3955 - val_loss: 0.4038\n",
      "Epoch 12/100\n",
      "363/363 [==============================] - 0s 959us/step - loss: 0.3926 - val_loss: 0.3996\n",
      "Epoch 13/100\n",
      "363/363 [==============================] - 0s 915us/step - loss: 0.3903 - val_loss: 0.3980\n",
      "Epoch 14/100\n",
      "363/363 [==============================] - 0s 984us/step - loss: 0.3875 - val_loss: 0.3957\n",
      "Epoch 15/100\n",
      "363/363 [==============================] - 0s 972us/step - loss: 0.3853 - val_loss: 0.3930\n",
      "Epoch 16/100\n",
      "363/363 [==============================] - 0s 1ms/step - loss: 0.3833 - val_loss: 0.3929\n",
      "Epoch 17/100\n",
      "363/363 [==============================] - 0s 964us/step - loss: 0.3811 - val_loss: 0.3914\n",
      "Epoch 18/100\n",
      "363/363 [==============================] - 0s 962us/step - loss: 0.3790 - val_loss: 0.3914\n",
      "Epoch 19/100\n",
      "363/363 [==============================] - 0s 964us/step - loss: 0.3767 - val_loss: 0.3887\n",
      "Epoch 20/100\n",
      "363/363 [==============================] - 0s 915us/step - loss: 0.3751 - val_loss: 0.3875\n",
      "Epoch 21/100\n",
      "363/363 [==============================] - 0s 978us/step - loss: 0.3735 - val_loss: 0.3856\n",
      "Epoch 22/100\n",
      "363/363 [==============================] - 0s 981us/step - loss: 0.3718 - val_loss: 0.3856\n",
      "Epoch 23/100\n",
      "363/363 [==============================] - 0s 975us/step - loss: 0.3701 - val_loss: 0.3840\n",
      "Epoch 24/100\n",
      "363/363 [==============================] - 0s 937us/step - loss: 0.3687 - val_loss: 0.3831\n",
      "Epoch 25/100\n",
      "363/363 [==============================] - 0s 934us/step - loss: 0.3672 - val_loss: 0.3801\n",
      "Epoch 26/100\n",
      "363/363 [==============================] - 0s 945us/step - loss: 0.3657 - val_loss: 0.3801\n",
      "Epoch 27/100\n",
      "363/363 [==============================] - 0s 956us/step - loss: 0.3645 - val_loss: 0.3789\n",
      "Epoch 28/100\n",
      "363/363 [==============================] - 0s 953us/step - loss: 0.3632 - val_loss: 0.3781\n",
      "Epoch 29/100\n",
      "363/363 [==============================] - 0s 997us/step - loss: 0.3622 - val_loss: 0.3771\n",
      "Epoch 30/100\n",
      "363/363 [==============================] - 0s 940us/step - loss: 0.3610 - val_loss: 0.3761\n",
      "Epoch 31/100\n",
      "363/363 [==============================] - 0s 934us/step - loss: 0.3598 - val_loss: 0.3747\n",
      "Epoch 32/100\n",
      "363/363 [==============================] - 0s 956us/step - loss: 0.3587 - val_loss: 0.3737\n",
      "Epoch 33/100\n",
      "363/363 [==============================] - 0s 898us/step - loss: 0.3577 - val_loss: 0.3738\n",
      "Epoch 34/100\n",
      "363/363 [==============================] - 0s 926us/step - loss: 0.3566 - val_loss: 0.3715\n",
      "Epoch 35/100\n",
      "363/363 [==============================] - 0s 898us/step - loss: 0.3554 - val_loss: 0.3716\n",
      "Epoch 36/100\n",
      "363/363 [==============================] - 0s 962us/step - loss: 0.3548 - val_loss: 0.3706\n",
      "Epoch 37/100\n",
      "363/363 [==============================] - 0s 937us/step - loss: 0.3538 - val_loss: 0.3698\n",
      "Epoch 38/100\n",
      "363/363 [==============================] - 0s 890us/step - loss: 0.3528 - val_loss: 0.3703\n",
      "Epoch 39/100\n",
      "363/363 [==============================] - 0s 956us/step - loss: 0.3521 - val_loss: 0.3684\n",
      "Epoch 40/100\n",
      "363/363 [==============================] - 0s 909us/step - loss: 0.3511 - val_loss: 0.3678\n",
      "Epoch 41/100\n",
      "363/363 [==============================] - 0s 1ms/step - loss: 0.3505 - val_loss: 0.3668\n",
      "Epoch 42/100\n",
      "363/363 [==============================] - 0s 967us/step - loss: 0.3497 - val_loss: 0.3668\n",
      "Epoch 43/100\n",
      "363/363 [==============================] - 0s 958us/step - loss: 0.3487 - val_loss: 0.3667\n",
      "Epoch 44/100\n",
      "363/363 [==============================] - 0s 972us/step - loss: 0.3479 - val_loss: 0.3647\n",
      "Epoch 45/100\n",
      "363/363 [==============================] - 0s 884us/step - loss: 0.3473 - val_loss: 0.3651\n",
      "Epoch 46/100\n",
      "363/363 [==============================] - 0s 895us/step - loss: 0.3467 - val_loss: 0.3658\n",
      "Epoch 47/100\n",
      "363/363 [==============================] - 0s 923us/step - loss: 0.3458 - val_loss: 0.3643\n",
      "Epoch 48/100\n",
      "363/363 [==============================] - 0s 920us/step - loss: 0.3452 - val_loss: 0.3646\n",
      "Epoch 49/100\n",
      "363/363 [==============================] - 0s 939us/step - loss: 0.3443 - val_loss: 0.3641\n",
      "Epoch 50/100\n",
      "363/363 [==============================] - 0s 938us/step - loss: 0.3439 - val_loss: 0.3637\n",
      "Epoch 51/100\n",
      "363/363 [==============================] - 0s 970us/step - loss: 0.3435 - val_loss: 0.3632\n",
      "Epoch 52/100\n",
      "363/363 [==============================] - 0s 931us/step - loss: 0.3428 - val_loss: 0.3624\n",
      "Epoch 53/100\n",
      "363/363 [==============================] - 0s 884us/step - loss: 0.3422 - val_loss: 0.3637\n",
      "Epoch 54/100\n",
      "363/363 [==============================] - 0s 917us/step - loss: 0.3413 - val_loss: 0.3641\n",
      "Epoch 55/100\n",
      "363/363 [==============================] - 0s 999us/step - loss: 0.3409 - val_loss: 0.3620\n",
      "Epoch 56/100\n",
      "363/363 [==============================] - 0s 953us/step - loss: 0.3404 - val_loss: 0.3629\n",
      "Epoch 57/100\n",
      "363/363 [==============================] - 0s 905us/step - loss: 0.3397 - val_loss: 0.3624\n",
      "Epoch 58/100\n",
      "363/363 [==============================] - 0s 973us/step - loss: 0.3391 - val_loss: 0.3614\n",
      "Epoch 59/100\n",
      "363/363 [==============================] - 0s 1ms/step - loss: 0.3385 - val_loss: 0.3622\n",
      "Epoch 60/100\n",
      "363/363 [==============================] - 0s 995us/step - loss: 0.3380 - val_loss: 0.3616\n",
      "Epoch 61/100\n",
      "363/363 [==============================] - 0s 967us/step - loss: 0.3375 - val_loss: 0.3601\n",
      "Epoch 62/100\n",
      "363/363 [==============================] - 0s 976us/step - loss: 0.3370 - val_loss: 0.3599\n",
      "Epoch 63/100\n",
      "363/363 [==============================] - 0s 945us/step - loss: 0.3363 - val_loss: 0.3599\n",
      "Epoch 64/100\n",
      "363/363 [==============================] - 0s 909us/step - loss: 0.3360 - val_loss: 0.3591\n",
      "Epoch 65/100\n",
      "363/363 [==============================] - 0s 898us/step - loss: 0.3351 - val_loss: 0.3598\n",
      "Epoch 66/100\n",
      "363/363 [==============================] - 0s 934us/step - loss: 0.3349 - val_loss: 0.3579\n",
      "Epoch 67/100\n",
      "363/363 [==============================] - 0s 892us/step - loss: 0.3341 - val_loss: 0.3585\n",
      "Epoch 68/100\n",
      "363/363 [==============================] - 0s 920us/step - loss: 0.3338 - val_loss: 0.3572\n",
      "Epoch 69/100\n",
      "363/363 [==============================] - 0s 935us/step - loss: 0.3331 - val_loss: 0.3567\n",
      "Epoch 70/100\n",
      "363/363 [==============================] - 0s 964us/step - loss: 0.3328 - val_loss: 0.3565\n",
      "Epoch 71/100\n",
      "363/363 [==============================] - 0s 934us/step - loss: 0.3322 - val_loss: 0.3572\n",
      "Epoch 72/100\n",
      "363/363 [==============================] - 0s 911us/step - loss: 0.3318 - val_loss: 0.3558\n",
      "Epoch 73/100\n",
      "363/363 [==============================] - 0s 991us/step - loss: 0.3312 - val_loss: 0.3557\n",
      "Epoch 74/100\n",
      "363/363 [==============================] - 0s 981us/step - loss: 0.3309 - val_loss: 0.3556\n",
      "Epoch 75/100\n",
      "363/363 [==============================] - 0s 997us/step - loss: 0.3305 - val_loss: 0.3551\n",
      "Epoch 76/100\n",
      "363/363 [==============================] - 0s 942us/step - loss: 0.3297 - val_loss: 0.3549\n",
      "Epoch 77/100\n",
      "363/363 [==============================] - 0s 970us/step - loss: 0.3294 - val_loss: 0.3545\n",
      "Epoch 78/100\n",
      "363/363 [==============================] - 0s 943us/step - loss: 0.3293 - val_loss: 0.3544\n",
      "Epoch 79/100\n",
      "363/363 [==============================] - 0s 953us/step - loss: 0.3288 - val_loss: 0.3532\n"
     ]
    },
    {
     "name": "stdout",
     "output_type": "stream",
     "text": [
      "Epoch 80/100\n",
      "363/363 [==============================] - 0s 906us/step - loss: 0.3284 - val_loss: 0.3535\n",
      "Epoch 81/100\n",
      "363/363 [==============================] - 0s 995us/step - loss: 0.3279 - val_loss: 0.3530\n",
      "Epoch 82/100\n",
      "363/363 [==============================] - 0s 973us/step - loss: 0.3274 - val_loss: 0.3524\n",
      "Epoch 83/100\n",
      "363/363 [==============================] - 0s 898us/step - loss: 0.3271 - val_loss: 0.3529\n",
      "Epoch 84/100\n",
      "363/363 [==============================] - 0s 904us/step - loss: 0.3265 - val_loss: 0.3532\n",
      "Epoch 85/100\n",
      "363/363 [==============================] - 0s 895us/step - loss: 0.3264 - val_loss: 0.3524\n",
      "Epoch 86/100\n",
      "363/363 [==============================] - 0s 901us/step - loss: 0.3259 - val_loss: 0.3527\n",
      "Epoch 87/100\n",
      "363/363 [==============================] - 0s 921us/step - loss: 0.3257 - val_loss: 0.3519\n",
      "Epoch 88/100\n",
      "363/363 [==============================] - 0s 932us/step - loss: 0.3251 - val_loss: 0.3515\n",
      "Epoch 89/100\n",
      "363/363 [==============================] - 0s 951us/step - loss: 0.3249 - val_loss: 0.3513\n",
      "Epoch 90/100\n",
      "363/363 [==============================] - 0s 892us/step - loss: 0.3245 - val_loss: 0.3516\n",
      "Epoch 91/100\n",
      "363/363 [==============================] - 0s 931us/step - loss: 0.3242 - val_loss: 0.3502\n",
      "Epoch 92/100\n",
      "363/363 [==============================] - 0s 917us/step - loss: 0.3238 - val_loss: 0.3492\n",
      "Epoch 93/100\n",
      "363/363 [==============================] - 0s 892us/step - loss: 0.3234 - val_loss: 0.3498\n",
      "Epoch 94/100\n",
      "363/363 [==============================] - 0s 928us/step - loss: 0.3231 - val_loss: 0.3491\n",
      "Epoch 95/100\n",
      "363/363 [==============================] - 0s 909us/step - loss: 0.3228 - val_loss: 0.3508\n",
      "Epoch 96/100\n",
      "363/363 [==============================] - 0s 928us/step - loss: 0.3225 - val_loss: 0.3486\n",
      "Epoch 97/100\n",
      "363/363 [==============================] - 0s 871us/step - loss: 0.3218 - val_loss: 0.3492\n",
      "Epoch 98/100\n",
      "363/363 [==============================] - 0s 932us/step - loss: 0.3217 - val_loss: 0.3483\n",
      "Epoch 99/100\n",
      "363/363 [==============================] - 0s 881us/step - loss: 0.3214 - val_loss: 0.3498\n",
      "Epoch 100/100\n",
      "363/363 [==============================] - 0s 895us/step - loss: 0.3210 - val_loss: 0.3497\n",
      "162/162 [==============================] - 0s 615us/step - loss: 0.4027\n"
     ]
    }
   ],
   "source": [
    "model.compile(loss=\"mse\", optimizer=keras.optimizers.SGD(learning_rate=1e-3))\n",
    "\n",
    "early_stopping_cb = keras.callbacks.EarlyStopping(patience=10,\n",
    "                                                  restore_best_weights=True)\n",
    "history = model.fit(X_train, y_train, epochs=100,\n",
    "                    validation_data=(X_valid, y_valid),\n",
    "                    callbacks=[checkpoint_cb, early_stopping_cb])\n",
    "mse_test = model.evaluate(X_test, y_test)"
   ]
  },
  {
   "cell_type": "markdown",
   "id": "17d7a8b2",
   "metadata": {},
   "source": [
    "# 텐서보드를 사용해 시각화하기"
   ]
  },
  {
   "cell_type": "code",
   "execution_count": 72,
   "id": "7da7af02",
   "metadata": {},
   "outputs": [
    {
     "data": {
      "text/plain": [
       "'.\\\\my_logs\\\\run_2021_12_17-17_03_54'"
      ]
     },
     "execution_count": 72,
     "metadata": {},
     "output_type": "execute_result"
    }
   ],
   "source": [
    "import os\n",
    "\n",
    "root_logdir = os.path.join(os.curdir, \"my_logs\")\n",
    "def get_run_logdir():\n",
    "    import time\n",
    "    run_id = time.strftime(\"run_%Y_%m_%d-%H_%M_%S\")  # 예 :my_logs/run_201906_07-15_15_22\n",
    "    return os.path.join(root_logdir, run_id)\n",
    "\n",
    "run_logdir = get_run_logdir()\n",
    "run_logdir"
   ]
  },
  {
   "cell_type": "code",
   "execution_count": 73,
   "id": "2c4d3492",
   "metadata": {
    "scrolled": true
   },
   "outputs": [
    {
     "name": "stdout",
     "output_type": "stream",
     "text": [
      "Epoch 1/30\n",
      "363/363 [==============================] - 1s 1ms/step - loss: 2.0560 - val_loss: 1.0893\n",
      "Epoch 2/30\n",
      "363/363 [==============================] - 0s 1ms/step - loss: 0.8199 - val_loss: 0.7025\n",
      "Epoch 3/30\n",
      "363/363 [==============================] - 0s 1ms/step - loss: 0.6441 - val_loss: 0.6099\n",
      "Epoch 4/30\n",
      "363/363 [==============================] - 0s 1ms/step - loss: 0.5758 - val_loss: 0.5641\n",
      "Epoch 5/30\n",
      "363/363 [==============================] - 0s 991us/step - loss: 0.5398 - val_loss: 0.5354\n",
      "Epoch 6/30\n",
      "363/363 [==============================] - 0s 967us/step - loss: 0.5142 - val_loss: 0.5148\n",
      "Epoch 7/30\n",
      "363/363 [==============================] - 0s 997us/step - loss: 0.4956 - val_loss: 0.4971\n",
      "Epoch 8/30\n",
      "363/363 [==============================] - 0s 984us/step - loss: 0.4798 - val_loss: 0.4837\n",
      "Epoch 9/30\n",
      "363/363 [==============================] - 0s 918us/step - loss: 0.4672 - val_loss: 0.4719\n",
      "Epoch 10/30\n",
      "363/363 [==============================] - 0s 923us/step - loss: 0.4562 - val_loss: 0.4616\n",
      "Epoch 11/30\n",
      "363/363 [==============================] - 0s 1ms/step - loss: 0.4471 - val_loss: 0.4546\n",
      "Epoch 12/30\n",
      "363/363 [==============================] - 0s 938us/step - loss: 0.4394 - val_loss: 0.4483\n",
      "Epoch 13/30\n",
      "363/363 [==============================] - 0s 990us/step - loss: 0.4331 - val_loss: 0.4415\n",
      "Epoch 14/30\n",
      "363/363 [==============================] - 0s 1ms/step - loss: 0.4271 - val_loss: 0.4370\n",
      "Epoch 15/30\n",
      "363/363 [==============================] - 0s 963us/step - loss: 0.4222 - val_loss: 0.4320\n",
      "Epoch 16/30\n",
      "363/363 [==============================] - 0s 1ms/step - loss: 0.4179 - val_loss: 0.4293\n",
      "Epoch 17/30\n",
      "363/363 [==============================] - 0s 1ms/step - loss: 0.4140 - val_loss: 0.4253\n",
      "Epoch 18/30\n",
      "363/363 [==============================] - 0s 964us/step - loss: 0.4102 - val_loss: 0.4228\n",
      "Epoch 19/30\n",
      "363/363 [==============================] - 0s 1ms/step - loss: 0.4068 - val_loss: 0.4207\n",
      "Epoch 20/30\n",
      "363/363 [==============================] - 0s 995us/step - loss: 0.4040 - val_loss: 0.4181\n",
      "Epoch 21/30\n",
      "363/363 [==============================] - 0s 1ms/step - loss: 0.4012 - val_loss: 0.4159\n",
      "Epoch 22/30\n",
      "363/363 [==============================] - 0s 984us/step - loss: 0.3986 - val_loss: 0.4131\n",
      "Epoch 23/30\n",
      "363/363 [==============================] - 0s 973us/step - loss: 0.3963 - val_loss: 0.4120\n",
      "Epoch 24/30\n",
      "363/363 [==============================] - 0s 923us/step - loss: 0.3940 - val_loss: 0.4102\n",
      "Epoch 25/30\n",
      "363/363 [==============================] - 0s 931us/step - loss: 0.3919 - val_loss: 0.4089\n",
      "Epoch 26/30\n",
      "363/363 [==============================] - 0s 926us/step - loss: 0.3898 - val_loss: 0.4068\n",
      "Epoch 27/30\n",
      "363/363 [==============================] - 0s 1ms/step - loss: 0.3880 - val_loss: 0.4058\n",
      "Epoch 28/30\n",
      "363/363 [==============================] - 0s 1ms/step - loss: 0.3862 - val_loss: 0.4044\n",
      "Epoch 29/30\n",
      "363/363 [==============================] - 0s 1ms/step - loss: 0.3846 - val_loss: 0.4034\n",
      "Epoch 30/30\n",
      "363/363 [==============================] - 0s 981us/step - loss: 0.3832 - val_loss: 0.4025\n"
     ]
    }
   ],
   "source": [
    "model = keras.models.Sequential([\n",
    "    keras.layers.Dense(30, activation=\"relu\", input_shape=[8]),\n",
    "    keras.layers.Dense(30, activation=\"relu\"),\n",
    "    keras.layers.Dense(1)\n",
    "])    \n",
    "model.compile(loss=\"mse\", optimizer=keras.optimizers.SGD(learning_rate=1e-3))\n",
    "tensorboard_cb = keras.callbacks.TensorBoard(run_logdir)\n",
    "history = model.fit(X_train, y_train, epochs=30,\n",
    "                    validation_data=(X_valid, y_valid),\n",
    "                    callbacks=[checkpoint_cb, tensorboard_cb])"
   ]
  },
  {
   "cell_type": "code",
   "execution_count": 74,
   "id": "3a0c18d1",
   "metadata": {},
   "outputs": [
    {
     "data": {
      "text/html": [
       "\n",
       "      <iframe id=\"tensorboard-frame-714598307fd0fade\" width=\"100%\" height=\"800\" frameborder=\"0\">\n",
       "      </iframe>\n",
       "      <script>\n",
       "        (function() {\n",
       "          const frame = document.getElementById(\"tensorboard-frame-714598307fd0fade\");\n",
       "          const url = new URL(\"/\", window.location);\n",
       "          const port = 6006;\n",
       "          if (port) {\n",
       "            url.port = port;\n",
       "          }\n",
       "          frame.src = url;\n",
       "        })();\n",
       "      </script>\n",
       "    "
      ],
      "text/plain": [
       "<IPython.core.display.HTML object>"
      ]
     },
     "metadata": {},
     "output_type": "display_data"
    }
   ],
   "source": [
    "%load_ext tensorboard\n",
    "%tensorboard --logdir=./my_logs --port=6006"
   ]
  },
  {
   "cell_type": "code",
   "execution_count": null,
   "id": "7bae3e11",
   "metadata": {},
   "outputs": [],
   "source": [
    "run_logdir2 = get_run_logdir()\n",
    "run_logdir2"
   ]
  },
  {
   "cell_type": "code",
   "execution_count": null,
   "id": "3f022c7b",
   "metadata": {},
   "outputs": [],
   "source": []
  },
  {
   "cell_type": "code",
   "execution_count": null,
   "id": "21360c00",
   "metadata": {},
   "outputs": [],
   "source": []
  },
  {
   "cell_type": "code",
   "execution_count": null,
   "id": "d6bedacf",
   "metadata": {},
   "outputs": [],
   "source": []
  },
  {
   "cell_type": "code",
   "execution_count": null,
   "id": "76ad119e",
   "metadata": {},
   "outputs": [],
   "source": []
  },
  {
   "cell_type": "code",
   "execution_count": null,
   "id": "25ebdc4a",
   "metadata": {},
   "outputs": [],
   "source": []
  },
  {
   "cell_type": "code",
   "execution_count": null,
   "id": "7cace296",
   "metadata": {},
   "outputs": [],
   "source": []
  },
  {
   "cell_type": "code",
   "execution_count": null,
   "id": "c909e8cc",
   "metadata": {},
   "outputs": [],
   "source": []
  },
  {
   "cell_type": "code",
   "execution_count": null,
   "id": "f9246c21",
   "metadata": {},
   "outputs": [],
   "source": []
  },
  {
   "cell_type": "code",
   "execution_count": null,
   "id": "23262cc4",
   "metadata": {},
   "outputs": [],
   "source": []
  },
  {
   "cell_type": "code",
   "execution_count": null,
   "id": "bfd1f98c",
   "metadata": {},
   "outputs": [],
   "source": []
  },
  {
   "cell_type": "code",
   "execution_count": null,
   "id": "bc37bdf9",
   "metadata": {},
   "outputs": [],
   "source": []
  },
  {
   "cell_type": "code",
   "execution_count": null,
   "id": "e11ad56d",
   "metadata": {},
   "outputs": [],
   "source": []
  }
 ],
 "metadata": {
  "kernelspec": {
   "display_name": "Python 3",
   "language": "python",
   "name": "python3"
  },
  "language_info": {
   "codemirror_mode": {
    "name": "ipython",
    "version": 3
   },
   "file_extension": ".py",
   "mimetype": "text/x-python",
   "name": "python",
   "nbconvert_exporter": "python",
   "pygments_lexer": "ipython3",
   "version": "3.8.8"
  }
 },
 "nbformat": 4,
 "nbformat_minor": 5
}
