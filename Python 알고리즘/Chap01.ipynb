{
 "cells": [
  {
   "cell_type": "code",
   "execution_count": 1,
   "id": "2193d1e7",
   "metadata": {},
   "outputs": [
    {
     "name": "stdout",
     "output_type": "stream",
     "text": [
      "a부터 b까지 정수의 합을 구합니다.\n",
      "정수 a를 입력하세요.:8\n",
      "정수 b를 입력하세요.:2\n",
      "2부터 8까지 정수의 합은 35입니다.\n"
     ]
    }
   ],
   "source": [
    "print('a부터 b까지 정수의 합을 구합니다.')\n",
    "a = int(input('정수 a를 입력하세요.:'))\n",
    "b = int(input('정수 b를 입력하세요.:'))\n",
    "\n",
    "if a > b:\n",
    "    a, b = b, a\n",
    "    \n",
    "sum = 0\n",
    "for i in range(a, b+1):\n",
    "    sum +=i\n",
    "print(f'{a}부터 {b}까지 정수의 합은 {sum}입니다.')"
   ]
  },
  {
   "cell_type": "code",
   "execution_count": 5,
   "id": "4f7823e3",
   "metadata": {},
   "outputs": [
    {
     "name": "stdout",
     "output_type": "stream",
     "text": [
      "+와 -를 번갈아 출력합니다.\n",
      "몇 개를 출력할까요?10\n",
      "+-+-+-+-+-11\n"
     ]
    }
   ],
   "source": [
    "# 반복 과정에서 조건 판단하기 \n",
    "print('+와 -를 번갈아 출력합니다.')\n",
    "n = int(input('몇 개를 출력할까요?'))\n",
    "\n",
    "for i in range(n):\n",
    "    if i % 2:               #  홀수인 경우 -출력\n",
    "        print('-', end='')\n",
    "    else:                   # 짝수일 경우 +출력\n",
    "        print('+', end='')\n",
    "print()"
   ]
  },
  {
   "cell_type": "code",
   "execution_count": 8,
   "id": "4659dcbc",
   "metadata": {},
   "outputs": [
    {
     "name": "stdout",
     "output_type": "stream",
     "text": [
      "+와 -를 번갈아 출력합니다.\n",
      "몇 개를 출력할까요?11\n",
      "+-+-+-+-+-+"
     ]
    }
   ],
   "source": [
    "print('+와 -를 번갈아 출력합니다.')\n",
    "n = int(input('몇 개를 출력할까요?'))\n",
    "\n",
    "for _ in range(n//2):\n",
    "    print('+-', end='') # n이 짝수 일 때 \n",
    "    \n",
    "if n % 2:              # n이 홀수일 때만 한번 돈다.\n",
    "    print('+',end='')"
   ]
  },
  {
   "cell_type": "code",
   "execution_count": 9,
   "id": "b00a9bc2",
   "metadata": {},
   "outputs": [
    {
     "name": "stdout",
     "output_type": "stream",
     "text": [
      "몇 개를 출력할까요?14\n",
      "몇 개마다 줄바꿈을 할까요?5\n",
      "*****\n",
      "*****\n",
      "****\n"
     ]
    }
   ],
   "source": [
    "n = int(input('몇 개를 출력할까요?'))\n",
    "w = int(input('몇 개마다 줄바꿈을 할까요?'))\n",
    "\n",
    "\n",
    "for _ in range(n//w):\n",
    "    print('*'*w)\n",
    "rest = n % w\n",
    "if rest:\n",
    "    print('*'*rest)"
   ]
  },
  {
   "cell_type": "code",
   "execution_count": 11,
   "id": "c9eb135e",
   "metadata": {},
   "outputs": [
    {
     "name": "stdout",
     "output_type": "stream",
     "text": [
      "직사각형이 넓이를 입력하세요.: 32\n",
      "1x32\n",
      "2x16\n",
      "4x8\n"
     ]
    }
   ],
   "source": [
    "area = int(input('직사각형이 넓이를 입력하세요.: '))\n",
    "\n",
    "for i in range(1, area+1):\n",
    "    if i * i > area: \n",
    "        break\n",
    "    if area % i : \n",
    "        continue\n",
    "        \n",
    "    print(f'{i}x{area//i}')"
   ]
  },
  {
   "cell_type": "code",
   "execution_count": 19,
   "id": "85a963f0",
   "metadata": {},
   "outputs": [
    {
     "name": "stdout",
     "output_type": "stream",
     "text": [
      "난수의 개수를 입력하세요.:5\n",
      "57 55 17 48 51 \n",
      "난수 생성을 종료합니다.\n"
     ]
    }
   ],
   "source": [
    "import random\n",
    "\n",
    "n = int(input('난수의 개수를 입력하세요.:'))\n",
    "\n",
    "for _ in range(n):\n",
    "    r = random.randint(10,99)\n",
    "    print(r, end=' ')\n",
    "    if r == 13:\n",
    "        print('\\n프로그램을 중단합니다.')\n",
    "        break\n",
    "else:\n",
    "    print('\\n난수 생성을 종료합니다.')\n",
    "        "
   ]
  },
  {
   "cell_type": "code",
   "execution_count": 21,
   "id": "9f4ae401",
   "metadata": {},
   "outputs": [
    {
     "name": "stdout",
     "output_type": "stream",
     "text": [
      "    *\n",
      "   **\n",
      "  ***\n",
      " ****\n",
      "*****\n"
     ]
    }
   ],
   "source": [
    "for i in range(5):\n",
    "    for _ in range(n-i-1):\n",
    "        print(' ', end = '')\n",
    "    for _ in range(i+1):\n",
    "        print('*', end='')\n",
    "    print()"
   ]
  },
  {
   "cell_type": "code",
   "execution_count": null,
   "id": "79cb20ab",
   "metadata": {},
   "outputs": [],
   "source": []
  },
  {
   "cell_type": "code",
   "execution_count": null,
   "id": "5be1f120",
   "metadata": {},
   "outputs": [],
   "source": []
  },
  {
   "cell_type": "code",
   "execution_count": null,
   "id": "19a9cab8",
   "metadata": {},
   "outputs": [],
   "source": []
  },
  {
   "cell_type": "code",
   "execution_count": null,
   "id": "7793a82d",
   "metadata": {},
   "outputs": [],
   "source": []
  },
  {
   "cell_type": "code",
   "execution_count": null,
   "id": "35509d73",
   "metadata": {},
   "outputs": [],
   "source": []
  },
  {
   "cell_type": "code",
   "execution_count": null,
   "id": "637846fd",
   "metadata": {},
   "outputs": [],
   "source": []
  },
  {
   "cell_type": "code",
   "execution_count": null,
   "id": "d358c3d4",
   "metadata": {},
   "outputs": [],
   "source": []
  },
  {
   "cell_type": "code",
   "execution_count": null,
   "id": "be06d901",
   "metadata": {},
   "outputs": [],
   "source": []
  },
  {
   "cell_type": "code",
   "execution_count": null,
   "id": "f2c7e0d3",
   "metadata": {},
   "outputs": [],
   "source": []
  },
  {
   "cell_type": "code",
   "execution_count": null,
   "id": "21127212",
   "metadata": {},
   "outputs": [],
   "source": []
  },
  {
   "cell_type": "code",
   "execution_count": null,
   "id": "6169b26c",
   "metadata": {},
   "outputs": [],
   "source": []
  }
 ],
 "metadata": {
  "kernelspec": {
   "display_name": "Python 3",
   "language": "python",
   "name": "python3"
  },
  "language_info": {
   "codemirror_mode": {
    "name": "ipython",
    "version": 3
   },
   "file_extension": ".py",
   "mimetype": "text/x-python",
   "name": "python",
   "nbconvert_exporter": "python",
   "pygments_lexer": "ipython3",
   "version": "3.8.8"
  }
 },
 "nbformat": 4,
 "nbformat_minor": 5
}
