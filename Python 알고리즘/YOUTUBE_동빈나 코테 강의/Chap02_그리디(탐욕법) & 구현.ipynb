{
 "cells": [
  {
   "cell_type": "markdown",
   "id": "6f97ab93",
   "metadata": {},
   "source": [
    "## 그리디 알고리즘(탐욕법) \n",
    "- 현재 상황에서 지금당장 좋은 것만 고르는 방법"
   ]
  },
  {
   "cell_type": "code",
   "execution_count": 4,
   "id": "2f9262c2",
   "metadata": {},
   "outputs": [
    {
     "name": "stdout",
     "output_type": "stream",
     "text": [
      "6\n"
     ]
    }
   ],
   "source": [
    "#  거스름돈 \n",
    "\n",
    "n = 1260\n",
    "count = 0\n",
    "\n",
    "array = [500,100,50,10]\n",
    "for coin in array:\n",
    "    count += n// coin\n",
    "    n%= coin\n",
    "print(count)"
   ]
  },
  {
   "cell_type": "code",
   "execution_count": 9,
   "id": "ff8bc9bf",
   "metadata": {},
   "outputs": [
    {
     "name": "stdout",
     "output_type": "stream",
     "text": [
      "25 3\n",
      "8\n",
      "2\n",
      "6\n"
     ]
    }
   ],
   "source": [
    "# 문제 1\n",
    "\n",
    "n, k = map(int, input().split())\n",
    "# 예 25,3\n",
    "result = 0\n",
    "\n",
    "while True:\n",
    "    # N이 K로 나누어 떨어지는 수가 될 때까지 빼기\n",
    "    target = (n // k)*k     \n",
    "    result += (n-target)     \n",
    "    n = target\n",
    "    \n",
    "    if n < k:\n",
    "        break\n",
    "    result += 1\n",
    "    n //=k\n",
    "    print(n)\n",
    "# 마지막으로 남은 수에 대해 1씩 빼기    \n",
    "result += (n -1)\n",
    "print(result)"
   ]
  },
  {
   "cell_type": "markdown",
   "id": "2e1461a9",
   "metadata": {},
   "source": [
    "#### 문제 2\n",
    "- 각 자리가 숫자(0~9)로만 이루어진 문자열 s가 주어졌을 때ㅡ 왼쪽부터 오른쪽으로 하나씩 모든 숫자를 확인하며 숫자 사이에 'x'혹은'+'\n",
    "연산자를 넣어 결과적으로 만들어질 수 있는 가장 큰 수를 구하는 프로그램을 작성\n",
    "단,  +보다는 x를 먼저 계산하는 일반적인 방식과 달리, 모든 연산은 왼쪽에서부터 순서대로 이루어진다고 가정합니다."
   ]
  },
  {
   "cell_type": "code",
   "execution_count": 1,
   "id": "fe4db789",
   "metadata": {},
   "outputs": [
    {
     "name": "stdout",
     "output_type": "stream",
     "text": [
      "12346546\n",
      "25920\n"
     ]
    }
   ],
   "source": [
    "# 문제 2\n",
    "\n",
    "data = input()\n",
    "\n",
    "result = int(data[0])\n",
    "\n",
    "for i in range(1, len(data)):\n",
    "    num = int(data[i])\n",
    "    #  두 수 중에서 하나라도 '0' 인 경우, 곱하기보다는 더하기를 수행\n",
    "    if num <= 1 or result <= 1:      \n",
    "        result += num\n",
    "    else:\n",
    "        result*=num\n",
    "print(result)"
   ]
  },
  {
   "cell_type": "markdown",
   "id": "c3b7decc",
   "metadata": {},
   "source": [
    "#### 문제 3\n",
    "- 한 마을에 모험가가 N명 있습니다. 모험가 길드에서는 N명의 모험가를 대상으로 '공포도'를 측정했는데, '공포도'가 높은 모험가는 쉽게 \n",
    "공포를 느껴 위험 상황에서 제대로 대처할 능력이 떨어집니다.\n",
    "-모험가 길드장인 철성은 모험가 그릅을 안제하게 구성하고자 공포도가 X인 모험가는 반드시 X명 이상으로 구성한 모험가 그룹에 참여해야\n",
    "여행을 떠날 수 있도록 규정했습니다.\n",
    "- 철성은 최대 몇개으 모험가 그룹을 만들 수 있는지 궁금합니다. N명의 모험가에 대한 정보가 주어졌을 때 여행을 떠날 수 있는 그룹 수의 \n",
    "최댓값을 구하는 프로그램을 작성하세요"
   ]
  },
  {
   "cell_type": "code",
   "execution_count": 6,
   "id": "0cf3438c",
   "metadata": {},
   "outputs": [
    {
     "name": "stdout",
     "output_type": "stream",
     "text": [
      "5\n",
      "2 3 1 2 2\n",
      "2\n"
     ]
    }
   ],
   "source": [
    "n = int(input()) # 총 인원\n",
    "data = list(map(int, input().split()))\n",
    "data.sort()\n",
    "\n",
    "result = 0     # 총 그룹의 수\n",
    "count = 0      # 현재 그룹에 포함된 모험가의 수\n",
    "\n",
    "for i in data:\n",
    "    count += 1\n",
    "    if count >= i:\n",
    "        result += 1\n",
    "        count = 0\n",
    "print(\"길드 수 : \",result)"
   ]
  },
  {
   "cell_type": "markdown",
   "id": "6d4e9347",
   "metadata": {},
   "source": [
    "## 구현\n",
    "- 머릿속에 있는 알고리즘을 소스코드로 바꾸는 과정"
   ]
  },
  {
   "cell_type": "code",
   "execution_count": 8,
   "id": "79c46d51",
   "metadata": {},
   "outputs": [
    {
     "name": "stdout",
     "output_type": "stream",
     "text": [
      "5\n",
      "R R R U D D\n",
      "3 4\n"
     ]
    }
   ],
   "source": [
    "# 문제 1\n",
    "# 상하좌우\n",
    "\n",
    "n = int(input())\n",
    "x, y = 1,1\n",
    "plans = input().split()\n",
    "\n",
    "# L, R, U, D에 다른 이동 방향\n",
    "dx = [0,0,-1,1]\n",
    "dy = [-1,1,0,0]\n",
    "move_types = ['L', 'R', 'U', 'D']\n",
    "\n",
    "# 이동 계획을 하나씩 확인하기\n",
    "for plan in plans:\n",
    "    # 이동후 좌표 구하기\n",
    "    for i in range(len(move_types)):\n",
    "        if plan == move_types[i]:\n",
    "            nx = x + dx[i]\n",
    "            ny = y + dy[i]\n",
    "    #  공간을 벗어나느 경우 무시\n",
    "    if nx < 1 or ny < 1 or nx > n or ny > n:\n",
    "        continue\n",
    "    x, y = nx, ny\n",
    "    \n",
    "print(x, y)"
   ]
  },
  {
   "cell_type": "code",
   "execution_count": 9,
   "id": "a7391742",
   "metadata": {},
   "outputs": [
    {
     "name": "stdout",
     "output_type": "stream",
     "text": [
      "1\n",
      "3150\n"
     ]
    }
   ],
   "source": [
    "# 문제 2\n",
    "\n",
    "h = int(input())\n",
    "\n",
    "count = 0\n",
    "for i in range(h+1):         #  시\n",
    "    for j in range(60):      #  분\n",
    "        for k in range(60):  #  초\n",
    "            # 매 시각 안에 '3'이 포함되어 있다면 카운트 증가\n",
    "            if '3' in str(i) + str(j) + str(k):\n",
    "                count+= 1\n",
    "print(count)"
   ]
  },
  {
   "cell_type": "code",
   "execution_count": null,
   "id": "df7d3be5",
   "metadata": {},
   "outputs": [],
   "source": [
    "# 문제 3\n",
    "#  왕실의 나이트\n",
    "\n",
    "input_data = input()\n",
    "row = int(input_data[1])\n",
    "column = input(ord(input_data[0])) - int(ord('a')) + 1\n",
    "\n",
    "#  나이트가 이동할 수 있는 8가지 방향 정의\n",
    "steps = [(-2, -1), (-1, -2), (1, -2), (2, -1),(2, 1), (1, 2), (-1, 2), (-2, 1)]\n",
    "\n",
    "# 8가지 방향에 대하여 각 위치로 이동이 가능하지 확인\n",
    "result = 0\n",
    "for step in steps:\n",
    "    # 이동하고자 하는 위치 확인\n",
    "    next_row = row + step[0]\n",
    "    next_column = column + step[1]\n",
    "    \n",
    "    # 해당 위치로 이동이 가능하다면 카운트 증가\n",
    "    if next_row >= 1 and next_row <= 8 and next_column >=1 and next_column<=8:\n",
    "        result += 1\n",
    "print(result)"
   ]
  },
  {
   "cell_type": "code",
   "execution_count": null,
   "id": "71a3c3df",
   "metadata": {},
   "outputs": [],
   "source": [
    "# 문제 4\n",
    "# 문자열 재정렬 \n",
    "\n",
    "data = input()\n",
    "result = []\n",
    "value = 0\n",
    "\n",
    "# 문자를 하나씩 확인\n",
    "for x in data:\n",
    "    # 알파벳인 경우 결과 리스트에 삽입\n",
    "    if x.isalphal():\n",
    "        result.append(x)\n",
    "    else:\n",
    "        value += int(x)\n",
    "        \n",
    "# 알파벳을 오름차순으로 정렬\n",
    "result.sort()\n",
    "\n",
    "# 숫자가 하나라도 존재하는 경우 가장 뒤에 삽입\n",
    "if value != 0:\n",
    "    result.append(str(value))\n",
    "\n",
    "# 최종결과 출력(리스트를 문자열로 변환하여 출력)\n",
    "print(''.join(result))"
   ]
  },
  {
   "cell_type": "code",
   "execution_count": null,
   "id": "ab0acab8",
   "metadata": {},
   "outputs": [],
   "source": []
  },
  {
   "cell_type": "code",
   "execution_count": null,
   "id": "0c9fd42e",
   "metadata": {},
   "outputs": [],
   "source": []
  },
  {
   "cell_type": "code",
   "execution_count": null,
   "id": "aeaa14f0",
   "metadata": {},
   "outputs": [],
   "source": []
  }
 ],
 "metadata": {
  "kernelspec": {
   "display_name": "Python 3",
   "language": "python",
   "name": "python3"
  },
  "language_info": {
   "codemirror_mode": {
    "name": "ipython",
    "version": 3
   },
   "file_extension": ".py",
   "mimetype": "text/x-python",
   "name": "python",
   "nbconvert_exporter": "python",
   "pygments_lexer": "ipython3",
   "version": "3.8.8"
  }
 },
 "nbformat": 4,
 "nbformat_minor": 5
}
