{
 "cells": [
  {
   "cell_type": "markdown",
   "id": "d3acbed1",
   "metadata": {},
   "source": [
    "## 다이나믹 프로그래밍(동적 계획법)\n",
    "- 메모리를 적절히 사용하여 수행 시간 효율성을 비약적으로 향상시키는 방법\n",
    "- 이미 계산된 결과(작은 문제)는 별도의 메모리 영역에 저장하여 다시 계산하지 않도록 합니다.\n",
    "- 구현은 일반적으로 두 가지 방식(탑다운과 보텀업)으로 구성\n",
    "\n",
    "#### 1. 최적 부분 구조(Optimal Substructure)\n",
    "- 큰 문제를 작은 문제로 나눌 수 있으며 작은 문제의 답을 모아서 큰 문제를 해결 할 수 있습니다.\n",
    "\n",
    "#### 2. 중복되는 부분 문제(Overlapping Subproblem)\n",
    "- 동일한 작은 문제를 반복적으로 해결해야 합니다."
   ]
  },
  {
   "cell_type": "code",
   "execution_count": 3,
   "id": "b1dd94e5",
   "metadata": {},
   "outputs": [
    {
     "name": "stdout",
     "output_type": "stream",
     "text": [
      "55\n"
     ]
    }
   ],
   "source": [
    "def fibo(x):\n",
    "    if x == 1 or x == 2:\n",
    "        return 1\n",
    "    return fibo(x-1) + fibo(x-2)\n",
    "\n",
    "print(fibo(10))"
   ]
  },
  {
   "cell_type": "markdown",
   "id": "fdd1954b",
   "metadata": {},
   "source": [
    "### 메모이제이션(Memoization)\n",
    "##### 피보나치 수열: 탑다운 다이나믹 프로그래밍 소스코드\n"
   ]
  },
  {
   "cell_type": "code",
   "execution_count": 5,
   "id": "033dfa0b",
   "metadata": {},
   "outputs": [
    {
     "name": "stdout",
     "output_type": "stream",
     "text": [
      "218922995834555169026\n"
     ]
    }
   ],
   "source": [
    "# 피보나치 수열: 탑다운 다이나믹 프로그래밍 소스코드\n",
    "\n",
    "# 한번 계산된 결과를 메모이제이션 하기 위한 리스트 초기화\n",
    "d = [0]*100\n",
    "\n",
    "# 피보나치 함수를 재귀함수로 구현\n",
    "def fibo(x):\n",
    "    if x == 1 or x == 2:\n",
    "        return 1\n",
    "    # 이미 계산한 적 있는 문제라면 그대로 반환\n",
    "    if d[x] != 0:\n",
    "        return d[x]\n",
    "    # 아직 계산하지 않은 문제라면 점화식에 따라서 피보나치 결과 반환\n",
    "    d[x] = fibo(x-1) + fibo(x-2)\n",
    "    return d[x]\n",
    "\n",
    "print(fibo(99))"
   ]
  },
  {
   "cell_type": "markdown",
   "id": "7b4a846c",
   "metadata": {},
   "source": [
    "##### 피보나치 수열: 보텀업 다이나믹 프로그래밍 소스코드"
   ]
  },
  {
   "cell_type": "code",
   "execution_count": null,
   "id": "9770a8df",
   "metadata": {},
   "outputs": [],
   "source": [
    "d = [0]*100\n",
    "\n",
    "\n",
    "d[1] = 1\n",
    "d[2] = 1\n",
    "n = 99\n",
    "\n",
    "for i in range(3, n + 1):\n",
    "    d[i] = d[i-1] + d[i-2]\n",
    "    \n",
    "print(d[n])"
   ]
  },
  {
   "cell_type": "code",
   "execution_count": null,
   "id": "7c300f64",
   "metadata": {},
   "outputs": [],
   "source": []
  },
  {
   "cell_type": "code",
   "execution_count": null,
   "id": "70fdf065",
   "metadata": {},
   "outputs": [],
   "source": []
  },
  {
   "cell_type": "code",
   "execution_count": null,
   "id": "849fa60f",
   "metadata": {},
   "outputs": [],
   "source": []
  },
  {
   "cell_type": "code",
   "execution_count": null,
   "id": "7fbe5add",
   "metadata": {},
   "outputs": [],
   "source": []
  },
  {
   "cell_type": "code",
   "execution_count": null,
   "id": "04def1fa",
   "metadata": {},
   "outputs": [],
   "source": []
  },
  {
   "cell_type": "code",
   "execution_count": null,
   "id": "7ae4ed3a",
   "metadata": {},
   "outputs": [],
   "source": []
  },
  {
   "cell_type": "code",
   "execution_count": null,
   "id": "c60bd2e9",
   "metadata": {},
   "outputs": [],
   "source": []
  },
  {
   "cell_type": "code",
   "execution_count": null,
   "id": "4fb02b73",
   "metadata": {},
   "outputs": [],
   "source": []
  },
  {
   "cell_type": "code",
   "execution_count": null,
   "id": "34caa73a",
   "metadata": {},
   "outputs": [],
   "source": []
  },
  {
   "cell_type": "code",
   "execution_count": null,
   "id": "aa03ebaf",
   "metadata": {},
   "outputs": [],
   "source": []
  },
  {
   "cell_type": "code",
   "execution_count": null,
   "id": "6bb41af0",
   "metadata": {},
   "outputs": [],
   "source": []
  },
  {
   "cell_type": "code",
   "execution_count": null,
   "id": "e482c14d",
   "metadata": {},
   "outputs": [],
   "source": []
  },
  {
   "cell_type": "code",
   "execution_count": null,
   "id": "b7260ff7",
   "metadata": {},
   "outputs": [],
   "source": []
  },
  {
   "cell_type": "code",
   "execution_count": null,
   "id": "146fe369",
   "metadata": {},
   "outputs": [],
   "source": []
  },
  {
   "cell_type": "code",
   "execution_count": null,
   "id": "80d80239",
   "metadata": {},
   "outputs": [],
   "source": []
  }
 ],
 "metadata": {
  "kernelspec": {
   "display_name": "Python 3",
   "language": "python",
   "name": "python3"
  },
  "language_info": {
   "codemirror_mode": {
    "name": "ipython",
    "version": 3
   },
   "file_extension": ".py",
   "mimetype": "text/x-python",
   "name": "python",
   "nbconvert_exporter": "python",
   "pygments_lexer": "ipython3",
   "version": "3.8.8"
  }
 },
 "nbformat": 4,
 "nbformat_minor": 5
}
