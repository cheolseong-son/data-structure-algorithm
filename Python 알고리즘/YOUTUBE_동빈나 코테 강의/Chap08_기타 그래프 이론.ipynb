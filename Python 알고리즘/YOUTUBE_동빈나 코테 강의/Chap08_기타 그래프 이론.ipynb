{
 "cells": [
  {
   "cell_type": "markdown",
   "id": "d11a6488",
   "metadata": {},
   "source": [
    "## 서로소 집합\n",
    "- 공통원소가 없는 두 집합을 의미한다.\n",
    "#### 합집합(Union) \n",
    "- 두 개의 원소가 포함된 집합을 하나의 집합으로 합치는 연산\n",
    "#### 찾기(Find)\n",
    "- 특정한 원소가 속한 집합이 어떤 집합인지 알려주는 연산\n",
    "##### 서로소 집합 자료구조는 합치기 찾기(Union Find) 자료구조라고 불리기도 한다.\n",
    "---"
   ]
  },
  {
   "cell_type": "markdown",
   "id": "ef22458a",
   "metadata": {},
   "source": [
    "### 서로소 집합 자료구조 : 기본적인 구현방법(Python)\n"
   ]
  },
  {
   "cell_type": "code",
   "execution_count": null,
   "id": "a8adfddb",
   "metadata": {},
   "outputs": [],
   "source": [
    "# 특정 원소가 속한 집합을 찾기\n",
    "def find_parent(parent, x):  # --------------------> parent :부모테이블, x : 노드의 번호                  \n",
    "    # 루트 노드를 찾을 때까지 재귀 호출\n",
    "    if parent[x] !=x: # ---------------------------> 부모가 루트노드가 아니라면\n",
    "        return find_parent(parent, parent[x])\n",
    "    return x\n",
    "# ========================================\n",
    "# 두 원소가 속한 집합을 합치기\n",
    "def union_parent(parent, a, b):\n",
    "    a = find_parent(parent, a)\n",
    "    b = find_parent(parent, b)\n",
    "    if a < b:\n",
    "        parent[b] = a  # 두 수중 큰 쪽이 작은 쪽을 부모로 설정        \n",
    "    else:\n",
    "        parent[a] = b\n",
    "        \n",
    "# =========================================\n",
    "# 노드의 개수와 간선의 개수를 입력 받기\n",
    "v, e = map(int, input().split())\n",
    "parent = [0] * (v+1) # 부모 테이블 초기화하기\n",
    "\n",
    "for i in rnage(1, v+1):\n",
    "    parent[i] = i\n",
    "    \n",
    "# Union 연사을 각각 수행\n",
    "for i in range(e):\n",
    "    a, b = map(int, input().split())\n",
    "    union_parent(parent, a, b)\n",
    "    \n",
    "#  각 원소가 속핮 집합을 출력하기\n",
    "print('각 원소가 속한 집합 : ', end = ' ')\n",
    "for in in range(1, v+1):\n",
    "    print(find_parent(parent, i), end=' ')\n",
    "print()\n",
    "\n",
    "# 부모테이블 내용 출력하기\n",
    "print('부모 테이블 : ', end =' ')\n",
    "for i in rnage(1, v+1):\n",
    "    print(parent[i], end=' ')"
   ]
  },
  {
   "cell_type": "markdown",
   "id": "5c3f5f73",
   "metadata": {},
   "source": [
    "### 서로소 집합 자료구조 : 경로 압축\n"
   ]
  },
  {
   "cell_type": "code",
   "execution_count": null,
   "id": "e15c7550",
   "metadata": {},
   "outputs": [],
   "source": [
    "\n",
    "def find_parent(parent, x):\n",
    "    # 루트 노드가 아니라면, 루트 노드를 찾을 때까지 재귀적으로 호출\n",
    "    if parent[x] != x:\n",
    "        parent[x] = find_parent(parent, parent[x])\n",
    "    return parent[x]\n",
    "\n",
    "# ========================================\n",
    "# 두 원소가 속한 집합을 합치기\n",
    "def union_parent(parent, a, b):\n",
    "    a = find_parent(parent, a)\n",
    "    b = find_parent(parent, b)\n",
    "    if a < b:\n",
    "        parent[b] = a  # 두 수중 큰 쪽이 작은 쪽을 부모로 설정        \n",
    "    else:\n",
    "        parent[a] = b\n",
    "        \n",
    "# =========================================\n",
    "# 노드의 개수와 간선의 개수를 입력 받기\n",
    "v, e = map(int, input().split())\n",
    "parent = [0] * (v+1) # 부모 테이블 초기화하기\n",
    "\n",
    "for i in rnage(1, v+1):\n",
    "    parent[i] = i\n",
    "    \n",
    "# Union 연사을 각각 수행\n",
    "for i in range(e):\n",
    "    a, b = map(int, input().split())\n",
    "    union_parent(parent, a, b)\n",
    "    \n",
    "#  각 원소가 속핮 집합을 출력하기\n",
    "print('각 원소가 속한 집합 : ', end = ' ')\n",
    "for in in range(1, v+1):\n",
    "    print(find_parent(parent, i), end=' ')\n",
    "print()\n",
    "\n",
    "# 부모테이블 내용 출력하기\n",
    "print('부모 테이블 : ', end =' ')\n",
    "for i in rnage(1, v+1):\n",
    "    print(parent[i], end=' ')"
   ]
  },
  {
   "cell_type": "markdown",
   "id": "397c218a",
   "metadata": {},
   "source": [
    "---\n",
    "### 서로소 집합을 활용한 사이클 판별\n",
    "- 서로소 집합은 무방향 그래프 내에서의 사이클을 판별할 때 사용할 수 있다.\n",
    "    + 참로고 방향 그래프에서의 사이클 여부는 DFS를 이용하여 판별 가능\n",
    "    \n",
    "#### 사이클 판별 알고리즘\n",
    "1. 각 간선을 하나씩 확인하며 두 노드의 루트와 노드를 확인합니다.<br>\n",
    "    1) 루트 노드가 서로 다르다면 두 노드에 대하여 합집합(Union)연산을 수행합니다. <br>\n",
    "    2) 루트 노드가 서로 같다면 사이클(Cycle)이 발생한 것입니다. \n",
    "   \n",
    "   \n",
    "2. 그래프에 포함되어 있는 모든 간선에 대하여 1번 과정을 반복합니다."
   ]
  },
  {
   "cell_type": "markdown",
   "id": "a6dcd438",
   "metadata": {},
   "source": [
    "### 서로소 집합을 활용한 사이클 판별 : 동작 과정 살펴보기"
   ]
  },
  {
   "cell_type": "code",
   "execution_count": 7,
   "id": "1abb6661",
   "metadata": {
    "collapsed": true
   },
   "outputs": [
    {
     "name": "stdout",
     "output_type": "stream",
     "text": [
      "1 2\n"
     ]
    },
    {
     "ename": "KeyboardInterrupt",
     "evalue": "Interrupted by user",
     "output_type": "error",
     "traceback": [
      "\u001b[1;31m---------------------------------------------------------------------------\u001b[0m",
      "\u001b[1;31mKeyboardInterrupt\u001b[0m                         Traceback (most recent call last)",
      "\u001b[1;32m<ipython-input-7-b20e337f0e04>\u001b[0m in \u001b[0;36m<module>\u001b[1;34m\u001b[0m\n\u001b[0;32m     25\u001b[0m \u001b[1;33m\u001b[0m\u001b[0m\n\u001b[0;32m     26\u001b[0m \u001b[1;32mfor\u001b[0m \u001b[0mi\u001b[0m \u001b[1;32min\u001b[0m \u001b[0mrange\u001b[0m\u001b[1;33m(\u001b[0m\u001b[0me\u001b[0m\u001b[1;33m)\u001b[0m\u001b[1;33m:\u001b[0m\u001b[1;33m\u001b[0m\u001b[1;33m\u001b[0m\u001b[0m\n\u001b[1;32m---> 27\u001b[1;33m     \u001b[0ma\u001b[0m\u001b[1;33m,\u001b[0m \u001b[0mb\u001b[0m \u001b[1;33m=\u001b[0m \u001b[0mmap\u001b[0m\u001b[1;33m(\u001b[0m\u001b[0mint\u001b[0m\u001b[1;33m,\u001b[0m \u001b[0minput\u001b[0m\u001b[1;33m(\u001b[0m\u001b[1;33m)\u001b[0m\u001b[1;33m.\u001b[0m\u001b[0msplit\u001b[0m\u001b[1;33m(\u001b[0m\u001b[1;33m)\u001b[0m\u001b[1;33m)\u001b[0m\u001b[1;33m\u001b[0m\u001b[1;33m\u001b[0m\u001b[0m\n\u001b[0m\u001b[0;32m     28\u001b[0m     \u001b[1;31m# 사이클이 발생한 경우 종료\u001b[0m\u001b[1;33m\u001b[0m\u001b[1;33m\u001b[0m\u001b[1;33m\u001b[0m\u001b[0m\n\u001b[0;32m     29\u001b[0m     \u001b[1;32mif\u001b[0m \u001b[0mfind_parent\u001b[0m\u001b[1;33m(\u001b[0m\u001b[0mparent\u001b[0m\u001b[1;33m,\u001b[0m \u001b[0ma\u001b[0m\u001b[1;33m)\u001b[0m \u001b[1;33m==\u001b[0m \u001b[0mfind_parent\u001b[0m\u001b[1;33m(\u001b[0m\u001b[0mparent\u001b[0m\u001b[1;33m,\u001b[0m \u001b[0mb\u001b[0m\u001b[1;33m)\u001b[0m\u001b[1;33m:\u001b[0m\u001b[1;33m\u001b[0m\u001b[1;33m\u001b[0m\u001b[0m\n",
      "\u001b[1;32m~\\anaconda3\\lib\\site-packages\\ipykernel\\kernelbase.py\u001b[0m in \u001b[0;36mraw_input\u001b[1;34m(self, prompt)\u001b[0m\n\u001b[0;32m    858\u001b[0m                 \u001b[1;34m\"raw_input was called, but this frontend does not support input requests.\"\u001b[0m\u001b[1;33m\u001b[0m\u001b[1;33m\u001b[0m\u001b[0m\n\u001b[0;32m    859\u001b[0m             )\n\u001b[1;32m--> 860\u001b[1;33m         return self._input_request(str(prompt),\n\u001b[0m\u001b[0;32m    861\u001b[0m             \u001b[0mself\u001b[0m\u001b[1;33m.\u001b[0m\u001b[0m_parent_ident\u001b[0m\u001b[1;33m,\u001b[0m\u001b[1;33m\u001b[0m\u001b[1;33m\u001b[0m\u001b[0m\n\u001b[0;32m    862\u001b[0m             \u001b[0mself\u001b[0m\u001b[1;33m.\u001b[0m\u001b[0m_parent_header\u001b[0m\u001b[1;33m,\u001b[0m\u001b[1;33m\u001b[0m\u001b[1;33m\u001b[0m\u001b[0m\n",
      "\u001b[1;32m~\\anaconda3\\lib\\site-packages\\ipykernel\\kernelbase.py\u001b[0m in \u001b[0;36m_input_request\u001b[1;34m(self, prompt, ident, parent, password)\u001b[0m\n\u001b[0;32m    902\u001b[0m             \u001b[1;32mexcept\u001b[0m \u001b[0mKeyboardInterrupt\u001b[0m\u001b[1;33m:\u001b[0m\u001b[1;33m\u001b[0m\u001b[1;33m\u001b[0m\u001b[0m\n\u001b[0;32m    903\u001b[0m                 \u001b[1;31m# re-raise KeyboardInterrupt, to truncate traceback\u001b[0m\u001b[1;33m\u001b[0m\u001b[1;33m\u001b[0m\u001b[1;33m\u001b[0m\u001b[0m\n\u001b[1;32m--> 904\u001b[1;33m                 \u001b[1;32mraise\u001b[0m \u001b[0mKeyboardInterrupt\u001b[0m\u001b[1;33m(\u001b[0m\u001b[1;34m\"Interrupted by user\"\u001b[0m\u001b[1;33m)\u001b[0m \u001b[1;32mfrom\u001b[0m \u001b[1;32mNone\u001b[0m\u001b[1;33m\u001b[0m\u001b[1;33m\u001b[0m\u001b[0m\n\u001b[0m\u001b[0;32m    905\u001b[0m             \u001b[1;32mexcept\u001b[0m \u001b[0mException\u001b[0m \u001b[1;32mas\u001b[0m \u001b[0me\u001b[0m\u001b[1;33m:\u001b[0m\u001b[1;33m\u001b[0m\u001b[1;33m\u001b[0m\u001b[0m\n\u001b[0;32m    906\u001b[0m                 \u001b[0mself\u001b[0m\u001b[1;33m.\u001b[0m\u001b[0mlog\u001b[0m\u001b[1;33m.\u001b[0m\u001b[0mwarning\u001b[0m\u001b[1;33m(\u001b[0m\u001b[1;34m\"Invalid Message:\"\u001b[0m\u001b[1;33m,\u001b[0m \u001b[0mexc_info\u001b[0m\u001b[1;33m=\u001b[0m\u001b[1;32mTrue\u001b[0m\u001b[1;33m)\u001b[0m\u001b[1;33m\u001b[0m\u001b[1;33m\u001b[0m\u001b[0m\n",
      "\u001b[1;31mKeyboardInterrupt\u001b[0m: Interrupted by user"
     ]
    }
   ],
   "source": [
    "def find_parent(parent, x):\n",
    "    # 루트 노드가 아니라면, 루트 노드를 찾을 때까지 재귀적으로 호출\n",
    "    if parent[x] != x:\n",
    "        parent[x] = find_parent(parent, parent[x])\n",
    "    return parent[x]\n",
    "\n",
    "# ========================================\n",
    "# 두 원소가 속한 집합을 합치기\n",
    "def union_parent(parent, a, b):\n",
    "    a = find_parent(parent, a)\n",
    "    b = find_parent(parent, b)\n",
    "    if a < b:\n",
    "        parent[b] = a  # 두 수중 큰 쪽이 작은 쪽을 부모로 설정        \n",
    "    else:\n",
    "        parent[a] = b\n",
    " \n",
    "# 노드의 개수와 간선의 개수를 입력 받기\n",
    "v, e = map(int, input().split())\n",
    "parent = [0] * (v+1) # 부모 테이블 초기화하기\n",
    "\n",
    "for i in range(1, v+1):\n",
    "    parent[i] = i\n",
    "  \n",
    "cycle = False  # 사이클 발생 여부\n",
    "\n",
    "for i in range(e):\n",
    "    a, b = map(int, input().split())\n",
    "    # 사이클이 발생한 경우 종료\n",
    "    if find_parent(parent, a) == find_parent(parent, b):\n",
    "        cycle = True\n",
    "        break\n",
    "    # 노드 a와 b가 같은 집합에 속해 있지 않다면 즉, 사이클이 발생하지 않았다면 합집합(Union) 연산 수행    \n",
    "    else:\n",
    "        union_parent(parent, a, b)\n",
    "        \n",
    "if cycle:\n",
    "    print('사이클이 발생했습니다.')\n",
    "else:\n",
    "    print('사이클이 발생하지 않았습니다.')"
   ]
  },
  {
   "cell_type": "markdown",
   "id": "e7e83f1b",
   "metadata": {},
   "source": [
    "##  신장 트리\n",
    "- 그래프에서 모든 노드를 포함하면서 사이클이 존재하지 않는 부분 그래프를 의미\n",
    "    + 모든 노드가 포함되어 서로 연결되면서 사이클이 존재하지 않는다는 조건은 트리의 조건이기도 하다.\n",
    "    \n",
    "### 최소 신장 트리\n",
    "#### 크루스칼 알고리즘 \n",
    "1. 간선 데이터를 비용에 따라 오름차순으로 정렬한다.\n",
    "\n",
    "\n",
    "2. 간선을 하나씩 확인하며 현재의 간선이 사이클을 발생 시키는지 확인<br>\n",
    "    1) 사이클이 발생하지 않은 경우 최소 신장 트리에 포함한다.<br>\n",
    "    2) 사이클이 발생하는 경우 최소 신장 트리에 포함시키지 않는다.<br>\n",
    "\n",
    "\n",
    "3. 모든 간선에 대하여 2번의 과정을 반복한다."
   ]
  },
  {
   "cell_type": "code",
   "execution_count": null,
   "id": "cf7bd91e",
   "metadata": {},
   "outputs": [],
   "source": [
    "def find_parent(parent, x):\n",
    "    # 루트 노드가 아니라면, 루트 노드를 찾을 때까지 재귀적으로 호출\n",
    "    if parent[x] != x:\n",
    "        parent[x] = find_parent(parent, parent[x])\n",
    "    return parent[x]\n",
    "\n",
    "# ========================================\n",
    "# 두 원소가 속한 집합을 합치기\n",
    "def union_parent(parent, a, b):\n",
    "    a = find_parent(parent, a)\n",
    "    b = find_parent(parent, b)\n",
    "    if a < b:\n",
    "        parent[b] = a  # 두 수중 큰 쪽이 작은 쪽을 부모로 설정        \n",
    "    else:\n",
    "        parent[a] = b\n",
    " \n",
    "# 노드의 개수와 간선의 개수를 입력 받기\n",
    "v, e = map(int, input().split())\n",
    "parent = [0] * (v+1) # 부모 테이블 초기화하기\n",
    "\n",
    "# 모든 간선을 담을 리스트와 최종 비용을 담을 변수\n",
    "edges = []\n",
    "result = 0\n",
    "# 부모 테이블 상에서 부모를 자기 자신으로 초기화\n",
    "for i in range(1, v+1):\n",
    "    parent[i] = i\n",
    " \n",
    "# 모든 간선에 대한 정보를 입력 받기\n",
    "for i in range(e):\n",
    "    a, b, cost = map(int, input().split())\n",
    "    edges.append((cost, a, b))\n",
    "    \n",
    "# 간선을 비용순으로 정렬\n",
    "edges.sort()\n",
    "\n",
    "# 간선을 하나씩 확인하며\n",
    "for edge in edges:\n",
    "    cost, a, b = edge\n",
    "    # 사이클이 발생하지 않는 경우에만 집합에 포함\n",
    "    if find_parent(paretn, a) != find_parent(parent, b):\n",
    "        union_parent(parent, a, b)\n",
    "        result += cost\n",
    "print(result)"
   ]
  },
  {
   "cell_type": "markdown",
   "id": "81b7d0be",
   "metadata": {},
   "source": [
    "---\n",
    "## 위상정렬\n",
    "- 사이클이 없는 방향 그래프의 모든 노드를 방향성에 거스르지 않도록 순서대로 나열하는 것을 의미\n",
    "\n",
    "진입차수(Indegree) : 특정한 노드로 들어오는 간선의 개수 <br>\n",
    "진출차수(Outdegree) : 특정한 노드에서 나가는 간선의 개수\n",
    "\n",
    "### 큐를 이용하는 위상정렬 알고리즘의 동작과정\n",
    "1. 진입차수가 0인 모든 노드를 큐에 넣는다.\n",
    "\n",
    "\n",
    "2. 큐가 빌 때까지 다음의 과정을 반복한다.<br>\n",
    "    1) 큐에서 원소를 거내 해당 노드에서 나가는 간선을 그래프에서 제거한다.<br>\n",
    "    2) 새롭게 진입차수가 0이 된 노드를 큐에 넣는다.\n",
    "    \n",
    "    \n",
    "결과적으로 각 노드가 큐에서 들어온 순서가 위상 정렬을 수행한 결과와 같다."
   ]
  },
  {
   "cell_type": "code",
   "execution_count": 8,
   "id": "258c86ed",
   "metadata": {},
   "outputs": [
    {
     "name": "stdout",
     "output_type": "stream",
     "text": [
      "7 8\n",
      "1 2\n",
      "1 5\n",
      "2 3\n",
      "2 6\n",
      "3 4\n",
      "4 7\n",
      "5 6\n",
      "6 4\n",
      "1253647"
     ]
    }
   ],
   "source": [
    "from collections import deque\n",
    "\n",
    "# 노드의 개수와 간선의 개수를 입력 받기\n",
    "v, e = map(int, input().split())\n",
    "\n",
    "# 모든 노드에 대한 진입차수가 0으로 초기화\n",
    "indegree = [0]*(v+1)\n",
    "\n",
    "# 각 노드에 연결된 간선 정보를 담기 우한 연결 리스트 초기화\n",
    "graph = [[]for i in range(v + 1)]\n",
    "\n",
    "# 방향 그래프의 모든 간선 정보를 입력 받기\n",
    "for _ in range(e):\n",
    "    a, b = map(int, input().split())\n",
    "    graph[a].append(b) # a에서 b로 이동 가능\n",
    "    indegree[b] += 1\n",
    "    \n",
    "# 위상 정렬 함수\n",
    "def topology_sort():\n",
    "    result = [] # 알고리즘 수행 결과를 담을 리스트\n",
    "    q = deque()\n",
    "    # 처음 시작할 때는 진입차수가 0인 노드를 큐에 삽입\n",
    "    for i in range(1, v+1):\n",
    "        if indegree[i] == 0:\n",
    "            q.append(i)\n",
    "            \n",
    "    # 큐가 빌 때까지 반복\n",
    "    while q:\n",
    "        # 큐에서 원소 꺼내기\n",
    "        now = q.popleft()\n",
    "        result.append(now)\n",
    "        # 해당 원소와 연결된 노드들의 진입차수에서 1빼기\n",
    "        for i in graph[now]:\n",
    "            indegree[i] -= 1\n",
    "            # 새롭게 진입차수가 0이 되는 노드를 큐에 삽입\n",
    "            if indegree[i] == 0:\n",
    "                q.append(i)\n",
    "    # 위상 정렬을 수행한 결과 출력\n",
    "    for i in result:\n",
    "        print(i, end='')\n",
    "topology_sort()"
   ]
  },
  {
   "cell_type": "code",
   "execution_count": null,
   "id": "f35de784",
   "metadata": {},
   "outputs": [],
   "source": []
  },
  {
   "cell_type": "code",
   "execution_count": null,
   "id": "fcc1292e",
   "metadata": {},
   "outputs": [],
   "source": []
  },
  {
   "cell_type": "code",
   "execution_count": null,
   "id": "6451f547",
   "metadata": {},
   "outputs": [],
   "source": []
  },
  {
   "cell_type": "code",
   "execution_count": null,
   "id": "df7f0e88",
   "metadata": {},
   "outputs": [],
   "source": []
  },
  {
   "cell_type": "code",
   "execution_count": null,
   "id": "957da338",
   "metadata": {},
   "outputs": [],
   "source": []
  },
  {
   "cell_type": "code",
   "execution_count": null,
   "id": "b7f90234",
   "metadata": {},
   "outputs": [],
   "source": []
  },
  {
   "cell_type": "code",
   "execution_count": null,
   "id": "e7988918",
   "metadata": {},
   "outputs": [],
   "source": []
  },
  {
   "cell_type": "code",
   "execution_count": null,
   "id": "25b9c583",
   "metadata": {},
   "outputs": [],
   "source": []
  },
  {
   "cell_type": "code",
   "execution_count": null,
   "id": "7e597bbc",
   "metadata": {},
   "outputs": [],
   "source": []
  },
  {
   "cell_type": "code",
   "execution_count": null,
   "id": "bae6e1a7",
   "metadata": {},
   "outputs": [],
   "source": []
  },
  {
   "cell_type": "code",
   "execution_count": null,
   "id": "a5f8b2af",
   "metadata": {},
   "outputs": [],
   "source": []
  },
  {
   "cell_type": "code",
   "execution_count": null,
   "id": "1e9dca12",
   "metadata": {},
   "outputs": [],
   "source": []
  },
  {
   "cell_type": "code",
   "execution_count": null,
   "id": "c84916c2",
   "metadata": {},
   "outputs": [],
   "source": []
  }
 ],
 "metadata": {
  "kernelspec": {
   "display_name": "Python 3",
   "language": "python",
   "name": "python3"
  },
  "language_info": {
   "codemirror_mode": {
    "name": "ipython",
    "version": 3
   },
   "file_extension": ".py",
   "mimetype": "text/x-python",
   "name": "python",
   "nbconvert_exporter": "python",
   "pygments_lexer": "ipython3",
   "version": "3.8.8"
  }
 },
 "nbformat": 4,
 "nbformat_minor": 5
}
