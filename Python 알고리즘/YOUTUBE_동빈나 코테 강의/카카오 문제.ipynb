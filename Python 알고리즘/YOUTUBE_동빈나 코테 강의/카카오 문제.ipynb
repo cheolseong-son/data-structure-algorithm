{
 "cells": [
  {
   "cell_type": "markdown",
   "id": "838a6f0f",
   "metadata": {},
   "source": [
    "## 1. 키패드 누르기\n"
   ]
  },
  {
   "cell_type": "code",
   "execution_count": 1,
   "id": "d6c347f5",
   "metadata": {},
   "outputs": [],
   "source": [
    "numbers = [1, 3, 4, 5, 8, 2, 1, 4, 5, 9, 5]\n",
    "hand = \"right\"\n",
    "\n",
    "# \"LRLLLRLLRRL\""
   ]
  },
  {
   "cell_type": "code",
   "execution_count": 6,
   "id": "00205b33",
   "metadata": {},
   "outputs": [
    {
     "name": "stdout",
     "output_type": "stream",
     "text": [
      "L\n",
      "R\n",
      "L\n",
      "L\n",
      "L\n",
      "R\n",
      "4\n",
      "9\n"
     ]
    }
   ],
   "source": [
    "answer = []\n",
    "\n",
    "for n in numbers:\n",
    "    num = n % 3 \n",
    "    if num == 1:\n",
    "        print(\"L\")\n",
    "        Li = n\n",
    "    elif num == 0:\n",
    "        print(\"R\")\n",
    "        Ri = n\n",
    "print(Li)\n",
    "print(Ri)"
   ]
  },
  {
   "cell_type": "code",
   "execution_count": 2,
   "id": "c235b2f9",
   "metadata": {},
   "outputs": [
    {
     "data": {
      "text/plain": [
       "2"
      ]
     },
     "execution_count": 2,
     "metadata": {},
     "output_type": "execute_result"
    }
   ],
   "source": [
    "5% 3"
   ]
  },
  {
   "cell_type": "markdown",
   "id": "96e4ef3f",
   "metadata": {},
   "source": [
    "## 2. 신규 아이디 추천\n",
    "### 문제 설명\n",
    "카카오에 입사한 신입 개발자 네오는 \"카카오계정개발팀\"에 배치되어, 카카오 서비스에 가입하는 유저들의 아이디를 생성하는 업무를 담당하게 되었습니다. \"네오\"에게 주어진 첫 업무는 새로 가입하는 유저들이 카카오 아이디 규칙에 맞지 않는 아이디를 입력했을 때, 입력된 아이디와 유사하면서 규칙에 맞는 아이디를 추천해주는 프로그램을 개발하는 것입니다."
   ]
  },
  {
   "cell_type": "code",
   "execution_count": 150,
   "id": "46421cd6",
   "metadata": {},
   "outputs": [
    {
     "name": "stdout",
     "output_type": "stream",
     "text": [
      "1단계 ::: 대--> 소 abcdefghijklmn.p\n"
     ]
    }
   ],
   "source": [
    "new_id = \"abcdefghijklmn.p\"\n",
    "\n",
    "# ----1단계-----------------------------------\n",
    "new_id = new_id.lower()\n",
    "\n",
    "print(\"1단계 ::: 대--> 소\", new_id)\n",
    "#---2단계------------------------------------"
   ]
  },
  {
   "cell_type": "code",
   "execution_count": 151,
   "id": "434ac279",
   "metadata": {},
   "outputs": [
    {
     "name": "stdout",
     "output_type": "stream",
     "text": [
      "abcdefghijklmn.p\n"
     ]
    }
   ],
   "source": [
    "# 2단계\n",
    "aa = list(map(str, new_id))\n",
    "\n",
    "answer = []\n",
    "for i in aa:\n",
    "    if i.isalpha() or i in ['-', '_', '.']or i.isdigit():\n",
    "        answer.append(i)\n",
    "        \n",
    "new_id = ''.join(answer)\n",
    "print(new_id)"
   ]
  },
  {
   "cell_type": "code",
   "execution_count": 152,
   "id": "e33aaa6e",
   "metadata": {},
   "outputs": [
    {
     "name": "stdout",
     "output_type": "stream",
     "text": [
      "3단계 : abcdefghijklmn.p\n"
     ]
    }
   ],
   "source": [
    "while '..' in new_id:\n",
    "    new_id = new_id.replace('..', '.')  #  -> Pass\n",
    "\n",
    "print('3단계 :', new_id)"
   ]
  },
  {
   "cell_type": "code",
   "execution_count": 153,
   "id": "54326900",
   "metadata": {},
   "outputs": [
    {
     "name": "stdout",
     "output_type": "stream",
     "text": [
      "4단계 : abcdefghijklmn.p\n"
     ]
    }
   ],
   "source": [
    "# 4단계\n",
    "if new_id[0] == '.':\n",
    "    answ = list(map(str, new_id))\n",
    "    answ.remove(answ[0])\n",
    "    new_id = ''.join(answ)\n",
    "elif new_id[-1] == '.':\n",
    "    answ = list(map(str, new_id))\n",
    "    answ.remove(answ[-1])\n",
    "    new_id = ''.join(answ)\n",
    "    \n",
    "print('4단계 :', new_id)"
   ]
  },
  {
   "cell_type": "code",
   "execution_count": 154,
   "id": "fd372d2a",
   "metadata": {},
   "outputs": [
    {
     "name": "stdout",
     "output_type": "stream",
     "text": [
      "5단계 : abcdefghijklmn.p\n"
     ]
    }
   ],
   "source": [
    "# 5단계\n",
    "if len(new_id) == 0:\n",
    "    new_id = ''.join('a')\n",
    "    \n",
    "print('5단계 :',new_id)"
   ]
  },
  {
   "cell_type": "code",
   "execution_count": 155,
   "id": "2cbdd2fc",
   "metadata": {},
   "outputs": [
    {
     "name": "stdout",
     "output_type": "stream",
     "text": [
      "6단계 : abcdefghijklmn\n"
     ]
    }
   ],
   "source": [
    "# 6단계 ---------------------------------------\n",
    "if len(new_id) >= 15:\n",
    "    new_id = new_id[:15]\n",
    "    if new_id[-1] == '.':\n",
    "        answ = list(map(str, new_id))\n",
    "        answ.remove(answ[-1])\n",
    "        new_id = ''.join(answ)\n",
    "print('6단계 :', new_id)"
   ]
  },
  {
   "cell_type": "code",
   "execution_count": 156,
   "id": "4395521d",
   "metadata": {},
   "outputs": [
    {
     "name": "stdout",
     "output_type": "stream",
     "text": [
      "14\n",
      "7단계 : abcdefghijklmn\n"
     ]
    }
   ],
   "source": [
    "\n",
    "print(len(new_id))\n",
    "if len(new_id) <= 2:\n",
    "    answ = list(map(str, new_id))\n",
    "    answ.append(answ[-1])\n",
    "    new_id = ''.join(answ)\n",
    "print('7단계 :', new_id)"
   ]
  },
  {
   "cell_type": "code",
   "execution_count": null,
   "id": "8bb667c9",
   "metadata": {},
   "outputs": [],
   "source": []
  },
  {
   "cell_type": "code",
   "execution_count": null,
   "id": "e5b1c9d2",
   "metadata": {},
   "outputs": [],
   "source": []
  },
  {
   "cell_type": "code",
   "execution_count": null,
   "id": "dd703234",
   "metadata": {},
   "outputs": [],
   "source": []
  },
  {
   "cell_type": "code",
   "execution_count": null,
   "id": "56e1ca74",
   "metadata": {},
   "outputs": [],
   "source": []
  },
  {
   "cell_type": "code",
   "execution_count": null,
   "id": "cff52abc",
   "metadata": {},
   "outputs": [],
   "source": []
  },
  {
   "cell_type": "code",
   "execution_count": null,
   "id": "bedd8219",
   "metadata": {},
   "outputs": [],
   "source": []
  },
  {
   "cell_type": "code",
   "execution_count": null,
   "id": "022f2bdb",
   "metadata": {},
   "outputs": [],
   "source": []
  },
  {
   "cell_type": "code",
   "execution_count": null,
   "id": "b245687a",
   "metadata": {},
   "outputs": [],
   "source": []
  },
  {
   "cell_type": "code",
   "execution_count": null,
   "id": "3d246a5d",
   "metadata": {},
   "outputs": [],
   "source": []
  }
 ],
 "metadata": {
  "kernelspec": {
   "display_name": "Python 3",
   "language": "python",
   "name": "python3"
  },
  "language_info": {
   "codemirror_mode": {
    "name": "ipython",
    "version": 3
   },
   "file_extension": ".py",
   "mimetype": "text/x-python",
   "name": "python",
   "nbconvert_exporter": "python",
   "pygments_lexer": "ipython3",
   "version": "3.8.8"
  }
 },
 "nbformat": 4,
 "nbformat_minor": 5
}
