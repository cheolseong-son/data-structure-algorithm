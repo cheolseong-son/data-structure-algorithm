{
 "cells": [
  {
   "cell_type": "code",
   "execution_count": 1,
   "id": "2ecca321",
   "metadata": {},
   "outputs": [
    {
     "name": "stdout",
     "output_type": "stream",
     "text": [
      "원소 수를 입력하세요.: 5\n",
      "x[0]: 2\n",
      "x[1]: 8\n",
      "x[2]: 6\n",
      "x[3]: 8\n",
      "x[4]: 7\n",
      "검색할 값을 입력하세요.: 6\n",
      "검색값은 x[2]에 있습니다.\n"
     ]
    }
   ],
   "source": [
    "from typing import Any, Sequence\n",
    "\n",
    "\n",
    "def seq_search(a:Sequence, key:Any) -> int:\n",
    "    i = 0\n",
    "    \n",
    "    while True:\n",
    "        if i == len(a):\n",
    "            return -1\n",
    "        if a[i] == key:\n",
    "            return i\n",
    "        i += 1\n",
    "        \n",
    "        \n",
    "if __name__ == '__main__':\n",
    "    \n",
    "    num = int(input('원소 수를 입력하세요.: '))\n",
    "    \n",
    "    x = [None] * num\n",
    "    \n",
    "    for i in range(num):\n",
    "        x[i] = int (input(f'x[{i}]: '))\n",
    "        \n",
    "    key = int(input('검색할 값을 입력하세요.: '))\n",
    "    idx = seq_search(x, key)\n",
    "    \n",
    "    if idx == -1:\n",
    "        print('검색값을 갖은 원소가 없습니다.')\n",
    "    else:\n",
    "        print(f'검색값은 x[{idx}]에 있습니다.')"
   ]
  },
  {
   "cell_type": "markdown",
   "id": "04cef660",
   "metadata": {},
   "source": [
    "## 해시법(체인법)"
   ]
  },
  {
   "cell_type": "code",
   "execution_count": 2,
   "id": "33fe9a32",
   "metadata": {},
   "outputs": [],
   "source": [
    "from __future__ import annotations\n",
    "from typing import Any, Type\n",
    "import hashlib\n",
    "\n",
    "class Node:\n",
    "    \n",
    "    \"해시를 구성하는 노드\"\n",
    "    \n",
    "    def __init__(self, key: Any, value: Any, next:Node) -> None:\n",
    "        \"초기화\"\n",
    "        self.key = key\n",
    "        self.value = value\n",
    "        self.next = next\n",
    "        \n",
    "class ChainedHash:\n",
    "    def __init__(self, capacity: int)-> None:\n",
    "        \"초기화\"\n",
    "        self.capacity = capacity\n",
    "        self.table = [None] * self.capacity\n",
    "        \n",
    "        def hash_value(self, key:Any) -> int:\n",
    "            \n",
    "            \"해시값 구함\"\n",
    "            if isinstance(key, int):\n",
    "                return key % self.capacity\n",
    "            return (int(hashlib.sha256(str(key).encode()).hexdigest(), 16) % self.capacity)"
   ]
  },
  {
   "cell_type": "code",
   "execution_count": null,
   "id": "40bca138",
   "metadata": {},
   "outputs": [],
   "source": []
  },
  {
   "cell_type": "code",
   "execution_count": null,
   "id": "08893d7a",
   "metadata": {},
   "outputs": [],
   "source": []
  },
  {
   "cell_type": "code",
   "execution_count": null,
   "id": "cb2599ae",
   "metadata": {},
   "outputs": [],
   "source": []
  },
  {
   "cell_type": "code",
   "execution_count": null,
   "id": "2e60acb4",
   "metadata": {},
   "outputs": [],
   "source": []
  },
  {
   "cell_type": "code",
   "execution_count": null,
   "id": "7c987798",
   "metadata": {},
   "outputs": [],
   "source": []
  },
  {
   "cell_type": "code",
   "execution_count": null,
   "id": "22c633e5",
   "metadata": {},
   "outputs": [],
   "source": []
  },
  {
   "cell_type": "code",
   "execution_count": null,
   "id": "72cafd35",
   "metadata": {},
   "outputs": [],
   "source": []
  },
  {
   "cell_type": "code",
   "execution_count": null,
   "id": "f41537e1",
   "metadata": {},
   "outputs": [],
   "source": []
  },
  {
   "cell_type": "code",
   "execution_count": null,
   "id": "96369feb",
   "metadata": {},
   "outputs": [],
   "source": []
  },
  {
   "cell_type": "code",
   "execution_count": null,
   "id": "509c8b85",
   "metadata": {},
   "outputs": [],
   "source": []
  },
  {
   "cell_type": "code",
   "execution_count": null,
   "id": "4afed474",
   "metadata": {},
   "outputs": [],
   "source": []
  },
  {
   "cell_type": "code",
   "execution_count": null,
   "id": "273dc349",
   "metadata": {},
   "outputs": [],
   "source": []
  }
 ],
 "metadata": {
  "kernelspec": {
   "display_name": "Python 3",
   "language": "python",
   "name": "python3"
  },
  "language_info": {
   "codemirror_mode": {
    "name": "ipython",
    "version": 3
   },
   "file_extension": ".py",
   "mimetype": "text/x-python",
   "name": "python",
   "nbconvert_exporter": "python",
   "pygments_lexer": "ipython3",
   "version": "3.8.8"
  }
 },
 "nbformat": 4,
 "nbformat_minor": 5
}
