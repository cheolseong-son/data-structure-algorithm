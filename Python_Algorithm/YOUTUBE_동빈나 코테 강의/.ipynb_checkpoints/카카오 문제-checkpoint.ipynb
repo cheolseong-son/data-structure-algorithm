{
 "cells": [
  {
   "cell_type": "markdown",
   "id": "3f8ded85",
   "metadata": {},
   "source": [
    "## 1. 키패드 누르기\n"
   ]
  },
  {
   "cell_type": "code",
   "execution_count": 1,
   "id": "740e3af3",
   "metadata": {},
   "outputs": [],
   "source": [
    "numbers = [1, 3, 4, 5, 8, 2, 1, 4, 5, 9, 5]\n",
    "hand = \"right\"\n",
    "\n",
    "# \"LRLLLRLLRRL\""
   ]
  },
  {
   "cell_type": "code",
   "execution_count": 6,
   "id": "e87603e4",
   "metadata": {},
   "outputs": [
    {
     "name": "stdout",
     "output_type": "stream",
     "text": [
      "L\n",
      "R\n",
      "L\n",
      "L\n",
      "L\n",
      "R\n",
      "4\n",
      "9\n"
     ]
    }
   ],
   "source": [
    "answer = []\n",
    "\n",
    "for n in numbers:\n",
    "    num = n % 3 \n",
    "    if num == 1:\n",
    "        print(\"L\")\n",
    "        Li = n\n",
    "    elif num == 0:\n",
    "        print(\"R\")\n",
    "        Ri = n\n",
    "print(Li)\n",
    "print(Ri)"
   ]
  },
  {
   "cell_type": "code",
   "execution_count": 2,
   "id": "eb0ccb0b",
   "metadata": {},
   "outputs": [
    {
     "data": {
      "text/plain": [
       "2"
      ]
     },
     "execution_count": 2,
     "metadata": {},
     "output_type": "execute_result"
    }
   ],
   "source": [
    "5% 3"
   ]
  },
  {
   "cell_type": "markdown",
   "id": "5156bd2a",
   "metadata": {},
   "source": [
    "## 2. 신규 아이디 추천\n",
    "### 문제 설명\n",
    "카카오에 입사한 신입 개발자 네오는 \"카카오계정개발팀\"에 배치되어, 카카오 서비스에 가입하는 유저들의 아이디를 생성하는 업무를 담당하게 되었습니다. \"네오\"에게 주어진 첫 업무는 새로 가입하는 유저들이 카카오 아이디 규칙에 맞지 않는 아이디를 입력했을 때, 입력된 아이디와 유사하면서 규칙에 맞는 아이디를 추천해주는 프로그램을 개발하는 것입니다."
   ]
  },
  {
   "cell_type": "code",
   "execution_count": 89,
   "id": "5b7bde85",
   "metadata": {},
   "outputs": [
    {
     "name": "stdout",
     "output_type": "stream",
     "text": [
      "1단계 ::: 대--> 소 ...!@bat#*..y.abcdefghijklm\n",
      "['.', '.', '.', '!', '@', 'b', 'a', 't', '#', '*', '.', '.', 'y', '.', 'a', 'b', 'c', 'd', 'e', 'f', 'g', 'h', 'i', 'j', 'k', 'l', 'm']\n",
      ".\n",
      ".\n",
      "@\n",
      "a\n",
      "#\n",
      ".\n",
      "y\n",
      "a\n",
      "c\n",
      "e\n",
      "g\n",
      "i\n",
      "k\n",
      "m\n"
     ]
    }
   ],
   "source": [
    "new_id = \"...!@BaT#*..y.abcdefghijklm\"\n",
    "\n",
    "# ----1단계-----------------------------------\n",
    "new_low_id = new_id.lower()\n",
    "\n",
    "print(\"1단계 ::: 대--> 소\", new_low_id)\n",
    "#---2단계------------------------------------\n",
    "\n",
    "\n",
    "\n",
    "aa = list(map(str, new_low_id))\n",
    "\n",
    "print(aa)\n",
    "for i in aa:\n",
    "    if not i.isalpha() or i not in ['-', '_', '.']:\n",
    "        print(i)\n",
    "        aa.remove(i)\n",
    "        \n",
    "ans = ''.join(aa)"
   ]
  },
  {
   "cell_type": "code",
   "execution_count": null,
   "id": "73891f03",
   "metadata": {},
   "outputs": [],
   "source": []
  },
  {
   "cell_type": "code",
   "execution_count": null,
   "id": "a719dffb",
   "metadata": {},
   "outputs": [],
   "source": []
  },
  {
   "cell_type": "code",
   "execution_count": null,
   "id": "fa8e758c",
   "metadata": {},
   "outputs": [],
   "source": []
  },
  {
   "cell_type": "code",
   "execution_count": null,
   "id": "c0a81f42",
   "metadata": {},
   "outputs": [],
   "source": []
  },
  {
   "cell_type": "code",
   "execution_count": null,
   "id": "89c2039e",
   "metadata": {},
   "outputs": [],
   "source": []
  },
  {
   "cell_type": "code",
   "execution_count": null,
   "id": "b7a8758a",
   "metadata": {},
   "outputs": [],
   "source": []
  },
  {
   "cell_type": "code",
   "execution_count": null,
   "id": "37bdaf7b",
   "metadata": {},
   "outputs": [],
   "source": []
  },
  {
   "cell_type": "code",
   "execution_count": 78,
   "id": "ccafb5e8",
   "metadata": {},
   "outputs": [
    {
     "name": "stdout",
     "output_type": "stream",
     "text": [
      "1단계 ::: 대--> 소 ...!@bat#*..y.abcdefghijklm\n",
      "2단계 : ...!@bat#*..y.abcdefghijklm\n",
      "3단계 : .!@bat#*.y.abcdefghijklm\n",
      "4단계 : !@bat#*.y.abcdefghijklm\n",
      "5단계 : !@bat#*.y.abcdefghijklm\n",
      "6단계 : !@bat#*.y.abcdef\n",
      "7단계 : !@bat#*.y.abcdef\n"
     ]
    }
   ],
   "source": [
    "new_id = \"...!@BaT#*..y.abcdefghijklm\"\n",
    "\n",
    "# ----1단계-----------------------------------\n",
    "new_low_id = new_id.lower()\n",
    "\n",
    "print(\"1단계 ::: 대--> 소\", new_low_id)\n",
    "#---2단계------------------------------------\n",
    "\n",
    "\n",
    "rem = ['!', '@', '#', '*']\n",
    "\n",
    "aa = list(map(str, new_low_id))\n",
    "\n",
    "for i in aa:\n",
    "    if i.isalpha or i in ['-', '_', '.']:\n",
    "        continue\n",
    "    else:\n",
    "        aa.remove(i)\n",
    "ans = ''.join(aa)\n",
    "print('2단계 :',ans)\n",
    "\n",
    "# ---3단계------------------------------\n",
    "while '..' in ans:\n",
    "    ans = ans.replace('..', '.')  #  -> Pass\n",
    "print('3단계 :',ans)\n",
    "\n",
    "# -----4단계---------------------------------\n",
    "if ans[0] == '.':\n",
    "    answ = list(map(str, ans))\n",
    "    answ.remove(answ[0])\n",
    "    ans = ''.join(answ)\n",
    "print('4단계 :', ans)\n",
    "\n",
    "# ---------5단계-------------------------------\n",
    "if len(ans) == 0:\n",
    "    ans = ''.join('a')\n",
    "print('5단계 :',ans)\n",
    "# 6단계 ---------------------------------------\n",
    "if len(ans) >= 16:\n",
    "    ans = ans[:16]\n",
    "    if ans[-1] == '.':\n",
    "        answ = list(map(str, ans))\n",
    "        answ.remove(answ[-1])\n",
    "        ans = ''.join(answ)\n",
    "print('6단계 :', ans)\n",
    "# 7단계 ----------------------------------------\n",
    "if len(ans) <= 2:\n",
    "    ans.append(ans[-1])\n",
    "print('7단계 :', ans)"
   ]
  },
  {
   "cell_type": "code",
   "execution_count": 76,
   "id": "eb29681a",
   "metadata": {},
   "outputs": [
    {
     "name": "stdout",
     "output_type": "stream",
     "text": [
      "!@bat#*.y.abcdef\n"
     ]
    }
   ],
   "source": [
    "print(ans)"
   ]
  },
  {
   "cell_type": "code",
   "execution_count": null,
   "id": "02d27e2a",
   "metadata": {},
   "outputs": [],
   "source": []
  },
  {
   "cell_type": "code",
   "execution_count": null,
   "id": "e543a8b9",
   "metadata": {},
   "outputs": [],
   "source": []
  },
  {
   "cell_type": "code",
   "execution_count": null,
   "id": "fc3415bf",
   "metadata": {},
   "outputs": [],
   "source": []
  },
  {
   "cell_type": "code",
   "execution_count": null,
   "id": "0f7aec3e",
   "metadata": {},
   "outputs": [],
   "source": []
  },
  {
   "cell_type": "code",
   "execution_count": null,
   "id": "e7d80a99",
   "metadata": {},
   "outputs": [],
   "source": []
  },
  {
   "cell_type": "code",
   "execution_count": null,
   "id": "d1cbf369",
   "metadata": {},
   "outputs": [],
   "source": []
  },
  {
   "cell_type": "code",
   "execution_count": null,
   "id": "e105e876",
   "metadata": {},
   "outputs": [],
   "source": []
  },
  {
   "cell_type": "code",
   "execution_count": null,
   "id": "c88ad9e5",
   "metadata": {},
   "outputs": [],
   "source": []
  }
 ],
 "metadata": {
  "kernelspec": {
   "display_name": "Python 3",
   "language": "python",
   "name": "python3"
  },
  "language_info": {
   "codemirror_mode": {
    "name": "ipython",
    "version": 3
   },
   "file_extension": ".py",
   "mimetype": "text/x-python",
   "name": "python",
   "nbconvert_exporter": "python",
   "pygments_lexer": "ipython3",
   "version": "3.8.8"
  }
 },
 "nbformat": 4,
 "nbformat_minor": 5
}
