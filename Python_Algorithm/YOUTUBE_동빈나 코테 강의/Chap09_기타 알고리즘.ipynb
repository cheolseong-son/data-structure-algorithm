{
 "cells": [
  {
   "cell_type": "markdown",
   "id": "a072f9d8",
   "metadata": {},
   "source": [
    "## 소수(Prime Number)\n",
    "- 1보다 큰 자연수 중에서 1과 자기 자신을 제외한 자연수로 나누어 떨어지지 않는 자연수"
   ]
  },
  {
   "cell_type": "markdown",
   "id": "8c123fbc",
   "metadata": {},
   "source": [
    "#### 소수의 판별 : 기본적인 알고리즘"
   ]
  },
  {
   "cell_type": "code",
   "execution_count": 1,
   "id": "cbf6e588",
   "metadata": {},
   "outputs": [
    {
     "name": "stdout",
     "output_type": "stream",
     "text": [
      "False\n",
      "True\n"
     ]
    }
   ],
   "source": [
    "def is_Prime_number(x):\n",
    "    for i in range(2, x):\n",
    "        if x % i == 0:\n",
    "            return False\n",
    "    return True\n",
    "\n",
    "print(is_Prime_number(4))\n",
    "print(is_Prime_number(7))"
   ]
  },
  {
   "cell_type": "markdown",
   "id": "1e0f0e9d",
   "metadata": {},
   "source": [
    "#### 개선된 알고리즘"
   ]
  },
  {
   "cell_type": "code",
   "execution_count": 2,
   "id": "16d62372",
   "metadata": {},
   "outputs": [
    {
     "name": "stdout",
     "output_type": "stream",
     "text": [
      "False\n",
      "True\n"
     ]
    }
   ],
   "source": [
    "import math\n",
    "\n",
    "# 소수 판별 함수 \n",
    "def is_prime_number(x):\n",
    "    # 2부터 x의 제곱근까지의 모든 수를 확인\n",
    "    for i in range(2, int(math.sqrt(x))+1):    ###\n",
    "        if x % i == 0:\n",
    "            return False\n",
    "    return True\n",
    "\n",
    "print(is_prime_number(4))\n",
    "print(is_prime_number(7))"
   ]
  },
  {
   "cell_type": "markdown",
   "id": "2d6b3d89",
   "metadata": {},
   "source": [
    "### 다수의 소수 판별\n",
    "#### 에라토스테네스의 체 알고리즘\n",
    "##### 동작 과정\n",
    "1. 2부터 N까지의 모든 자연수를 나열한다.\n",
    "2. 남은 수 중에서 아직 처리하지 않은 가장 작은 수 i를 찾는다.\n",
    "3. 남은 수 중에서 i의 배수를 모든 제거한다.(i는 제거하지 않는다.)\n",
    "4. 더 이상 반복할 수 없는 때까지 2번과 3번의 과정을 반복한다."
   ]
  },
  {
   "cell_type": "code",
   "execution_count": 6,
   "id": "d4e82503",
   "metadata": {},
   "outputs": [
    {
     "name": "stdout",
     "output_type": "stream",
     "text": [
      "2 3 5 7 "
     ]
    }
   ],
   "source": [
    "import math\n",
    "\n",
    "n = 10\n",
    "array = [True for i in range(n+1)]\n",
    "\n",
    "for i in range(2, int(math.sqrt(n))+1):   # 2부터 n의 제곱근까지 확인\n",
    "    if array[i] == True: # ----------------> i가 소수인 경우(남은 수인 경우)             \n",
    "        # i를 제외한 i의 모든 배수를 지우기\n",
    "        j = 2\n",
    "        while i*j <= n:         \n",
    "            array[i*j] = False\n",
    "            j += 1\n",
    "            \n",
    "# 모든 소수 출력\n",
    "for i in range(2, n+1):\n",
    "    if array[i]: # ------------> True인것만 출력           \n",
    "        print(i, end=' ')"
   ]
  },
  {
   "cell_type": "markdown",
   "id": "a8fe1029",
   "metadata": {},
   "source": [
    "## 투 포인터(Two Pointers)\n",
    "- 리스트에 순차적으로 접근해야 할 때 두 개의 점의 위치를 기록하면서 처리하는 알고리즘"
   ]
  },
  {
   "cell_type": "markdown",
   "id": "184749ce",
   "metadata": {},
   "source": [
    "#### 특정한 합을 가지는 부분 연속 수열 찾기 : 문제 설명\n",
    "##### 처리 과정\n",
    "1. 시작점(start)과 끝점(end)이 첫 번째 원소의 인데스를 가리키도록 한다.\n",
    "2. 현재 부분 합이 M과 같다면, 카운트한다.\n",
    "3. 현재 부분 합이 M보다 작다면 end를 1씩 증가시킨다.\n",
    "4. 현재 부분 합이 M보다 크거나 같다면, start를 증가시킨다.\n",
    "5. 모든 경우를 확인할 때까지 2번부터 4번까지의 과정을 반복한다."
   ]
  },
  {
   "cell_type": "code",
   "execution_count": 8,
   "id": "fa8d28ce",
   "metadata": {},
   "outputs": [
    {
     "name": "stdout",
     "output_type": "stream",
     "text": [
      "3\n"
     ]
    }
   ],
   "source": [
    "n = 5 # 데이터 개수\n",
    "m = 5 # 찾고자 하는 부분 합\n",
    "data = [1,2,3,2,5]\n",
    "\n",
    "count = 0\n",
    "interval_sum = 0\n",
    "end = 0\n",
    "\n",
    "# start를 차례대로 증가시키며 반복\n",
    "for start in range(n):\n",
    "    # end를 가능한만큼 이동시키기\n",
    "    while interval_sum < m and end < n:\n",
    "        interval_sum += data[end]\n",
    "        end += 1\n",
    "    # 부분합이 m일 때 카운트 증가\n",
    "    if interval_sum == m:\n",
    "        count += 1\n",
    "    interval_sum -= data[start]\n",
    "print(count)"
   ]
  },
  {
   "cell_type": "markdown",
   "id": "769e274c",
   "metadata": {},
   "source": [
    "### 구간 합 (Intervel Sum)\n",
    "#### 접두사 합(Prefix Sum) : 배열의 맨 앞부터 특정 위치까지의 합을 미리 구해 놓은 것"
   ]
  },
  {
   "cell_type": "code",
   "execution_count": null,
   "id": "39d7fd0b",
   "metadata": {},
   "outputs": [],
   "source": [
    "n = 5\n",
    "data = [10,20,30,40,50]\n",
    "\n",
    "# 접두사 합 배열 계산\n",
    "sum_value = 0\n",
    "prefix_sum = [0]\n",
    "for i in data:\n",
    "    sum_value += i\n",
    "    prefix_sum.append(sum_value)\n",
    "    \n",
    "# 구간 합 계산\n",
    "left = 3\n",
    "right"
   ]
  },
  {
   "cell_type": "code",
   "execution_count": null,
   "id": "970e92f1",
   "metadata": {},
   "outputs": [],
   "source": []
  },
  {
   "cell_type": "code",
   "execution_count": null,
   "id": "d89a63fb",
   "metadata": {},
   "outputs": [],
   "source": []
  },
  {
   "cell_type": "code",
   "execution_count": null,
   "id": "1751fc61",
   "metadata": {},
   "outputs": [],
   "source": []
  },
  {
   "cell_type": "code",
   "execution_count": null,
   "id": "3a51e7f5",
   "metadata": {},
   "outputs": [],
   "source": []
  },
  {
   "cell_type": "code",
   "execution_count": null,
   "id": "eff4fc82",
   "metadata": {},
   "outputs": [],
   "source": []
  },
  {
   "cell_type": "code",
   "execution_count": null,
   "id": "298f491f",
   "metadata": {},
   "outputs": [],
   "source": []
  },
  {
   "cell_type": "code",
   "execution_count": null,
   "id": "67f5bf62",
   "metadata": {},
   "outputs": [],
   "source": []
  },
  {
   "cell_type": "code",
   "execution_count": null,
   "id": "5b4655f0",
   "metadata": {},
   "outputs": [],
   "source": []
  },
  {
   "cell_type": "code",
   "execution_count": null,
   "id": "4b4c78c6",
   "metadata": {},
   "outputs": [],
   "source": []
  },
  {
   "cell_type": "code",
   "execution_count": null,
   "id": "b13fb683",
   "metadata": {},
   "outputs": [],
   "source": []
  },
  {
   "cell_type": "code",
   "execution_count": null,
   "id": "bc165004",
   "metadata": {},
   "outputs": [],
   "source": []
  },
  {
   "cell_type": "code",
   "execution_count": null,
   "id": "69dfa58f",
   "metadata": {},
   "outputs": [],
   "source": []
  }
 ],
 "metadata": {
  "kernelspec": {
   "display_name": "Python 3",
   "language": "python",
   "name": "python3"
  },
  "language_info": {
   "codemirror_mode": {
    "name": "ipython",
    "version": 3
   },
   "file_extension": ".py",
   "mimetype": "text/x-python",
   "name": "python",
   "nbconvert_exporter": "python",
   "pygments_lexer": "ipython3",
   "version": "3.8.8"
  }
 },
 "nbformat": 4,
 "nbformat_minor": 5
}
