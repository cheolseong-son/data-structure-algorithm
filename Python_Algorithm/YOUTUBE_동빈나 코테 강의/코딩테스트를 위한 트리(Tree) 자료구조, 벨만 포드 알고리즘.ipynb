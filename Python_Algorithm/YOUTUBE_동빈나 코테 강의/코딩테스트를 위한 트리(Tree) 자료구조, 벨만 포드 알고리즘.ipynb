{
 "cells": [
  {
   "cell_type": "markdown",
   "id": "c3111bd4",
   "metadata": {},
   "source": [
    "## 트리의 순회(Tree Traversal)\n",
    "\n",
    "- 트리 자료구조에 포함된 노드를 특정한 방법으로 한 번씩 방문하는 방법을 의미한다.\n",
    "    + 트리의 정보를 시각적으로 확인할 수 있다.\n",
    "#### 대표적인 순회방법\n",
    "- 전위 순회(Pre-order traverse) : 루트를 먼저 방문한다.\n",
    "- 중위 순회(in-order traverse) : 왼쪽 자식을 방문한 뒤 루트를 방문한다.\n",
    "- 후위 순회(post-order traverse) : 오른쪽 자식을 방문한 뒤에 루트를 방문한다.\n"
   ]
  },
  {
   "cell_type": "code",
   "execution_count": 3,
   "id": "ee4db81f",
   "metadata": {
    "collapsed": true
   },
   "outputs": [
    {
     "ename": "KeyboardInterrupt",
     "evalue": "Interrupted by user",
     "output_type": "error",
     "traceback": [
      "\u001b[1;31m---------------------------------------------------------------------------\u001b[0m",
      "\u001b[1;31mKeyboardInterrupt\u001b[0m                         Traceback (most recent call last)",
      "\u001b[1;32m<ipython-input-3-6306a1a2d52f>\u001b[0m in \u001b[0;36m<module>\u001b[1;34m\u001b[0m\n\u001b[0;32m     31\u001b[0m     \u001b[0mprint\u001b[0m\u001b[1;33m(\u001b[0m\u001b[0mnode\u001b[0m\u001b[1;33m.\u001b[0m\u001b[0mdata\u001b[0m\u001b[1;33m,\u001b[0m \u001b[0mend\u001b[0m\u001b[1;33m=\u001b[0m\u001b[1;34m' '\u001b[0m\u001b[1;33m)\u001b[0m             \u001b[1;31m# 자기 자신 방문\u001b[0m\u001b[1;33m\u001b[0m\u001b[1;33m\u001b[0m\u001b[0m\n\u001b[0;32m     32\u001b[0m \u001b[1;33m\u001b[0m\u001b[0m\n\u001b[1;32m---> 33\u001b[1;33m \u001b[0mn\u001b[0m \u001b[1;33m=\u001b[0m \u001b[0mint\u001b[0m\u001b[1;33m(\u001b[0m\u001b[0minput\u001b[0m\u001b[1;33m(\u001b[0m\u001b[1;33m)\u001b[0m\u001b[1;33m)\u001b[0m\u001b[1;33m\u001b[0m\u001b[1;33m\u001b[0m\u001b[0m\n\u001b[0m\u001b[0;32m     34\u001b[0m \u001b[0mtree\u001b[0m \u001b[1;33m=\u001b[0m \u001b[1;33m{\u001b[0m\u001b[1;33m}\u001b[0m\u001b[1;33m\u001b[0m\u001b[1;33m\u001b[0m\u001b[0m\n\u001b[0;32m     35\u001b[0m \u001b[1;33m\u001b[0m\u001b[0m\n",
      "\u001b[1;32m~\\anaconda3\\lib\\site-packages\\ipykernel\\kernelbase.py\u001b[0m in \u001b[0;36mraw_input\u001b[1;34m(self, prompt)\u001b[0m\n\u001b[0;32m    858\u001b[0m                 \u001b[1;34m\"raw_input was called, but this frontend does not support input requests.\"\u001b[0m\u001b[1;33m\u001b[0m\u001b[1;33m\u001b[0m\u001b[0m\n\u001b[0;32m    859\u001b[0m             )\n\u001b[1;32m--> 860\u001b[1;33m         return self._input_request(str(prompt),\n\u001b[0m\u001b[0;32m    861\u001b[0m             \u001b[0mself\u001b[0m\u001b[1;33m.\u001b[0m\u001b[0m_parent_ident\u001b[0m\u001b[1;33m,\u001b[0m\u001b[1;33m\u001b[0m\u001b[1;33m\u001b[0m\u001b[0m\n\u001b[0;32m    862\u001b[0m             \u001b[0mself\u001b[0m\u001b[1;33m.\u001b[0m\u001b[0m_parent_header\u001b[0m\u001b[1;33m,\u001b[0m\u001b[1;33m\u001b[0m\u001b[1;33m\u001b[0m\u001b[0m\n",
      "\u001b[1;32m~\\anaconda3\\lib\\site-packages\\ipykernel\\kernelbase.py\u001b[0m in \u001b[0;36m_input_request\u001b[1;34m(self, prompt, ident, parent, password)\u001b[0m\n\u001b[0;32m    902\u001b[0m             \u001b[1;32mexcept\u001b[0m \u001b[0mKeyboardInterrupt\u001b[0m\u001b[1;33m:\u001b[0m\u001b[1;33m\u001b[0m\u001b[1;33m\u001b[0m\u001b[0m\n\u001b[0;32m    903\u001b[0m                 \u001b[1;31m# re-raise KeyboardInterrupt, to truncate traceback\u001b[0m\u001b[1;33m\u001b[0m\u001b[1;33m\u001b[0m\u001b[1;33m\u001b[0m\u001b[0m\n\u001b[1;32m--> 904\u001b[1;33m                 \u001b[1;32mraise\u001b[0m \u001b[0mKeyboardInterrupt\u001b[0m\u001b[1;33m(\u001b[0m\u001b[1;34m\"Interrupted by user\"\u001b[0m\u001b[1;33m)\u001b[0m \u001b[1;32mfrom\u001b[0m \u001b[1;32mNone\u001b[0m\u001b[1;33m\u001b[0m\u001b[1;33m\u001b[0m\u001b[0m\n\u001b[0m\u001b[0;32m    905\u001b[0m             \u001b[1;32mexcept\u001b[0m \u001b[0mException\u001b[0m \u001b[1;32mas\u001b[0m \u001b[0me\u001b[0m\u001b[1;33m:\u001b[0m\u001b[1;33m\u001b[0m\u001b[1;33m\u001b[0m\u001b[0m\n\u001b[0;32m    906\u001b[0m                 \u001b[0mself\u001b[0m\u001b[1;33m.\u001b[0m\u001b[0mlog\u001b[0m\u001b[1;33m.\u001b[0m\u001b[0mwarning\u001b[0m\u001b[1;33m(\u001b[0m\u001b[1;34m\"Invalid Message:\"\u001b[0m\u001b[1;33m,\u001b[0m \u001b[0mexc_info\u001b[0m\u001b[1;33m=\u001b[0m\u001b[1;32mTrue\u001b[0m\u001b[1;33m)\u001b[0m\u001b[1;33m\u001b[0m\u001b[1;33m\u001b[0m\u001b[0m\n",
      "\u001b[1;31mKeyboardInterrupt\u001b[0m: Interrupted by user"
     ]
    }
   ],
   "source": [
    "\n",
    "# 구현\n",
    "\n",
    "class Node:\n",
    "    def __init__(self, data, left_node, right_node):\n",
    "        self.data = data\n",
    "        self.left_node = left_node\n",
    "        self.right_node = right_node\n",
    "        \n",
    "# 전위 순회(pre-order traverse)\n",
    "def pre_order(node):\n",
    "    print(node.data, end=' ')            # 자기 자신 데이터 먼저 출력\n",
    "    if node.left_node != None:\n",
    "        pre_order(tree[node.left_node])  # 왼쪽 노드 방문\n",
    "    if node.right_node != None:\n",
    "        pre_order(tree[node.right_node]) # 오른쪽 노드 방문\n",
    "        \n",
    "# 중위 순회(in order traverse)\n",
    "def in_order(node):\n",
    "    if node.left_node != None:           # 왼쪽 노드 방문\n",
    "        in_order(tree[node.left_node])\n",
    "    print(node.data, end=' ')            # 자기 자신 방문\n",
    "    if node.right_node != None:\n",
    "        in_order(tree[node.right_node])  # 오른쪽 노드 방문\n",
    "        \n",
    "# 후위 순회(post order traverse)\n",
    "def post_order(node):\n",
    "    if node.left_node != None:            # 왼쪽 노드 방문\n",
    "        pre_order(tree[node.left_node])   # 오른쪽 노드 방문 \n",
    "    if node.right_node != None:\n",
    "        pre_order(tree[node.right_node]) \n",
    "    print(node.data, end=' ')             # 자기 자신 방문\n",
    "    \n",
    "n = int(input())\n",
    "tree = {}\n",
    "\n",
    "for i in range(n):\n",
    "    data, left_node, right_node = input().split()\n",
    "    if left_node == \"None\":\n",
    "        left_node = None\n",
    "    if right_node == \"None\":\n",
    "        right_node = None\n",
    "    tree[data] = Node(data, left_node, right_node)\n",
    "    \n",
    "    \n",
    "pre_order(\"전위 순회 : \",tree['A'])\n",
    "print()\n",
    "in_order(\"중위 순회 : \",tree['A'])\n",
    "print()\n",
    "post_order(\"후위 순회 : \",tree['A'])\n"
   ]
  },
  {
   "cell_type": "markdown",
   "id": "d9db5685",
   "metadata": {},
   "source": [
    "## 벨만 포드 알고리즘\n",
    "1. 출발노드를 설정합니다.\n",
    "2. 최단거리 테이블을 초기화합니다.\n",
    "3. 다음의 과정을 N-1번 반복합니다.<br>\n",
    "    1) 전체 간선 E개를 하나씩 확인합니다.<br>\n",
    "    2) 각 간선을 거쳐 다른 노드로 가는 비용을 계산하여 최단 거리 테이블을 갱신합니다.\n",
    "- 만약 음수 간선 순환이 발생하는 지 체크하고 싶다면 **3번의 과정을 한번 더 수행**합니다.\n",
    "    + 이때 최단 거리 테이블이 갱신된다면 음수 간선 순환이 존재하는 것입니다."
   ]
  },
  {
   "cell_type": "markdown",
   "id": "140a5df0",
   "metadata": {},
   "source": [
    "### 벨판 포드 알고리즘 VS 다익스트라 알고리즘\n",
    "\n",
    "\n",
    "#### 다익스트라 알고리즘\n",
    "- 매번 방문하지 않은 노드 중에서 최단 거리가 가장 짧은 노드를 선택합니다.\n",
    "- 음수 간선이 없다면 최적이 해를 찾을 수 있습니다.\n",
    "\n",
    "\n",
    "#### 벨만 포드 알고리즘\n",
    "- 매번 모든 간선을 전부 확인합니다.\n",
    "    + 따라서 **다익스타라 알고리즘에서의 최적의 해를 항상 포함**합니다.\n",
    "- 다익스트라 알고리즘에 비해서 시간이 오래 걸리지만 으뭇 간선 순환을 탐지할 수 있습니다."
   ]
  },
  {
   "cell_type": "code",
   "execution_count": null,
   "id": "e0653b81",
   "metadata": {},
   "outputs": [],
   "source": [
    "import sys\n",
    "input = sys.stdin.readline\n",
    "INF = input(le9)\n",
    "\n",
    "def bf(start):\n",
    "    # 시작 노드에 대해서 초기화\n",
    "    dist[start] = 0\n",
    "    # 전체 n번의 (round)를 반복\n",
    "    for i in range(n):\n",
    "        # 매 반복마다 \"모든 간선\"을 확인\n",
    "        for j in range(m):\n",
    "            cur = edges[j][0]\n",
    "            next_node = edges[j][1]\n",
    "            cost = edges[j][2]\n",
    "            # 현재 간선을 거쳐서 다른 노드로 이동ㅎ하는 거리가 더 짧은 경우\n",
    "            if dist[cur] != INF and dist[next_node] > dist[cur] + cost:\n",
    "                dist[next_node] = dist[cur] + cost\n",
    "            # n번째 라운드에서도 값이 갱신이 없다면 음수 순환이 존재\n",
    "            if i == n - 1:\n",
    "                return True\n",
    "    return =False\n",
    "\n",
    "\n",
    "# 노드의 개수, 간선의 개수를 입력받기\n",
    "n, m = map(int, input().split())\n",
    "# 모든 간선에 대한 정보를 담는 리스트를 만들기\n",
    "edges = []\n",
    "# 최단 거리 터이블을 모드 무한으로 초기화\n",
    "dist = [INF] * (n+1)\n",
    "\n",
    "# 모든 간선 정보를 입력받기\n",
    "for _ in range(m):\n",
    "    a, b, c = map(int, input().split())\n",
    "    # a번 노드에서 b번 노드로 가는 비용이 c 라는 의미\n",
    "    edges.append((a, b, c))\n",
    "    \n",
    "# 벨만 포드 알고리즘 수행\n",
    "negative_cycle = bf(1)\n",
    "\n",
    "if negative_cycle:\n",
    "    pritn(\"-1\")\n",
    "else:\n",
    "    # 1번 노드를 제외한 다른 모든 노드로 가기 위한 최단 거리 출력\n",
    "    for i in range(2, n+1):\n",
    "        # 도달 할 수 없는 경우, -1을 출력\n",
    "        if dist[i] == INF:\n",
    "            pritn(\"-1\")\n",
    "        # 도달할 수 있는 경우 거리를 출력\n",
    "        else:\n",
    "            print(dist[i])"
   ]
  },
  {
   "cell_type": "markdown",
   "id": "6d939796",
   "metadata": {},
   "source": [
    "## 바이너리 인덱스 트리(Binary Index Tree, 펜윅 트리)"
   ]
  },
  {
   "cell_type": "code",
   "execution_count": 4,
   "id": "af6e0bc7",
   "metadata": {},
   "outputs": [
    {
     "name": "stdout",
     "output_type": "stream",
     "text": [
      "0 의 마지막 비트: 0\n",
      "1 의 마지막 비트: 1\n",
      "2 의 마지막 비트: 2\n",
      "3 의 마지막 비트: 1\n",
      "4 의 마지막 비트: 4\n",
      "5 의 마지막 비트: 1\n",
      "6 의 마지막 비트: 2\n",
      "7 의 마지막 비트: 1\n",
      "8 의 마지막 비트: 8\n"
     ]
    }
   ],
   "source": [
    "n = 8\n",
    "for i in range(n+1):\n",
    "    print(i,\"의 마지막 비트 :\", (i & -i))"
   ]
  },
  {
   "cell_type": "code",
   "execution_count": null,
   "id": "077a4ec4",
   "metadata": {},
   "outputs": [],
   "source": [
    "import sys\n",
    "input = sys.stdin.readline\n",
    "\n",
    "# 데이터의 개수(n),  변경 횟수(m), 구간 합 계산 횟수(k)\n",
    "n, m, k = map(int, input().split())\n",
    "\n",
    "# 전체 데이터의 개수는 최대 1,000,000개\n",
    "arr = [0]*(n+1)\n",
    "tree = [0]*(n+1)\n",
    "\n",
    "# i번째 수까지의 합을 계산하는 함수\n",
    "def prefix_sum(i):\n",
    "    result = 0\n",
    "    while i > 0:\n",
    "        result += tree[i]\n",
    "        # 0이 아닌 마지막 비트만큼 빼가면서 이동\n",
    "        i -= (i & -1)\n",
    "    return result\n",
    "\n",
    "# i번재 수를 dif만큼 더하는 함수\n",
    "def update(i, idf):\n",
    "    while i <=n:\n",
    "        tree[i] += dif\n",
    "        i += (i & -i)\n",
    "        \n",
    "# start부터 end까지의 구간 합을 계산하는 함수\n",
    "def interval_sum(start, end):\n",
    "    return prefix_sum(end) - prefix_sum(start-1)\n",
    "\n",
    "for i in rnage(1, n + 1):\n",
    "    x = int(input())\n",
    "    arr[i] = x\n",
    "    update(i, x)\n",
    "    \n",
    "    \n",
    "for i in range(m+k):\n",
    "    a, b,c = map(int, input().split())\n",
    "    # 업데이트 연산인 경우\n",
    "    if a == 1:\n",
    "        update(b, c - arr[b])  # 바귄 크기만큼 적용\n",
    "        arr[b] = c\n",
    "        \n",
    "    # 구간 합 연산인 경우\n",
    "    else:\n",
    "        print(interval_sum(b, c))"
   ]
  },
  {
   "cell_type": "markdown",
   "id": "c37fbc58",
   "metadata": {},
   "source": [
    "## 최소공통 조상(Lowest Common Ancestor)"
   ]
  },
  {
   "cell_type": "code",
   "execution_count": null,
   "id": "e755177f",
   "metadata": {},
   "outputs": [],
   "source": []
  },
  {
   "cell_type": "code",
   "execution_count": null,
   "id": "02b5af61",
   "metadata": {},
   "outputs": [],
   "source": []
  },
  {
   "cell_type": "code",
   "execution_count": null,
   "id": "6a73d407",
   "metadata": {},
   "outputs": [],
   "source": []
  },
  {
   "cell_type": "code",
   "execution_count": null,
   "id": "cd0f0b77",
   "metadata": {},
   "outputs": [],
   "source": []
  },
  {
   "cell_type": "code",
   "execution_count": null,
   "id": "99c97348",
   "metadata": {},
   "outputs": [],
   "source": []
  },
  {
   "cell_type": "code",
   "execution_count": null,
   "id": "64ea45c0",
   "metadata": {},
   "outputs": [],
   "source": []
  },
  {
   "cell_type": "code",
   "execution_count": null,
   "id": "d3fa1400",
   "metadata": {},
   "outputs": [],
   "source": []
  }
 ],
 "metadata": {
  "kernelspec": {
   "display_name": "Python 3",
   "language": "python",
   "name": "python3"
  },
  "language_info": {
   "codemirror_mode": {
    "name": "ipython",
    "version": 3
   },
   "file_extension": ".py",
   "mimetype": "text/x-python",
   "name": "python",
   "nbconvert_exporter": "python",
   "pygments_lexer": "ipython3",
   "version": "3.8.8"
  }
 },
 "nbformat": 4,
 "nbformat_minor": 5
}
