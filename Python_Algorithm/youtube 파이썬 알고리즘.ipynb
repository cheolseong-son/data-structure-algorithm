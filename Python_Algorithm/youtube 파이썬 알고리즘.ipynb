{
 "cells": [
  {
   "cell_type": "code",
   "execution_count": null,
   "id": "58abd0da",
   "metadata": {},
   "outputs": [],
   "source": [
    "# 시간 측정\n",
    "import time\n",
    "start_time = time.time()    # 측정 시작\n",
    "\n",
    "# 프로그램 소스\n",
    "end_time = time.time()      # 측정 종료         \n",
    "print(\"time\", end_time-start_time)"
   ]
  },
  {
   "cell_type": "code",
   "execution_count": null,
   "id": "dc0caaf5",
   "metadata": {},
   "outputs": [],
   "source": [
    "# 내장 라이브러리\n",
    "\n"
   ]
  },
  {
   "cell_type": "markdown",
   "id": "2270399b",
   "metadata": {},
   "source": [
    "## 순열과 조합"
   ]
  },
  {
   "cell_type": "markdown",
   "id": "b3d35530",
   "metadata": {},
   "source": [
    "#### 순열:서로 다른 n개에서 서로 다른 r개를 선택하여 일렬로 나열하는 것"
   ]
  },
  {
   "cell_type": "code",
   "execution_count": 3,
   "id": "011c0692",
   "metadata": {},
   "outputs": [
    {
     "name": "stdout",
     "output_type": "stream",
     "text": [
      "[('A', 'B', 'C'), ('A', 'C', 'B'), ('B', 'A', 'C'), ('B', 'C', 'A'), ('C', 'A', 'B'), ('C', 'B', 'A')]\n"
     ]
    }
   ],
   "source": [
    "from itertools import permutations\n",
    "\n",
    "data = ['A', 'B', 'C']\n",
    "\n",
    "result = list(permutations(data,3))\n",
    "print(result)"
   ]
  },
  {
   "cell_type": "markdown",
   "id": "3b49e50e",
   "metadata": {},
   "source": [
    "#### 조합 : 서로 다른 n개에서 순서에 상관없이 서로 다른 rㅐ를 선택하는 것"
   ]
  },
  {
   "cell_type": "code",
   "execution_count": 5,
   "id": "cc2ef91a",
   "metadata": {},
   "outputs": [
    {
     "name": "stdout",
     "output_type": "stream",
     "text": [
      "[('A', 'B'), ('A', 'C'), ('B', 'C')]\n"
     ]
    }
   ],
   "source": [
    "from itertools import combinations\n",
    "\n",
    "data = ['A', 'B', 'C']\n",
    "\n",
    "result = list(combinations(data,2))\n",
    "print(result)"
   ]
  },
  {
   "cell_type": "markdown",
   "id": "572e7da3",
   "metadata": {},
   "source": [
    "#### 중복순열"
   ]
  },
  {
   "cell_type": "code",
   "execution_count": 6,
   "id": "5ee5437b",
   "metadata": {},
   "outputs": [
    {
     "name": "stdout",
     "output_type": "stream",
     "text": [
      "[('A', 'A'), ('A', 'B'), ('A', 'C'), ('B', 'A'), ('B', 'B'), ('B', 'C'), ('C', 'A'), ('C', 'B'), ('C', 'C')]\n"
     ]
    }
   ],
   "source": [
    "from itertools import product\n",
    "\n",
    "data = ['A', 'B', 'C']\n",
    "\n",
    "result = list(product(data,repeat = 2))\n",
    "print(result)"
   ]
  },
  {
   "cell_type": "markdown",
   "id": "61181e59",
   "metadata": {},
   "source": [
    "#### 중복조합"
   ]
  },
  {
   "cell_type": "code",
   "execution_count": 7,
   "id": "808ef1c3",
   "metadata": {},
   "outputs": [
    {
     "name": "stdout",
     "output_type": "stream",
     "text": [
      "[('A', 'A'), ('A', 'B'), ('A', 'C'), ('B', 'B'), ('B', 'C'), ('C', 'C')]\n"
     ]
    }
   ],
   "source": [
    "from itertools import combinations_with_replacement\n",
    "\n",
    "data = ['A', 'B', 'C']\n",
    "\n",
    "result = list(combinations_with_replacement(data,2))\n",
    "print(result)"
   ]
  },
  {
   "cell_type": "markdown",
   "id": "4b5547e0",
   "metadata": {},
   "source": [
    "## Counter\n",
    "등장 횟수를 세는 기능을 제공"
   ]
  },
  {
   "cell_type": "code",
   "execution_count": 9,
   "id": "78739c76",
   "metadata": {},
   "outputs": [
    {
     "name": "stdout",
     "output_type": "stream",
     "text": [
      "3\n",
      "1\n",
      "{'red': 2, 'blue': 3, 'green': 1}\n"
     ]
    }
   ],
   "source": [
    "from collections import Counter\n",
    "\n",
    "counter = Counter(['red', 'blue', 'red', 'green', 'blue', 'blue'])\n",
    "print(counter['blue'])\n",
    "print(counter['green'])\n",
    "print(dict(counter))"
   ]
  },
  {
   "cell_type": "markdown",
   "id": "e563b0ce",
   "metadata": {},
   "source": [
    "## math"
   ]
  },
  {
   "cell_type": "markdown",
   "id": "bfdafa58",
   "metadata": {},
   "source": [
    "#### 최대공약수 : math.gcd()"
   ]
  },
  {
   "cell_type": "code",
   "execution_count": 11,
   "id": "b41fcf9c",
   "metadata": {},
   "outputs": [
    {
     "name": "stdout",
     "output_type": "stream",
     "text": [
      "7\n",
      "42\n"
     ]
    }
   ],
   "source": [
    "# 최소공배수 : a*b를 최대공배수로 나누면 됨\n",
    "import math\n",
    "\n",
    "\n",
    "# 최소공배수(LCM)를 구하는 함수\n",
    "\n",
    "def lcm(a, b):\n",
    "    return a*b // math.gcd(a, b)\n",
    "\n",
    "a = 21\n",
    "b = 14\n",
    "print(math.gcd(21,14)) # 최대공약수 계산\n",
    "print(lcm(a, b))       # 최소 공배수 계산"
   ]
  },
  {
   "cell_type": "code",
   "execution_count": null,
   "id": "e8d50d0e",
   "metadata": {},
   "outputs": [],
   "source": []
  },
  {
   "cell_type": "code",
   "execution_count": null,
   "id": "f03d84a1",
   "metadata": {},
   "outputs": [],
   "source": []
  },
  {
   "cell_type": "code",
   "execution_count": null,
   "id": "46b856bf",
   "metadata": {},
   "outputs": [],
   "source": []
  },
  {
   "cell_type": "code",
   "execution_count": null,
   "id": "2938b41d",
   "metadata": {},
   "outputs": [],
   "source": []
  },
  {
   "cell_type": "code",
   "execution_count": null,
   "id": "cbddfc4f",
   "metadata": {},
   "outputs": [],
   "source": []
  },
  {
   "cell_type": "code",
   "execution_count": null,
   "id": "c699ebaf",
   "metadata": {},
   "outputs": [],
   "source": []
  },
  {
   "cell_type": "code",
   "execution_count": null,
   "id": "2c01e402",
   "metadata": {},
   "outputs": [],
   "source": []
  },
  {
   "cell_type": "code",
   "execution_count": null,
   "id": "587d1994",
   "metadata": {},
   "outputs": [],
   "source": []
  },
  {
   "cell_type": "code",
   "execution_count": null,
   "id": "dbbbd31d",
   "metadata": {},
   "outputs": [],
   "source": []
  },
  {
   "cell_type": "code",
   "execution_count": null,
   "id": "0107a08c",
   "metadata": {},
   "outputs": [],
   "source": []
  },
  {
   "cell_type": "code",
   "execution_count": null,
   "id": "5074c909",
   "metadata": {},
   "outputs": [],
   "source": []
  },
  {
   "cell_type": "code",
   "execution_count": null,
   "id": "a91ccdb5",
   "metadata": {},
   "outputs": [],
   "source": []
  },
  {
   "cell_type": "code",
   "execution_count": null,
   "id": "5e216aba",
   "metadata": {},
   "outputs": [],
   "source": []
  }
 ],
 "metadata": {
  "kernelspec": {
   "display_name": "Python 3",
   "language": "python",
   "name": "python3"
  },
  "language_info": {
   "codemirror_mode": {
    "name": "ipython",
    "version": 3
   },
   "file_extension": ".py",
   "mimetype": "text/x-python",
   "name": "python",
   "nbconvert_exporter": "python",
   "pygments_lexer": "ipython3",
   "version": "3.8.8"
  }
 },
 "nbformat": 4,
 "nbformat_minor": 5
}
