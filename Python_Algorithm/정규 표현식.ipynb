{
 "cells": [
  {
   "cell_type": "code",
   "execution_count": 6,
   "id": "08505cfe",
   "metadata": {},
   "outputs": [
    {
     "name": "stdout",
     "output_type": "stream",
     "text": [
      "<re.Match object; span=(0, 6), match='python'>\n",
      "<re.Match object; span=(2, 8), match='python'>\n",
      "['lif', 'is', 'too', 'short']\n",
      "<callable_iterator object at 0x107d8b310>\n"
     ]
    }
   ],
   "source": [
    "# 문자 클래스 :[]\n",
    "\n",
    "import re\n",
    "\n",
    "# Dot(.) # 줄바꿈(\\n)을 제외한 모든 문자와 매치\n",
    "\n",
    "# 반복 : *, +\n",
    " \n",
    "# 패턴 객체    \n",
    "# match()\n",
    "p = re.compile('[a-z]+')\n",
    "m = p.match('python')\n",
    "print(m)\n",
    "\n",
    "# search() : 일치하는 구문이 있다면 출력\n",
    "p = re.compile('[a-z]+')\n",
    "m = p.search('3 python')\n",
    "print(m)\n",
    "\n",
    "# findall() :  일치하는 것을 찾아서 리스트로 반환\n",
    "p = re.compile('[a-z]+')\n",
    "m = p.findall('lif is too short')\n",
    "print(m)\n",
    "\n",
    "# finditer() : 매치 객체로 리턴\n",
    "p = re.compile('[a-z]+')\n",
    "m = p.finditer('lif is too short')\n",
    "print(m)"
   ]
  },
  {
   "cell_type": "markdown",
   "id": "d7fe04e7",
   "metadata": {},
   "source": [
    "#### match 객체의 메서드\n",
    "- group() : 매치된 문자열을 리턴한다.\n",
    "- start() : 매치된 문자열의 시작 위치를 리턴한다.\n",
    "- end() : 매치된 문자열의 끈 위치를 리턴한다.\n",
    "- span() : 매치된 문자열의(시작, 끝)에 해당되는 튜플을 리턴한다."
   ]
  },
  {
   "cell_type": "code",
   "execution_count": 7,
   "id": "bf876932",
   "metadata": {},
   "outputs": [
    {
     "name": "stdout",
     "output_type": "stream",
     "text": [
      "python\n",
      "0\n",
      "6\n",
      "(0, 6)\n"
     ]
    }
   ],
   "source": [
    "p = re.compile('[a-z]+')\n",
    "m = p.match('python')\n",
    "print(m.group())\n",
    "print(m.start())\n",
    "print(m.end())\n",
    "print(m.span())"
   ]
  },
  {
   "cell_type": "code",
   "execution_count": null,
   "id": "89c08150",
   "metadata": {},
   "outputs": [],
   "source": []
  },
  {
   "cell_type": "code",
   "execution_count": 14,
   "id": "6b8c8548",
   "metadata": {},
   "outputs": [
    {
     "name": "stdout",
     "output_type": "stream",
     "text": [
      "<re.Match object; span=(0, 3), match='a\\nb'>\n",
      "<re.Match object; span=(0, 1), match='p'>\n",
      "<re.Match object; span=(0, 1), match='P'>\n",
      "<re.Match object; span=(0, 1), match='P'>\n"
     ]
    }
   ],
   "source": [
    "# DOTALL, S\n",
    "p = re.compile('a.b', re.DOTALL) # S를 사용해도 된다.\n",
    "m = p.match('a\\nb')\n",
    "print(m)\n",
    "\n",
    "# IGNORENCASE, I\n",
    "p = re.compile('[a-z]', re.I) # 대소문자 모두 무시하고 매치\n",
    "print(p.match('python'))\n",
    "print(p.match('Python'))\n",
    "print(p.match('PYTHON'))"
   ]
  },
  {
   "cell_type": "code",
   "execution_count": 16,
   "id": "28db718c",
   "metadata": {},
   "outputs": [
    {
     "name": "stdout",
     "output_type": "stream",
     "text": [
      "['python one', 'python two', 'python three']\n"
     ]
    }
   ],
   "source": [
    "# ^ : 맨 처음\n",
    "# re.M : 멀티라인 옵션\n",
    "\n",
    "p = re.compile('^python\\s\\w+', re.M) \n",
    "# 맨 처음 파이썬 문자가 나오고 공백이 나오고 단어가 알파벳, 숫자, _중의 한 문자\n",
    "data = '''python one\n",
    "life is too short \n",
    "python two\n",
    "you need python\n",
    "python three\n",
    "'''\n",
    "print(p.findall(data))"
   ]
  },
  {
   "cell_type": "code",
   "execution_count": null,
   "id": "86bee69b",
   "metadata": {},
   "outputs": [],
   "source": [
    "# 백슬래시 문제\n",
    "p = re.compile(r'\\\\section') "
   ]
  },
  {
   "cell_type": "code",
   "execution_count": 23,
   "id": "c295353b",
   "metadata": {},
   "outputs": [
    {
     "name": "stdout",
     "output_type": "stream",
     "text": [
      "<re.Match object; span=(0, 4), match='Crow'>\n",
      "<re.Match object; span=(0, 4), match='Life'>\n",
      "None\n",
      "<re.Match object; span=(12, 17), match='short'>\n",
      "None\n",
      "<re.Match object; span=(3, 8), match='class'>\n",
      "None\n",
      "None\n"
     ]
    }
   ],
   "source": [
    "# 메타문자 |\n",
    "\n",
    "import re\n",
    "p = re.compile('Crow|Servo')\n",
    "m = p.match('CrowHello')\n",
    "print(m)\n",
    "\n",
    "# 메타문자 ^ : 맨 처음\n",
    "print(re.search('^Life', 'Life is too short'))\n",
    "print(re.search('^Life', 'My Life'))\n",
    "\n",
    "# 매타문자 $ : 맨 끝\n",
    "print(re.search('short$', 'Life is too short'))\n",
    "print(re.search('short$', 'My Life'))\n",
    "\n",
    "# 메타문자 \\b : 공백\n",
    "p = re.compile(r'\\bclass\\b') # 공백이 있고 그리고 class가 있는지\n",
    "print(p.search('no class at all'))\n",
    "print(p.search('the declassified algorithm'))\n",
    "print(p.search('one subclass is'))"
   ]
  },
  {
   "cell_type": "code",
   "execution_count": 26,
   "id": "99a8f866",
   "metadata": {},
   "outputs": [
    {
     "name": "stdout",
     "output_type": "stream",
     "text": [
      "<re.Match object; span=(0, 9), match='ABCABCABC'>\n",
      "ABCABCABC\n"
     ]
    }
   ],
   "source": [
    "# 그루핑 : () 표현식을 묶어 주는 것\n",
    "import re\n",
    "p = re.compile('(ABC)+') # ABC가 반복되는 것\n",
    "m = p.search('ABCABCABC OK?')\n",
    "print(m)\n",
    "print(m.group())"
   ]
  },
  {
   "cell_type": "code",
   "execution_count": 30,
   "id": "e4347862",
   "metadata": {},
   "outputs": [
    {
     "name": "stdout",
     "output_type": "stream",
     "text": [
      "http:\n",
      "http\n",
      "['autoexec.exe', 'autoexec.jpg']\n"
     ]
    }
   ],
   "source": [
    "# 전방 탐색\n",
    "p = re.compile('.+:') # 문자열 반복되다가 : 까지를 문자 가져오기\n",
    "m = p.search('http://google.com')\n",
    "print(m.group())\n",
    "\n",
    "#  전방탐색 : 긍정형 (?=조건)\n",
    "p = re.compile('.+(?=:)') # 문자열 반복되다가 : 전까지를 문자 가져오기\n",
    "m = p.search('http://google.com')\n",
    "print(m.group())\n",
    "\n",
    "# 전방탐색 : 부정형 (?!)\n",
    "p = re.compile('.*[.](?!bat).*$', re.M)\n",
    "l = p.findall('''\n",
    "autoexec.exe\n",
    "autoexec.bat\n",
    "autoexec.jpg\n",
    "''')\n",
    "print(l)"
   ]
  },
  {
   "cell_type": "code",
   "execution_count": 35,
   "id": "a9a53a99",
   "metadata": {},
   "outputs": [
    {
     "name": "stdout",
     "output_type": "stream",
     "text": [
      "32\n",
      "(0, 32)\n",
      "<html><head><title>Title</title>\n"
     ]
    }
   ],
   "source": [
    "# 문자열 바꾸기, sub\n",
    "\n",
    "p = re.compile('(blue|white|red)')\n",
    "p.sub( 'colour', 'blue socks and red shoes')\n",
    "\n",
    "# Greedy 와 Non-Greedy\n",
    "\n",
    "s = '<html><head><title>Title</title>'\n",
    "print(len(s))\n",
    "\n",
    "print(re.match('<.*>', s).span())\n",
    "\n",
    "print(re.match('<.*>', s).group()) # greedy\n",
    "print(re.match('<.*>', s).group()) #non\n",
    "\n"
   ]
  },
  {
   "cell_type": "code",
   "execution_count": null,
   "id": "08ccfaca",
   "metadata": {},
   "outputs": [],
   "source": []
  }
 ],
 "metadata": {
  "kernelspec": {
   "display_name": "Python 3",
   "language": "python",
   "name": "python3"
  },
  "language_info": {
   "codemirror_mode": {
    "name": "ipython",
    "version": 3
   },
   "file_extension": ".py",
   "mimetype": "text/x-python",
   "name": "python",
   "nbconvert_exporter": "python",
   "pygments_lexer": "ipython3",
   "version": "3.9.7"
  }
 },
 "nbformat": 4,
 "nbformat_minor": 5
}
