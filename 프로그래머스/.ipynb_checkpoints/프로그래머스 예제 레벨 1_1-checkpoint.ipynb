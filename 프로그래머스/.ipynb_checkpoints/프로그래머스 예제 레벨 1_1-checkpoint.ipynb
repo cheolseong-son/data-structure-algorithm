{
 "cells": [
  {
   "cell_type": "markdown",
   "id": "fa771925",
   "metadata": {},
   "source": [
    "#### 문제 \n",
    "프로그래머스 모바일은 개인정보 보호를 위해 고지서를 보낼 때 고객들의 전화번호의 일부를 가립니다.\n",
    "전화번호가 문자열 phone_number로 주어졌을 때, 전화번호의 뒷 4자리를 제외한 나머지 숫자를 전부 *으로 가린 문자열을 리턴하는 함수, solution을 완성해주세요."
   ]
  },
  {
   "cell_type": "code",
   "execution_count": 15,
   "id": "01e1c554",
   "metadata": {},
   "outputs": [],
   "source": [
    "# 내 풀이\n",
    "\n",
    "def solution(phone_number):\n",
    "    a  = len(phone_number)\n",
    "    b = phone_number[-4:]\n",
    "    c = a - 4\n",
    "    return \"*\"*c + b\n",
    "\n",
    "phone_number = \"027778888\"\n",
    "solution(phone_number)"
   ]
  },
  {
   "cell_type": "code",
   "execution_count": null,
   "id": "0b31f09a",
   "metadata": {},
   "outputs": [],
   "source": [
    "# 남이 푼 풀이\n",
    "\n",
    "def hide_numbers(s):\n",
    "    return \"*\"*(len(s)-4) + s[-4:]"
   ]
  },
  {
   "cell_type": "markdown",
   "id": "98fa8346",
   "metadata": {},
   "source": [
    "#### 문제 \n",
    "\n",
    "행렬의 덧셈은 행과 열의 크기가 같은 두 행렬의 같은 행, 같은 열의 값을 서로 더한 결과가 됩니다. 2개의 행렬 arr1과 arr2를 입력받아, 행렬 덧셈의 결과를 반환하는 함수, solution을 완성해주세요.\n",
    "- input \n",
    "        arr1 = [[1,2],[2,3]]\n",
    "        arr2 = [[3,4],[5,6]]\n",
    "- output \n",
    "        return [[4,6],[7,9]]"
   ]
  },
  {
   "cell_type": "code",
   "execution_count": 27,
   "id": "7dcdc7bf",
   "metadata": {},
   "outputs": [],
   "source": [
    "# 내 풀이\n",
    "\n",
    "def solution(arr1, arr2):\n",
    "    answer = [[] for x in range(len(arr2))]\n",
    "    for i in range(len(arr1)):            # 세로 크기\n",
    "        for j in range(len(arr1[i])):     # 가로 크기\n",
    "            answer[i].append(arr1[i][j] + arr2[i][j])\n",
    "    \n",
    "    \n",
    "    return answer"
   ]
  },
  {
   "cell_type": "code",
   "execution_count": 28,
   "id": "5cde72a9",
   "metadata": {},
   "outputs": [
    {
     "name": "stdout",
     "output_type": "stream",
     "text": [
      "[[], []]\n"
     ]
    }
   ],
   "source": [
    "#  다른 사람 풀이\n",
    "\n",
    "# 방법 1\n",
    "def sumMatrix(A,B):\n",
    "    answer = [[c + d for c, d in zip(a, b)] for a, b in zip(A,B)]\n",
    "    return answer\n",
    "\n",
    "# 방법2\n",
    "def sumMatrix(A,B):\n",
    "    for i in range(len(A)) :\n",
    "        for j in range(len(A[0])):\n",
    "            A[i][j] += B[i][j] \n",
    "    return A\n",
    "\n",
    "# 방법3\n",
    "\n",
    "def sumMatrix(A,B):\n",
    "    answer = [[A[i][j] + B[i][j] for j in range(len(A[0]))] for i in range(len(A))]"
   ]
  },
  {
   "cell_type": "markdown",
   "id": "f6e3b51f",
   "metadata": {},
   "source": [
    "#### 문제 \n",
    "정수 num이 짝수일 경우 \"Even\"을 반환하고 홀수인 경우 \"Odd\"를 반환하는 함수, solution을 완성해주세요.\n",
    "\n",
    "- 입출력 예\n",
    "        num\treturn\n",
    "        3\t\"Odd\"\n",
    "        4\t\"Even\""
   ]
  },
  {
   "cell_type": "code",
   "execution_count": 37,
   "id": "b357e7ea",
   "metadata": {},
   "outputs": [],
   "source": [
    "# 내 풀이\n",
    "\n",
    "def solution(num):\n",
    "    \n",
    "    return \"Even\" if num % 2 == 0 else \"Odd\"\n",
    "num = 3\n",
    "solution(num)"
   ]
  },
  {
   "cell_type": "code",
   "execution_count": 40,
   "id": "859018d8",
   "metadata": {},
   "outputs": [
    {
     "data": {
      "text/plain": [
       "'Odd'"
      ]
     },
     "execution_count": 40,
     "metadata": {},
     "output_type": "execute_result"
    }
   ],
   "source": [
    "#  다른 사람 풀이\n",
    "\n",
    "def solution(num):\n",
    "    return [\"Even\", \"Odd\"][num & 1]"
   ]
  },
  {
   "cell_type": "markdown",
   "id": "8a542a48",
   "metadata": {},
   "source": [
    "#### 문제 \n",
    "이 문제에는 표준 입력으로 두 개의 정수 n과 m이 주어집니다.\n",
    "별(*) 문자를 이용해 가로의 길이가 n, 세로의 길이가 m인 직사각형 형태를 출력해보세요."
   ]
  },
  {
   "cell_type": "code",
   "execution_count": 49,
   "id": "1f56a425",
   "metadata": {},
   "outputs": [
    {
     "name": "stdout",
     "output_type": "stream",
     "text": [
      "5 3\n",
      "*****\n",
      "*****\n",
      "*****\n"
     ]
    }
   ],
   "source": [
    "#  내 풀이\n",
    "a, b = map(int, input().strip().split(' '))\n",
    "\n",
    "for i in range(b):\n",
    "    for j in range(a):\n",
    "        print(\"*\", end = \"\")\n",
    "    print()"
   ]
  },
  {
   "cell_type": "code",
   "execution_count": 50,
   "id": "76a54fbf",
   "metadata": {},
   "outputs": [
    {
     "name": "stdout",
     "output_type": "stream",
     "text": [
      "5 3\n",
      "*****\n",
      "*****\n",
      "*****\n",
      "\n"
     ]
    }
   ],
   "source": [
    "# 다른 사람 풀이\n",
    "\n",
    "a, b = map(int, input().strip().split(' '))\n",
    "answer = ('*'*a +'\\n')*b\n",
    "print(answer)"
   ]
  },
  {
   "cell_type": "markdown",
   "id": "bb7c6d97",
   "metadata": {},
   "source": [
    "#### 문제\n",
    "\n",
    "자연수 n을 뒤집어 각 자리 숫자를 원소로 가지는 배열 형태로 리턴해주세요. 예를들어 n이 12345이면 [5,4,3,2,1]을 리턴합니다."
   ]
  },
  {
   "cell_type": "code",
   "execution_count": 74,
   "id": "6952a739",
   "metadata": {},
   "outputs": [],
   "source": [
    "# 내 풀이\n",
    "\n",
    "def solution(n):\n",
    "    num = str(n)\n",
    "    answer = [int(i) for i in num]\n",
    "    answer.reverse()\n",
    "    return answer"
   ]
  },
  {
   "cell_type": "code",
   "execution_count": 75,
   "id": "a5e8d243",
   "metadata": {},
   "outputs": [
    {
     "data": {
      "text/plain": [
       "[9, 8, 7, 6, 5, 4, 3, 2, 1]"
      ]
     },
     "execution_count": 75,
     "metadata": {},
     "output_type": "execute_result"
    }
   ],
   "source": [
    "# 다른 사람 풀이\n",
    "\n",
    "# 방법 1\n",
    "def digit_reverse(n):\n",
    "    return list(map(int, reversed(str(n))))\n",
    "\n",
    "# 방법 2\n",
    "def digit_reverse(n):\n",
    "    return [int(i) for i in str(n)][::-1]"
   ]
  },
  {
   "cell_type": "markdown",
   "id": "5dcd86e8",
   "metadata": {},
   "source": [
    "#### 문제 \n",
    "\n",
    "    \n",
    "    두 수를 입력받아 두 수의 최대공약수와 최소공배수를 반환하는 함수, solution을 완성해 보세요. \n",
    "    배열의 맨 앞에 최대공약수, 그다음 최소공배수를 넣어 반환하면 됩니다. \n",
    "    예를 들어 두 수 3, 12의 최대공약수는 3, 최소공배수는 12이므로 solution(3, 12)는 [3, 12]를 반환해야 합니다."
   ]
  },
  {
   "cell_type": "code",
   "execution_count": null,
   "id": "6448ea5f",
   "metadata": {},
   "outputs": [],
   "source": [
    "def solution(x):\n",
    "    answer = True\n",
    "    return answer"
   ]
  },
  {
   "cell_type": "markdown",
   "id": "b3604340",
   "metadata": {},
   "source": [
    "---\n",
    "#### 문제 \n",
    "    양의 정수 x가 하샤드 수이려면 x의 자릿수의 합으로 x가 나누어져야 합니다. \n",
    "    예를 들어 18의 자릿수 합은 1+8=9이고, 18은 9로 나누어 떨어지므로 18은 하샤드 수입니다. \n",
    "    자연수 x를 입력받아 x가 하샤드 수인지 아닌지 검사하는 함수, solution을 완성해주세요."
   ]
  },
  {
   "cell_type": "code",
   "execution_count": 92,
   "id": "54a93d25",
   "metadata": {},
   "outputs": [],
   "source": [
    "# 내 풀이\n",
    "\n",
    "def solution(x):\n",
    "    hap = sum(list(map(int, str(x))))\n",
    "    return x % hap == 0 "
   ]
  },
  {
   "cell_type": "code",
   "execution_count": 89,
   "id": "0ef315fc",
   "metadata": {},
   "outputs": [],
   "source": [
    "# 다른 사람 풀이\n",
    "\n",
    "def Harshad(n):\n",
    "    # n은 하샤드 수 인가요?\n",
    "    return n % sum([int(c) for c in str(n)]) == 0"
   ]
  },
  {
   "cell_type": "markdown",
   "id": "0de9ed97",
   "metadata": {},
   "source": [
    "---\n",
    "#### 문제\n",
    "\n",
    "    자연수 N이 주어지면, N의 각 자릿수의 합을 구해서 return 하는 solution 함수를 만들어 주세요.\n",
    "    예를들어 N = 123이면 1 + 2 + 3 = 6을 return 하면 됩니다."
   ]
  },
  {
   "cell_type": "code",
   "execution_count": 99,
   "id": "eece3458",
   "metadata": {},
   "outputs": [
    {
     "data": {
      "text/plain": [
       "24"
      ]
     },
     "execution_count": 99,
     "metadata": {},
     "output_type": "execute_result"
    }
   ],
   "source": [
    "# 내 풀이\n",
    "\n",
    "def solution(n):\n",
    "    \n",
    "    return sum(list([int(n) for n in str((n))]))\n",
    "solution(789)"
   ]
  },
  {
   "cell_type": "code",
   "execution_count": null,
   "id": "990ae04f",
   "metadata": {},
   "outputs": [],
   "source": [
    "# 다른 사람 풀이\n",
    "# 방법 1\n",
    "def sum_digit(number):\n",
    " \n",
    "    return sum(map(int,str(number)))\n",
    "# ------------------------------------------------\n",
    "# 방법 2   \n",
    "# 재귀함수 사용\n",
    "def sum_digit(number):\n",
    "    if number < 10:\n",
    "        return number;\n",
    "    return (number % 10) + sum_digit(number // 10)"
   ]
  },
  {
   "cell_type": "markdown",
   "id": "8d96675d",
   "metadata": {},
   "source": [
    "---\n",
    "#### 문제\n",
    "    임의의 양의 정수 n에 대해, n이 어떤 양의 정수 x의 제곱인지 아닌지 판단하려 합니다.\n",
    "    n이 양의 정수 x의 제곱이라면 x+1의 제곱을 리턴하고, n이 양의 정수 x의 제곱이 아니라면 -1을 리턴하는 함수를 완성하세요."
   ]
  },
  {
   "cell_type": "code",
   "execution_count": 13,
   "id": "fad49f4e",
   "metadata": {},
   "outputs": [
    {
     "data": {
      "text/plain": [
       "144"
      ]
     },
     "execution_count": 13,
     "metadata": {},
     "output_type": "execute_result"
    }
   ],
   "source": [
    "# 내 풀이\n",
    "def solution(n)\n",
    "\n",
    "    return int((n**(1/2)+1)**2) if n**(1/2)% int(n**(1/2))== 0 else -1"
   ]
  },
  {
   "cell_type": "code",
   "execution_count": null,
   "id": "0471f779",
   "metadata": {},
   "outputs": [],
   "source": [
    "# 다른 사람 풀이\n",
    "# 방법 1\n",
    "import math\n",
    "def solution(n):\n",
    "\n",
    "    return -1 if int(math.sqrt(n)) != math.sqrt(n) else (math.sqrt(n)+1) ** 2\n",
    "\n",
    "# 방법 2\n",
    "def nextSqure(n):\n",
    "    sqrt = n ** (1/2)\n",
    "\n",
    "    if sqrt % 1 == 0:\n",
    "        return (sqrt + 1) ** 2\n",
    "    return -1"
   ]
  },
  {
   "cell_type": "markdown",
   "id": "88348f50",
   "metadata": {},
   "source": [
    "---\n",
    "#### 문제 설명\n",
    "    함수 solution은 정수 x와 자연수 n을 입력 받아, x부터 시작해 x씩 증가하는 숫자를 n개 지니는 리스트를 리턴해야 합니다. \n",
    "    다음 제한 조건을 보고, 조건을 만족하는 함수, solution을 완성해주세요.\n",
    "    \n",
    "    입출력 예\n",
    "    x\tn\tanswer\n",
    "    2\t5\t[2,4,6,8,10]\n",
    "    4\t3\t[4,8,12]\n",
    "    -4\t2\t[-4, -8]"
   ]
  },
  {
   "cell_type": "code",
   "execution_count": 45,
   "id": "bc34e6c1",
   "metadata": {},
   "outputs": [
    {
     "data": {
      "text/plain": [
       "[2, 4, 6, 8, 10]"
      ]
     },
     "execution_count": 45,
     "metadata": {},
     "output_type": "execute_result"
    }
   ],
   "source": [
    "# 내 풀이\n",
    "\n",
    "def solution(x, n):\n",
    "    \n",
    "    return [i for i in range(x,x*n+1,x)]\n",
    "\n",
    "solution(2,5)\n"
   ]
  },
  {
   "cell_type": "code",
   "execution_count": 43,
   "id": "f14e3f43",
   "metadata": {},
   "outputs": [
    {
     "name": "stdout",
     "output_type": "stream",
     "text": [
      "12[-4, -8]\n"
     ]
    }
   ],
   "source": [
    "x = -4\n",
    "n = 2\n",
    "answer = []\n",
    "for i in range(1,n+1):\n",
    "    answer.append(x*i)\n",
    "print(answer)\n",
    "    "
   ]
  },
  {
   "cell_type": "code",
   "execution_count": null,
   "id": "b7d77f10",
   "metadata": {},
   "outputs": [],
   "source": [
    "# 다른 사람 풀이\n",
    "\n",
    "def number_generator(x, n):\n",
    "    # 함수를 완성하세요\n",
    "    return [i * x + x for i in range(n)]"
   ]
  },
  {
   "cell_type": "markdown",
   "id": "b2b2c8f0",
   "metadata": {},
   "source": [
    "#### 문제 설명\n",
    "    함수 solution은 정수 n을 매개변수로 입력받습니다. \n",
    "    n의 각 자릿수를 큰것부터 작은 순으로 정렬한 새로운 정수를 리턴해주세요. \n",
    "    예를들어 n이 118372면 873211을 리턴하면 됩니다.\n",
    "    \n",
    "    입출력 예\n",
    "    n\treturn\n",
    "    118372\t873211"
   ]
  },
  {
   "cell_type": "code",
   "execution_count": 49,
   "id": "2cdcfaea",
   "metadata": {},
   "outputs": [
    {
     "ename": "SyntaxError",
     "evalue": "invalid syntax (<ipython-input-49-16ca474cfd5c>, line 3)",
     "output_type": "error",
     "traceback": [
      "\u001b[1;36m  File \u001b[1;32m\"<ipython-input-49-16ca474cfd5c>\"\u001b[1;36m, line \u001b[1;32m3\u001b[0m\n\u001b[1;33m    sort.[int(i) for i in x]\u001b[0m\n\u001b[1;37m         ^\u001b[0m\n\u001b[1;31mSyntaxError\u001b[0m\u001b[1;31m:\u001b[0m invalid syntax\n"
     ]
    }
   ],
   "source": [
    "# 내 풀이\n",
    "def solution(n):\n",
    "    a = list(map(int, sorted(str(n), reverse=True)))\n",
    "    answer = \"\"\n",
    "    for i in a:\n",
    "        answer += str(i)\n",
    "    return int(answer)"
   ]
  },
  {
   "cell_type": "code",
   "execution_count": null,
   "id": "c3c00bf6",
   "metadata": {},
   "outputs": [],
   "source": [
    "# 다른 사람 풀이\n",
    "# 방법 1\n",
    "def solution(n):\n",
    "    ls = list(str(n))\n",
    "    ls.sort(reverse = True)\n",
    "    return int(\"\".join(ls))\n",
    "\n",
    "# 방법 2\n",
    "def solution(n):\n",
    "    return int(\"\".join(sorted(list(str(n)), reverse=True)));"
   ]
  },
  {
   "cell_type": "code",
   "execution_count": 71,
   "id": "3c961c5d",
   "metadata": {},
   "outputs": [
    {
     "name": "stdout",
     "output_type": "stream",
     "text": [
      "['1', '1', '8', '3', '7', '2']\n"
     ]
    },
    {
     "data": {
      "text/plain": [
       "873211"
      ]
     },
     "execution_count": 71,
     "metadata": {},
     "output_type": "execute_result"
    }
   ],
   "source": []
  },
  {
   "cell_type": "markdown",
   "id": "b3666d8e",
   "metadata": {},
   "source": [
    "#### 문제 설명\n",
    "    문자열 s는 한 개 이상의 단어로 구성되어 있습니다. 각 단어는 하나 이상의 공백문자로 구분되어 있습니다. \n",
    "    각 단어의 짝수번째 알파벳은 대문자로, 홀수번째 알파벳은 소문자로 바꾼 문자열을 리턴하는 함수, solution을 완성하세요."
   ]
  },
  {
   "cell_type": "code",
   "execution_count": null,
   "id": "f3aa90f9",
   "metadata": {},
   "outputs": [],
   "source": [
    "def solution(s):\n",
    "    answer = ''\n",
    "    lst = []\n",
    "    dan = s.split(' ')\n",
    "    for i in range(len(dan)) :\n",
    "        ans = ''\n",
    "        for j in range(len(dan[i])) :\n",
    "            if j % 2 == 0 :\n",
    "                ans += dan[i][j].upper()\n",
    "            else :\n",
    "                ans += dan[i][j].lower()\n",
    "        lst.append(ans)\n",
    "    answer = ' '.join(lst)\n",
    "    return answer"
   ]
  },
  {
   "cell_type": "code",
   "execution_count": null,
   "id": "fed218e4",
   "metadata": {},
   "outputs": [],
   "source": [
    "# 다른 사람 풀이\n",
    "\n",
    "def toWeirdCase(s):\n",
    "    return \" \".join(map(lambda x: \"\".join([a.lower() if i % 2 else a.upper() for i, a in enumerate(x)]), s.split(\" \")))\n",
    "\n",
    "def toWeirdCase(s):\n",
    "    # 함수를 완성하세요\n",
    "    return ' '.join([''.join([c.upper() if i % 2 == 0 else c.lower() for i, c in enumerate(w)]) for w in s.split()])"
   ]
  },
  {
   "cell_type": "markdown",
   "id": "7e8fc185",
   "metadata": {},
   "source": [
    "---\n",
    "####  문제 설명\n",
    "    1937년 Collatz란 사람에 의해 제기된 이 추측은, 주어진 수가 1이 될때까지 다음 작업을 반복하면, \n",
    "    모든 수를 1로 만들 수 있다는 추측입니다. 작업은 다음과 같습니다.\n",
    "\n",
    "    1-1. 입력된 수가 짝수라면 2로 나눕니다. \n",
    "    1-2. 입력된 수가 홀수라면 3을 곱하고 1을 더합니다.\n",
    "    2. 결과로 나온 수에 같은 작업을 1이 될 때까지 반복합니다."
   ]
  },
  {
   "cell_type": "code",
   "execution_count": 150,
   "id": "15378db3",
   "metadata": {},
   "outputs": [],
   "source": [
    "#  내 풀이\n",
    "\n",
    "def solution(num):\n",
    "    cnt = 0\n",
    "    while num > 1:\n",
    "        num = num * 3 + 1 if num % 2 else num / 2\n",
    "        cnt += 1\n",
    "    return cnt if cnt < 500 else -1"
   ]
  },
  {
   "cell_type": "code",
   "execution_count": 151,
   "id": "af6b28a4",
   "metadata": {},
   "outputs": [
    {
     "data": {
      "text/plain": [
       "8"
      ]
     },
     "execution_count": 151,
     "metadata": {},
     "output_type": "execute_result"
    }
   ],
   "source": [
    "# 다른 사람 풀이\n",
    "\n",
    "# --------------------------------------------------------\n",
    "# 방법 1\n",
    "def collatz(num):\n",
    "    answer = 0\n",
    "    while num!=1:\n",
    "        if num%2==0:\n",
    "            num=num/2\n",
    "        else:\n",
    "            num=3*num+1\n",
    "        answer=answer+1\n",
    "\n",
    "        if answer>=500:\n",
    "            return -1\n",
    "\n",
    "    return answer\n",
    "# --------------------------------------------------------\n",
    "# 방법 2\n",
    "def collatz(num):\n",
    "    for i in range(500):\n",
    "        num = num / 2 if num % 2 == 0 else num*3 + 1\n",
    "        if num == 1:\n",
    "            return i + 1\n",
    "    return -1"
   ]
  },
  {
   "cell_type": "markdown",
   "id": "e10fb9c0",
   "metadata": {},
   "source": [
    "---\n",
    "#### 문제 설명\n",
    "    정수를 저장한 배열, arr 에서 가장 작은 수를 제거한 배열을 리턴하는 함수, solution을 완성해주세요.\n",
    "    단, 리턴하려는 배열이 빈 배열인 경우엔 배열에 -1을 채워 리턴하세요. \n",
    "    예를들어 arr이 [4,3,2,1]인 경우는 [4,3,2]를 리턴 하고, [10]면 [-1]을 리턴 합니다.\n",
    "    \n",
    "    입출력 예\n",
    "    arr\treturn\n",
    "    [4,3,2,1]\t[4,3,2]\n",
    "    [10]\t[-1]"
   ]
  },
  {
   "cell_type": "code",
   "execution_count": 201,
   "id": "fc760a5c",
   "metadata": {},
   "outputs": [
    {
     "data": {
      "text/plain": [
       "[4, 3, 2]"
      ]
     },
     "execution_count": 201,
     "metadata": {},
     "output_type": "execute_result"
    }
   ],
   "source": [
    "\n",
    "def solution(arr):\n",
    "    \n",
    "    if len(arr) > 0:\n",
    "        a = min(arr)\n",
    "        arr.remove(a)      \n",
    "    else:\n",
    "        [-1]\n",
    "    return arr\n"
   ]
  },
  {
   "cell_type": "code",
   "execution_count": 202,
   "id": "8974eac2",
   "metadata": {},
   "outputs": [],
   "source": [
    "# 다른 사람 풀이\n",
    "\n",
    "def rm_small(mylist):\n",
    "    # 함수를 완성하세요\n",
    "    del mylist[mylist.index(min(mylist))]\n",
    "    return mylist"
   ]
  },
  {
   "cell_type": "code",
   "execution_count": 204,
   "id": "2f34e4af",
   "metadata": {},
   "outputs": [
    {
     "data": {
      "text/plain": [
       "[]"
      ]
     },
     "execution_count": 204,
     "metadata": {},
     "output_type": "execute_result"
    }
   ],
   "source": [
    "mylist = [10]\n",
    "rm_small(mylist)"
   ]
  },
  {
   "cell_type": "markdown",
   "id": "59287b88",
   "metadata": {},
   "source": [
    "---\n",
    "#### 문제 설명\n",
    "    두 정수 a, b가 주어졌을 때 a와 b 사이에 속한 모든 정수의 합을 리턴하는 함수, solution을 완성하세요.\n",
    "    예를 들어 a = 3, b = 5인 경우, 3 + 4 + 5 = 12이므로 12를 리턴합니다."
   ]
  },
  {
   "cell_type": "code",
   "execution_count": 226,
   "id": "a558f24d",
   "metadata": {},
   "outputs": [
    {
     "name": "stdout",
     "output_type": "stream",
     "text": [
      "[3, 4, 5]\n"
     ]
    },
    {
     "data": {
      "text/plain": [
       "12"
      ]
     },
     "execution_count": 226,
     "metadata": {},
     "output_type": "execute_result"
    }
   ],
   "source": [
    "# 내 풀이\n",
    "def solution(a, b):\n",
    "    hap = []\n",
    "    if b > a:\n",
    "        for i in range(a,b+1):\n",
    "             hap.append(i)\n",
    "    else:\n",
    "        for i  in range(b, a+1):\n",
    "            hap.append(i)\n",
    "    answer = sum(hap)\n",
    "    return answer\n",
    "# -----------------------------------------------------------------------------------------\n",
    "def solution(a, b):\n",
    "    \n",
    "    return sum([i for i in range(a,b+1)]) if b > a else sum([i for i in range(b,a+1)])"
   ]
  },
  {
   "cell_type": "code",
   "execution_count": 227,
   "id": "66e491ba",
   "metadata": {},
   "outputs": [
    {
     "data": {
      "text/plain": [
       "12"
      ]
     },
     "execution_count": 227,
     "metadata": {},
     "output_type": "execute_result"
    }
   ],
   "source": [
    "# 다른 사람 풀이\n",
    "def adder(a, b):\n",
    "    # 함수를 완성하세요\n",
    "    if a > b: a, b = b, a # a가 b보다 크며 바꾸고 그렇지 안으면 그대로 사용\n",
    "        \n",
    "    return sum(range(a,b+1))\n",
    "\n",
    "# 방법 2\n",
    "def adder(a, b):\n",
    "    # 함수를 완성하세요\n",
    "    return sum(range(min(a,b),max(a,b)+1))"
   ]
  },
  {
   "cell_type": "markdown",
   "id": "b0be0e10",
   "metadata": {},
   "source": [
    "#### 문제 설명\n",
    "    String형 배열 seoul의 element중 \"Kim\"의 위치 x를 찾아, \"김서방은 x에 있다\"는 String을 반환하는 함수, solution을 완성하세요. \n",
    "    seoul에 \"Kim\"은 오직 한 번만 나타나며 잘못된 값이 입력되는 경우는 없습니다.\n",
    "    \n",
    "    입출력 예\n",
    "    seoul\treturn\n",
    "    [\"Jane\", \"Kim\"]\t\"김서방은 1에 있다\""
   ]
  },
  {
   "cell_type": "code",
   "execution_count": 254,
   "id": "70c0419d",
   "metadata": {},
   "outputs": [],
   "source": [
    "# 내 풀이\n",
    "\n",
    "def solution(seoul):\n",
    "    for i, s in enumerate(seoul):\n",
    "        if s == \"Kim\":\n",
    "            answer =  \"김서방은 {}에 있다.\".format(i)\n",
    "    return answer"
   ]
  },
  {
   "cell_type": "code",
   "execution_count": 255,
   "id": "59c38960",
   "metadata": {},
   "outputs": [
    {
     "data": {
      "text/plain": [
       "'김섭방은 1에 있다.'"
      ]
     },
     "execution_count": 255,
     "metadata": {},
     "output_type": "execute_result"
    }
   ],
   "source": [
    "# 다른 사람 풀이\n",
    "\n",
    "def findKim(seoul):\n",
    "    return \"김서방은 {}에 있다\".format(seoul.index('Kim'))"
   ]
  },
  {
   "cell_type": "markdown",
   "id": "9947a91c",
   "metadata": {},
   "source": [
    "---\n",
    "#### 문제 설명\n",
    "    길이가 n이고, \"수박수박수박수....\"와 같은 패턴을 유지하는 문자열을 리턴하는 함수, solution을 완성하세요. \n",
    "    예를들어 n이 4이면 \"수박수박\"을 리턴하고 3이라면 \"수박수\"를 리턴하면 됩니다."
   ]
  },
  {
   "cell_type": "code",
   "execution_count": 271,
   "id": "2e005f4e",
   "metadata": {},
   "outputs": [
    {
     "name": "stdout",
     "output_type": "stream",
     "text": [
      "수박수\n"
     ]
    }
   ],
   "source": [
    "# 내 풀이 1\n",
    "s = \"수박\"\n",
    "n = 3\n",
    "if n % 2 == 0:\n",
    "    cnt = n // 2\n",
    "    answer = s*cnt\n",
    "    \n",
    "else:\n",
    "    cnt = n // 2 + 1 \n",
    "    ans = s*cnt\n",
    "    answer = ans[:-1]\n",
    "print(answer)"
   ]
  },
  {
   "cell_type": "code",
   "execution_count": 272,
   "id": "9e17b2a6",
   "metadata": {},
   "outputs": [],
   "source": [
    "# 다른 사람 풀이\n",
    "# 방법 1\n",
    "def water_melon(n):\n",
    "    s = \"수박\" * n\n",
    "    return s[:n]\n",
    "# 방법 2\n",
    "def water_melon(n):\n",
    "    return \"수박\"*(n//2) + \"수\"*(n%2)"
   ]
  },
  {
   "cell_type": "code",
   "execution_count": 267,
   "id": "62ac18ac",
   "metadata": {},
   "outputs": [
    {
     "data": {
      "text/plain": [
       "1"
      ]
     },
     "execution_count": 267,
     "metadata": {},
     "output_type": "execute_result"
    }
   ],
   "source": []
  },
  {
   "cell_type": "code",
   "execution_count": null,
   "id": "9efa611a",
   "metadata": {},
   "outputs": [],
   "source": []
  },
  {
   "cell_type": "markdown",
   "id": "8f3e75d3",
   "metadata": {},
   "source": [
    "---\n",
    "#### 문제 설명\n",
    "    대문자와 소문자가 섞여있는 문자열 s가 주어집니다. s에 'p'의 개수와 'y'의 개수를 비교해 같으면 True, \n",
    "    다르면 False를 return 하는 solution를 완성하세요. 'p', 'y' 모두 하나도 없는 경우는 항상 True를 리턴합니다. \n",
    "    단, 개수를 비교할 때 대문자와 소문자는 구별하지 않습니다.\n",
    "    예를 들어 s가 \"pPoooyY\"면 true를 return하고 \"Pyy\"라면 false를 return합니다.\n",
    "    \n",
    "    입출력 예\n",
    "        s\t    answer\n",
    "    \"pPoooyY\"\ttrue\n",
    "    \"Pyy\"\t    false"
   ]
  },
  {
   "cell_type": "code",
   "execution_count": 295,
   "id": "dc30d70d",
   "metadata": {},
   "outputs": [
    {
     "data": {
      "text/plain": [
       "False"
      ]
     },
     "execution_count": 295,
     "metadata": {},
     "output_type": "execute_result"
    }
   ],
   "source": [
    "# 내 풀이\n",
    "\n",
    "def solution(s):\n",
    "    s = s.lower()\n",
    "    p_cnt =len([pos for pos, char in enumerate(s) if char == \"p\"])\n",
    "\n",
    "    y_cnt = len([pos for pos, char in enumerate(s) if char == \"y\"])\n",
    "\n",
    "    return True if p_cnt == y_cnt else False"
   ]
  },
  {
   "cell_type": "code",
   "execution_count": 296,
   "id": "cafaa873",
   "metadata": {
    "scrolled": true
   },
   "outputs": [],
   "source": [
    "# 다른 사람 풀이\n",
    "\n",
    "def numPY(s):\n",
    "    # 함수를 완성하세요\n",
    "    return s.lower().count('p') == s.lower().count('y')\n",
    "\n",
    "# 방법 2\n",
    "def numPY(s):\n",
    "    # 함수를 완성하세요\n",
    "    if(s.upper().count('P')==s.upper().count('Y')):\n",
    "        return True\n",
    "    return False"
   ]
  },
  {
   "cell_type": "code",
   "execution_count": null,
   "id": "1b1ca744",
   "metadata": {},
   "outputs": [],
   "source": []
  },
  {
   "cell_type": "code",
   "execution_count": null,
   "id": "93bcb9e4",
   "metadata": {},
   "outputs": [],
   "source": []
  },
  {
   "cell_type": "code",
   "execution_count": null,
   "id": "2861da40",
   "metadata": {},
   "outputs": [],
   "source": []
  },
  {
   "cell_type": "code",
   "execution_count": null,
   "id": "48d30306",
   "metadata": {},
   "outputs": [],
   "source": []
  },
  {
   "cell_type": "code",
   "execution_count": null,
   "id": "7c50364b",
   "metadata": {},
   "outputs": [],
   "source": []
  },
  {
   "cell_type": "code",
   "execution_count": null,
   "id": "2a632af8",
   "metadata": {},
   "outputs": [],
   "source": []
  },
  {
   "cell_type": "code",
   "execution_count": null,
   "id": "3afa726b",
   "metadata": {},
   "outputs": [],
   "source": []
  },
  {
   "cell_type": "code",
   "execution_count": null,
   "id": "e1a0d0b7",
   "metadata": {},
   "outputs": [],
   "source": []
  },
  {
   "cell_type": "code",
   "execution_count": null,
   "id": "23f1f894",
   "metadata": {},
   "outputs": [],
   "source": []
  },
  {
   "cell_type": "code",
   "execution_count": null,
   "id": "a9a4dbf1",
   "metadata": {},
   "outputs": [],
   "source": []
  }
 ],
 "metadata": {
  "kernelspec": {
   "display_name": "Python 3",
   "language": "python",
   "name": "python3"
  },
  "language_info": {
   "codemirror_mode": {
    "name": "ipython",
    "version": 3
   },
   "file_extension": ".py",
   "mimetype": "text/x-python",
   "name": "python",
   "nbconvert_exporter": "python",
   "pygments_lexer": "ipython3",
   "version": "3.8.8"
  }
 },
 "nbformat": 4,
 "nbformat_minor": 5
}
