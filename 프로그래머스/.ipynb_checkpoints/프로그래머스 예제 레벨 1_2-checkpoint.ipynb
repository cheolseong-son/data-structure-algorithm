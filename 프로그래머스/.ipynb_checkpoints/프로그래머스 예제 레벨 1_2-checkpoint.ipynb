{
 "cells": [
  {
   "cell_type": "markdown",
   "id": "2e2f7836",
   "metadata": {},
   "source": [
    "#### 문제 설명\n",
    "    수많은 마라톤 선수들이 마라톤에 참여하였습니다. 단 한 명의 선수를 제외하고는 모든 선수가 마라톤을 완주하였습니다.\n",
    "\n",
    "    마라톤에 참여한 선수들의 이름이 담긴 배열 participant와 완주한 선수들의 이름이 담긴 배열 completion이 주어질 때,\n",
    "    완주하지 못한 선수의 이름을 return 하도록 solution 함수를 작성해주세요."
   ]
  },
  {
   "cell_type": "code",
   "execution_count": 19,
   "id": "9e7918b7",
   "metadata": {},
   "outputs": [],
   "source": [
    "def solution(participant, completion):\n",
    "    count = {}\n",
    "    for i in participant:\n",
    "        try:count[i] += 1 # 없으면 새로 만들고\n",
    "        except:count[i] = 1 # 있으면 추가하기\n",
    "            \n",
    "    for j in completion:\n",
    "        if j in count:\n",
    "            count[j]-= 1\n",
    "   \n",
    "    return  \",\".join([key for key, value  in count.items() if value > 0])"
   ]
  },
  {
   "cell_type": "code",
   "execution_count": 24,
   "id": "20b36d82",
   "metadata": {},
   "outputs": [
    {
     "data": {
      "text/plain": [
       "'vinko'"
      ]
     },
     "execution_count": 24,
     "metadata": {},
     "output_type": "execute_result"
    }
   ],
   "source": [
    "\n",
    "participant = [\"marina\", \"josipa\", \"nikola\", \"vinko\", \"filipa\"]\n",
    "completion = [\"josipa\", \"filipa\", \"marina\", \"nikola\"]\n",
    "solution(participant, completion)"
   ]
  },
  {
   "cell_type": "code",
   "execution_count": null,
   "id": "653f99d6",
   "metadata": {},
   "outputs": [],
   "source": [
    "# 다른 사람 풀이\n",
    "# 방법 1 \n",
    "def solution(participant, completion):\n",
    "    answer = ''\n",
    "    temp = 0\n",
    "    dic = {}\n",
    "    for part in participant:\n",
    "        dic[hash(part)] = part\n",
    "        temp += int(hash(part))\n",
    "        \n",
    "    for com in completion:\n",
    "        temp -= hash(com)\n",
    "    answer = dic[temp]\n",
    "\n",
    "    return answer\n",
    " # ----------------------------------------------------------\n",
    "def solution(participant, completion):\n",
    "    participant.sort()\n",
    "    completion.sort()\n",
    "    for i in range(len(completion)):\n",
    "        if participant[i] != completion[i]:\n",
    "            return participant[i]\n",
    "    return participant[len(participant)-1]\n",
    "\n",
    "# -----------------------------------------------------------\n",
    "import collections\n",
    "\n",
    "def solution(participant, completion):\n",
    "    answer = collections.Counter(participant) - collections.Counter(completion)\n",
    "    return list(answer.keys())[0]\n"
   ]
  },
  {
   "cell_type": "markdown",
   "id": "0afee5a9",
   "metadata": {},
   "source": [
    "#### 문제 설명\n",
    "    문자열로 구성된 리스트 strings와, 정수 n이 주어졌을 때, 각 문자열의 인덱스 n번째 글자를 기준으로 오름차순 정렬하려 합니다. \n",
    "    예를 들어 strings가 [\"sun\", \"bed\", \"car\"]이고 n이 1이면 각 단어의 인덱스 1의 문자 \"u\", \"e\", \"a\"로 strings를 정렬합니다."
   ]
  },
  {
   "cell_type": "code",
   "execution_count": null,
   "id": "aafb4a6c",
   "metadata": {},
   "outputs": [],
   "source": [
    "# 10진수를 2진수로 변환\n"
   ]
  },
  {
   "cell_type": "code",
   "execution_count": 131,
   "id": "89d5759d",
   "metadata": {},
   "outputs": [],
   "source": [
    "def solution(n, arr1, arr2):\n",
    "    answer = []\n",
    "    arr1_bin = []\n",
    "    arr2_bin = []\n",
    "    for i in range(n):\n",
    "        arr1_bin.append(bin(arr1[i])[2:])\n",
    "        arr2_bin.append(bin(arr2[i])[2:])\n",
    "        arr1_bin[i] = ('0' * (n-len(arr1_bin[i]))) + arr1_bin[i]\n",
    "        arr2_bin[i] = ('0' * (n-len(arr2_bin[i]))) + arr2_bin[i]\n",
    "    \n",
    "        tmp = ''\n",
    "        for p in range(n):\n",
    "            if arr1_bin[i][p] == '1' or arr2_bin[i][p] == '1':\n",
    "                tmp += '#'\n",
    "            elif arr1_bin[i][p] == '0' and arr2_bin[i][p] == '0':\n",
    "                tmp += ' '\n",
    "        answer.append(tmp)\n",
    "        \n",
    "    return answer"
   ]
  },
  {
   "cell_type": "code",
   "execution_count": 132,
   "id": "85cea8fb",
   "metadata": {},
   "outputs": [
    {
     "data": {
      "text/plain": [
       "['######', '###  #', '##  ##', ' #### ', ' #####', '### # ']"
      ]
     },
     "execution_count": 132,
     "metadata": {},
     "output_type": "execute_result"
    }
   ],
   "source": [
    "n = 6\n",
    "arr1 = [46, 33, 33 ,22, 31, 50]\n",
    "arr2 = [27,56, 19, 14, 14, 10]\n",
    "solution(n, arr1, arr2)"
   ]
  },
  {
   "cell_type": "markdown",
   "id": "1fa603f8",
   "metadata": {},
   "source": [
    "#### 문제 설명 \n",
    "    수포자는 수학을 포기한 사람의 준말입니다. 수포자 삼인방은 모의고사에 수학 문제를 전부 찍으려 합니다. \n",
    "    수포자는 1번 문제부터 마지막 문제까지 다음과 같이 찍습니다.\n",
    "    1번 학생 : 1, 2, 3, 4, 5, 1, 2, 3, 4, 5, ...\n",
    "    2번 학생 : 2, 1, 2, 3, 2, 4, 2, 5, 2, 1, 2, 3, 2, 4, 2, 5, ...\n",
    "    3번 학생 : 3, 3, 1, 1, 2, 2, 4, 4, 5, 5, 3, 3, 1, 1, 2, 2, 4, 4, 5, 5, ..."
   ]
  },
  {
   "cell_type": "code",
   "execution_count": null,
   "id": "fefbf79a",
   "metadata": {},
   "outputs": [],
   "source": [
    "one = [1, 2, 3, 4, 5]\n",
    "two = [2, 1, 2, 3, 2, 4, 2, 5]\n",
    "three = [3, 3, 1, 1, 2, 2, 4, 4, 5, 5]\n",
    "\n",
    "answer = [1,3,2,4,2]"
   ]
  },
  {
   "cell_type": "code",
   "execution_count": null,
   "id": "c3180659",
   "metadata": {},
   "outputs": [],
   "source": []
  },
  {
   "cell_type": "code",
   "execution_count": null,
   "id": "4d918834",
   "metadata": {},
   "outputs": [],
   "source": []
  },
  {
   "cell_type": "code",
   "execution_count": null,
   "id": "9c902fb1",
   "metadata": {},
   "outputs": [],
   "source": []
  },
  {
   "cell_type": "code",
   "execution_count": null,
   "id": "716a3f9e",
   "metadata": {},
   "outputs": [],
   "source": []
  }
 ],
 "metadata": {
  "kernelspec": {
   "display_name": "Python 3",
   "language": "python",
   "name": "python3"
  },
  "language_info": {
   "codemirror_mode": {
    "name": "ipython",
    "version": 3
   },
   "file_extension": ".py",
   "mimetype": "text/x-python",
   "name": "python",
   "nbconvert_exporter": "python",
   "pygments_lexer": "ipython3",
   "version": "3.8.8"
  }
 },
 "nbformat": 4,
 "nbformat_minor": 5
}
