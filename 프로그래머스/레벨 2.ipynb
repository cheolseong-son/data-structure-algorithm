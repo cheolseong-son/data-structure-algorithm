{
 "cells": [
  {
   "cell_type": "markdown",
   "id": "2ff0cd0e",
   "metadata": {},
   "source": [
    "## 1. 짝지어 제거하기\n",
    "### 문제 설명\n",
    "짝지어 제거하기는, 알파벳 소문자로 이루어진 문자열을 가지고 시작합니다. 먼저 문자열에서 같은 알파벳이 2개 붙어 있는 짝을 찾습니다. 그다음, 그 둘을 제거한 뒤, 앞뒤로 문자열을 이어 붙입니다. 이 과정을 반복해서 문자열을 모두 제거한다면 짝지어 제거하기가 종료됩니다. 문자열 S가 주어졌을 때, 짝지어 제거하기를 성공적으로 수행할 수 있는지 반환하는 함수를 완성해 주세요. 성공적으로 수행할 수 있으면 1을, 아닐 경우 0을 리턴해주면 됩니다."
   ]
  },
  {
   "cell_type": "code",
   "execution_count": 75,
   "id": "0e2d116d",
   "metadata": {},
   "outputs": [
    {
     "data": {
      "text/plain": [
       "-1"
      ]
     },
     "execution_count": 75,
     "metadata": {},
     "output_type": "execute_result"
    }
   ],
   "source": [
    "def solution(s):\n",
    "    answer = []\n",
    "    ss = list(map(str, s))\n",
    "\n",
    "    for i in range(len(ss)):\n",
    "\n",
    "        if len(answer) == 0 or answer[-1] != ss[i]:\n",
    "            answer.append(ss[i])\n",
    "\n",
    "        else:\n",
    "            answer.pop()\n",
    " \n",
    "    return 1 if len(answer) == 0 else 0\n",
    "\n",
    "\n",
    "s = \"baabaa\"\n",
    "solution(s)"
   ]
  },
  {
   "cell_type": "code",
   "execution_count": null,
   "id": "d484e351",
   "metadata": {},
   "outputs": [],
   "source": [
    "# 다른 사람 풀이\n",
    "\n",
    "def solution(s):\n",
    "    answer = []\n",
    "    for i in s:\n",
    "        if not(answer):\n",
    "            answer.append(i)\n",
    "        else:\n",
    "            if(answer[-1] == i):\n",
    "                answer.pop()\n",
    "            else:\n",
    "                answer.append(i)    \n",
    "    return not(answer)"
   ]
  },
  {
   "cell_type": "markdown",
   "id": "6b15b207",
   "metadata": {},
   "source": [
    "## 행렬의 곱셈\n",
    "### 문제 설명\n",
    "2차원 행렬 arr1과 arr2를 입력받아, arr1에 arr2를 곱한 결과를 반환하는 함수, solution을 완성해주세요."
   ]
  },
  {
   "cell_type": "code",
   "execution_count": 117,
   "id": "0d5fbf7e",
   "metadata": {},
   "outputs": [
    {
     "data": {
      "text/plain": [
       "[[22, 22, 11], [36, 28, 18], [29, 20, 14]]"
      ]
     },
     "execution_count": 117,
     "metadata": {},
     "output_type": "execute_result"
    }
   ],
   "source": [
    "def solution(arr1, arr2):\n",
    "    answer = []\n",
    "    \n",
    "    arr3 = []\n",
    "    for i in range(len(arr2[0])):\n",
    "        a = []\n",
    "        for j in range(len(arr2)):    \n",
    "            a.append(arr2[j][i])\n",
    "        arr3.append(a)\n",
    "        \n",
    "    for i, v1 in enumerate(arr1):\n",
    "        aa = []\n",
    "        for j, v2 in enumerate(arr3):\n",
    "            ans = [a*b for a, b in zip(v1, v2)]\n",
    "            aa.append(sum(ans))\n",
    "        answer.append(aa)\n",
    "\n",
    "    return answer\n",
    "\n",
    "\n",
    "arr1 = [[2, 3, 2], [4, 2, 4], [3, 1, 4]]\n",
    "arr2 = [[5, 4, 3], [2, 4, 1], [3, 1, 1]]\n",
    "\n",
    "solution(arr1, arr2)"
   ]
  },
  {
   "cell_type": "code",
   "execution_count": 118,
   "id": "f30a744f",
   "metadata": {},
   "outputs": [
    {
     "name": "stdout",
     "output_type": "stream",
     "text": [
      "결과 : [[13, 16], [21, 26]]\n"
     ]
    }
   ],
   "source": [
    "# 다른 사람 풀이\n",
    "\n",
    "def productMatrix(A, B):\n",
    "    return [[sum(a*b for a, b in zip(A_row,B_col)) for B_col in zip(*B)] for A_row in A]\n",
    "\n",
    "# 아래는 테스트로 출력해 보기 위한 코드입니다.\n",
    "a = [ [ 1, 2 ], [ 2, 3 ]];\n",
    "b = [[ 3, 4], [5, 6]];\n",
    "print(\"결과 : {}\".format(productMatrix(a,b)));"
   ]
  },
  {
   "cell_type": "code",
   "execution_count": 119,
   "id": "5cf0f424",
   "metadata": {},
   "outputs": [
    {
     "name": "stdout",
     "output_type": "stream",
     "text": [
      "(3, 5)\n",
      "(4, 6)\n"
     ]
    }
   ],
   "source": [
    "import numpy as np\n",
    "def productMatrix(A, B):\n",
    "\n",
    "    return (np.matrix(A)*np.matrix(B)).tolist()\n",
    "\n",
    "# 아래는 테스트로 출력해 보기 위한 코드입니다.\n",
    "a = [ [ 1, 2 ], [ 2, 3 ]];\n",
    "b = [[ 3, 4], [5, 6]];\n",
    "print(\"결과 : {}\".format(productMatrix(a,b)));"
   ]
  },
  {
   "cell_type": "markdown",
   "id": "bf882092",
   "metadata": {},
   "source": [
    "## 나머지가 1이 되는 수 찾기\n",
    "### 문제 설명\n",
    "자연수 n이 매개변수로 주어집니다. n을 x로 나눈 나머지가 1이 되도록 하는 가장 작은 자연수 x를 return 하도록 solution 함수를 완성해주세요. 답이 항상 존재함은 증명될 수 있습니다.\n"
   ]
  },
  {
   "cell_type": "code",
   "execution_count": 123,
   "id": "755f07f0",
   "metadata": {},
   "outputs": [
    {
     "name": "stdout",
     "output_type": "stream",
     "text": [
      "11\n"
     ]
    }
   ],
   "source": [
    "n = 12\n",
    "\n",
    "for i in range(3, n):\n",
    "    if n % i == 1:\n",
    "        print(i)\n",
    "        break\n",
    "        \n"
   ]
  },
  {
   "cell_type": "code",
   "execution_count": 126,
   "id": "02f0aa51",
   "metadata": {},
   "outputs": [
    {
     "data": {
      "text/plain": [
       "3"
      ]
     },
     "execution_count": 126,
     "metadata": {},
     "output_type": "execute_result"
    }
   ],
   "source": [
    "def solution(n):\n",
    "    for i in range(3, n):\n",
    "        if n % i == 1:\n",
    "            answer = i\n",
    "            break\n",
    "    return answer\n",
    "n = 1000000\n",
    "solution(n)"
   ]
  },
  {
   "cell_type": "markdown",
   "id": "e7665249",
   "metadata": {},
   "source": [
    "[1차] 뉴스 클러스터링\n",
    "## 뉴스 클러스터링\n",
    "### 문제 설명\n",
    "\n",
    "여러 언론사에서 쏟아지는 뉴스, 특히 속보성 뉴스를 보면 비슷비슷한 제목의 기사가 많아 정작 필요한 기사를 찾기가 어렵다. Daum 뉴스의 개발 업무를 맡게 된 신입사원 튜브는 사용자들이 편리하게 다양한 뉴스를 찾아볼 수 있도록 문제점을 개선하는 업무를 맡게 되었다."
   ]
  },
  {
   "cell_type": "code",
   "execution_count": 262,
   "id": "d7a0dd80",
   "metadata": {},
   "outputs": [
    {
     "name": "stdout",
     "output_type": "stream",
     "text": [
      "Counter({'ha': 2, 'an': 1, 'nd': 1, 'ds': 1, 'sh': 1, 'ak': 1, 'ke': 1})\n",
      "Counter({'ha': 2, 'sh': 1, 'ak': 1, 'ke': 1, 'an': 1, 'nd': 1, 'ds': 1})\n",
      "8\n",
      "8\n"
     ]
    },
    {
     "data": {
      "text/plain": [
       "65536"
      ]
     },
     "execution_count": 262,
     "metadata": {},
     "output_type": "execute_result"
    }
   ],
   "source": [
    "from collections import Counter\n",
    "def solution(str1, str2): \n",
    "\n",
    "\n",
    "    arr1 = [str1[i:i + 2].lower() for i in range(len(str1) - 1) if str1[i:i+2].isalpha()]\n",
    "    arr2 = [str2[i:i + 2].lower() for i in range(len(str2) - 1) if str2[i:i+2].isalpha()]\n",
    "    \n",
    "    if len(arr1) == 0 and len(arr2) == 0:     # arr1 과 arr2가 공집합일경우\n",
    "        return 65536\n",
    "\n",
    "    c1 = Counter(arr1)\n",
    "    c2 = Counter(arr2)\n",
    "    print(c1)\n",
    "    print(c2)\n",
    "    \n",
    "    sum_set = sum((c1 | c2).values())         # c1 과 c2 의 합집합\n",
    "    inter_set = sum((c1 & c2).values())   # c1 과 c2 의 교집합\n",
    "    print(sum_set)\n",
    "    print(inter_set)\n",
    "    \n",
    "    return int(inter_set / sum_set * 65536)\n",
    "\n",
    "str1 = 'handshake'\n",
    "str2 = 'shake hands'\n",
    "solution(str1, str2)"
   ]
  },
  {
   "cell_type": "markdown",
   "id": "cd51094a",
   "metadata": {},
   "source": [
    "## 124 나라의 숫자\n",
    "### 문제 설명\n",
    "124 나라가 있습니다. 124 나라에서는 10진법이 아닌 다음과 같은 자신들만의 규칙으로 수를 표현합니다.<br>\n",
    "자연수 n이 매개변수로 주어질 때, n을 124 나라에서 사용하는 숫자로 바꾼 값을 return 하도록 solution 함수를 완성해 주세요.\n"
   ]
  },
  {
   "cell_type": "markdown",
   "id": "dfbb82fc",
   "metadata": {},
   "source": [
    "-설명-\n",
    "\n",
    "1. 진법 변환을 위해 인수분해를 해보면 3으로 나누어 떨어질 때를 제외하고 정상적인 3진법 표기가 동일하다.\n",
    "\n",
    "\n",
    "2. 왜 나누어 떨어질때만 다를까? 기본 3진법의 경우 0을 표현한다. 하지만 124나라에는 0을 표현하지 않는다. \n",
    "    최소단위가 1이다. 그래서 이 차이를 맞춰주려고 한다.\n",
    "\n",
    "\n",
    "3. 인수분해를 하다가 나누어 떨어져서 나머지가 0 인 경우, 몫을 1빼주고 '0'대신 '4'를 더해준다.\n",
    "    그리고 몫이 0인 경우에 인수분해를 중지하고 결과를 RETURN 한다."
   ]
  },
  {
   "cell_type": "code",
   "execution_count": 115,
   "id": "3489d774",
   "metadata": {},
   "outputs": [
    {
     "data": {
      "text/plain": [
       "41"
      ]
     },
     "execution_count": 115,
     "metadata": {},
     "output_type": "execute_result"
    }
   ],
   "source": [
    "def solution(n):\n",
    "    answer = []\n",
    "\n",
    "    while n:  \n",
    "        n, b = divmod(n, 3)\n",
    "        if b == 0: # 나머지가 0이면\n",
    "            n -= 1\n",
    "            answer.append(4)\n",
    "        else:\n",
    "            answer.append(b)\n",
    "    ans = list(reversed(answer))\n",
    "\n",
    "    return [\"\".join([str(i) for i in ans])][0]\n",
    "\n",
    "solution(10)"
   ]
  },
  {
   "cell_type": "code",
   "execution_count": 95,
   "id": "f47004da",
   "metadata": {},
   "outputs": [
    {
     "data": {
      "text/plain": [
       "123"
      ]
     },
     "execution_count": 95,
     "metadata": {},
     "output_type": "execute_result"
    }
   ],
   "source": [
    "# 다른 사람 풀이\n",
    "\n",
    "def change124(n):\n",
    "    if n<=3:\n",
    "        return '124'[n-1]\n",
    "    else:\n",
    "        q, r = divmod(n-1, 3) \n",
    "        return change124(q) + '124'[r]\n",
    "# =================================================\n",
    "def change124(n):\n",
    "    num = ['1','2','4']\n",
    "    answer = \"\"\n",
    "\n",
    "    while n > 0:\n",
    "        n -= 1\n",
    "        answer = num[n % 3] + answer\n",
    "        n //= 3\n",
    "\n",
    "    return answer"
   ]
  },
  {
   "cell_type": "markdown",
   "id": "b88441ad",
   "metadata": {},
   "source": [
    "[3차] n진수 게임\n",
    "## N진수 게임\n",
    "### 문제 설명\n",
    "\n",
    "이진수로 진행하는 게임에 익숙해져 질려가던 사람들은 좀 더 난이도를 높이기 위해 이진법에서 십육진법까지 모든 진법으로 게임을 진행해보기로 했다. 숫자 게임이 익숙하지 않은 튜브는 게임에 져서 벌칙을 받는 굴욕을 피하기 위해, 자신이 말해야 하는 숫자를 스마트폰에 미리 출력해주는 프로그램을 만들려고 한다. 튜브의 프로그램을 구현하라."
   ]
  },
  {
   "cell_type": "code",
   "execution_count": 145,
   "id": "87f29712",
   "metadata": {},
   "outputs": [],
   "source": [
    "n = 16\n",
    "t = 16\n",
    "m = 2\n",
    "p = 2\n"
   ]
  },
  {
   "cell_type": "code",
   "execution_count": 147,
   "id": "9331ba93",
   "metadata": {},
   "outputs": [
    {
     "data": {
      "text/plain": [
       "'13579BDF01234567'"
      ]
     },
     "execution_count": 147,
     "metadata": {},
     "output_type": "execute_result"
    }
   ],
   "source": [
    "\n",
    "# 진수 계산\n",
    "def trans(n, num):\n",
    "    arr = \"0123456789ABCDEF\"\n",
    "    ret = ''\n",
    "    if num == 0:\n",
    "        return '0'\n",
    "    # 진수\n",
    "    while num > 0:\n",
    "        ret = arr[num % n] + ret\n",
    "        num = num // n\n",
    "    return ret\n",
    "\n",
    "def solution(n, t, m, p):\n",
    "    answer = ''\n",
    "    string = ''\n",
    "    \n",
    "    # 숫자의 개수\n",
    "    for i in range(t*m):\n",
    "        string += trans(n, i)\n",
    "        \n",
    "     # 숫자 빼내기   \n",
    "    for s in range(p-1, t*m, m):\n",
    "        answer += string[s]\n",
    "\n",
    "    return answer\n",
    "\n",
    "\n",
    "\n",
    "n = 16\n",
    "t = 16\n",
    "m = 2\n",
    "p = 2\n",
    "solution(n, t, m, p)"
   ]
  },
  {
   "cell_type": "code",
   "execution_count": 151,
   "id": "0eb29def",
   "metadata": {},
   "outputs": [
    {
     "data": {
      "text/plain": [
       "'89DAC'"
      ]
     },
     "execution_count": 151,
     "metadata": {},
     "output_type": "execute_result"
    }
   ],
   "source": [
    "def trans(n, num):\n",
    "    arr = \"0123456789ABCDEF\"\n",
    "    ret = ''\n",
    "    if num == 0:\n",
    "        return '0'\n",
    "    # 진수\n",
    "    while num > 0:\n",
    "        ret = arr[num % n] + ret\n",
    "        num = num // n\n",
    "    return ret\n",
    "\n",
    "trans(16, 564652)"
   ]
  },
  {
   "cell_type": "markdown",
   "id": "1a982c79",
   "metadata": {},
   "source": [
    "## 방문 길이\n",
    "### 문제 설명\n",
    "게임 캐릭터를 4가지 명령어를 통해 움직이려 합니다. 명령어는 다음과 같습니다.\n",
    "\n",
    "+ U: 위쪽으로 한 칸 가기\n",
    "\n",
    "+ D: 아래쪽으로 한 칸 가기\n",
    "\n",
    "+ R: 오른쪽으로 한 칸 가기\n",
    "\n",
    "+ L: 왼쪽으로 한 칸 가기\n",
    "\n",
    "제한사항<br>\n",
    "+ dirs는 string형으로 주어지며, 'U', 'D', 'R', 'L' 이외에 문자는 주어지지 않습니다.\n",
    "+ dirs의 길이는 500 이하의 자연수입니다."
   ]
  },
  {
   "cell_type": "code",
   "execution_count": 171,
   "id": "64d6d2ae",
   "metadata": {},
   "outputs": [
    {
     "data": {
      "text/plain": [
       "[[0, 0, 0, 0, 0, 0, 0, 0, 0, 0, 0],\n",
       " [0, 0, 0, 0, 0, 0, 0, 0, 0, 0, 0],\n",
       " [0, 0, 0, 0, 0, 0, 0, 0, 0, 0, 0],\n",
       " [0, 0, 0, 0, 0, 0, 0, 0, 0, 0, 0],\n",
       " [0, 0, 0, 0, 0, 0, 0, 0, 0, 0, 0],\n",
       " [0, 0, 0, 0, 0, 0, 0, 0, 0, 0, 0],\n",
       " [0, 0, 0, 0, 0, 0, 0, 0, 0, 0, 0],\n",
       " [0, 0, 0, 0, 0, 0, 0, 0, 0, 0, 0],\n",
       " [0, 0, 0, 0, 0, 0, 0, 0, 0, 0, 0],\n",
       " [0, 0, 0, 0, 0, 0, 0, 0, 0, 0, 0],\n",
       " [0, 0, 0, 0, 0, 0, 0, 0, 0, 0, 0]]"
      ]
     },
     "execution_count": 171,
     "metadata": {},
     "output_type": "execute_result"
    }
   ],
   "source": [
    "dirs = \"ULURRDLLU\"\n",
    "\n",
    "for i in dirs:\n",
    "    if i == \"U\":     # 위\n",
    "        pass\n",
    "    elif i == \"D\":  # 아래\n",
    "        pass\n",
    "    elif i == \"R\":  #  오른쪽\n",
    "        pass\n",
    "    else:           # 왼쪽\n",
    "        pass"
   ]
  },
  {
   "cell_type": "code",
   "execution_count": 169,
   "id": "b308a74d",
   "metadata": {},
   "outputs": [
    {
     "data": {
      "text/plain": [
       "[[0, 0, 0], [0, 0, 0], [1, 0, 0], [1, 0, 0], [0, 0, 0]]"
      ]
     },
     "execution_count": 169,
     "metadata": {},
     "output_type": "execute_result"
    }
   ],
   "source": [
    "a3[2][0]= 1\n",
    "a3"
   ]
  },
  {
   "cell_type": "code",
   "execution_count": null,
   "id": "3883ce3f",
   "metadata": {},
   "outputs": [],
   "source": []
  },
  {
   "cell_type": "code",
   "execution_count": null,
   "id": "c8335d6b",
   "metadata": {},
   "outputs": [],
   "source": []
  },
  {
   "cell_type": "code",
   "execution_count": null,
   "id": "6afa74ab",
   "metadata": {},
   "outputs": [],
   "source": []
  },
  {
   "cell_type": "markdown",
   "id": "d05afebd",
   "metadata": {},
   "source": [
    "## 문자열 압축\n",
    "### 문제 설명"
   ]
  },
  {
   "cell_type": "code",
   "execution_count": 122,
   "id": "9a9d4d0a",
   "metadata": {},
   "outputs": [
    {
     "data": {
      "text/plain": [
       "1"
      ]
     },
     "execution_count": 122,
     "metadata": {},
     "output_type": "execute_result"
    }
   ],
   "source": [
    "def solution(s):\n",
    "    answer = []\n",
    "    if len(s) == 1:\n",
    "        return 1\n",
    "    \n",
    "    for j in range(1, (len(s)//2+1)):\n",
    "        print(j)\n",
    "        ans = []\n",
    "        for i in range(0,(len(s)),j):\n",
    "            ans.append(s[i:i+j])\n",
    "        print(\"ans :\", ans)                       # 문자열 n개씩 자르기\n",
    "    # ========================================   \n",
    "    # 같은 문자끼리 압축\n",
    "        result = ans[0]  # ans 0번째 인덱스 값을 결과에 넣는다\n",
    "        count = 0  \n",
    "        for st in ans:\n",
    "            if st == result[-j:]: # 같다면 count ++\n",
    "                count += 1            \n",
    "            else:  # -------------------> 다르다면 result에 count와 st추가         \n",
    "                if count == 1:\n",
    "                    result += st\n",
    "                else:\n",
    "                    result += str(count) + st\n",
    "                    count = 1\n",
    "        result += str(count) # 마지막 count 넣기\n",
    "        result = [result[:-1] if count == 1 else result] # 마지막 count가 1이 아닌 것만 넣기\n",
    "        print(\"result :\",result)\n",
    "        answer.append(len(result[0])) # 문자열 길이를 answer에 저장\n",
    "\n",
    "    return min(answer) # answer의 가장 작은 값 리턴\n",
    "\n",
    "s = \"a\"\n",
    "solution(s)"
   ]
  },
  {
   "cell_type": "code",
   "execution_count": 124,
   "id": "98e357b5",
   "metadata": {},
   "outputs": [
    {
     "data": {
      "text/plain": [
       "9"
      ]
     },
     "execution_count": 124,
     "metadata": {},
     "output_type": "execute_result"
    }
   ],
   "source": [
    "# 다른 사람 풀이\n",
    "def compress(text, tok_len):\n",
    "    words = [text[i:i+tok_len] for i in range(0, len(text), tok_len)]\n",
    "    res = []\n",
    "    cur_word = words[0]\n",
    "    cur_cnt = 1\n",
    "    for a, b in zip(words, words[1:] + ['']):\n",
    "        if a == b:\n",
    "            cur_cnt += 1\n",
    "        else:\n",
    "            res.append([cur_word, cur_cnt])\n",
    "            cur_word = b\n",
    "            cur_cnt = 1\n",
    "    return sum(len(word) + (len(str(cnt)) if cnt > 1 else 0) for word, cnt in res)\n",
    "\n",
    "def solution(text):\n",
    "    return min(compress(text, tok_len) for tok_len in list(range(1, int(len(text)/2) + 1)) + [len(text)])\n",
    "\n",
    "text = '123456789'\n",
    "solution(text)"
   ]
  },
  {
   "cell_type": "markdown",
   "id": "62b0a4de",
   "metadata": {},
   "source": [
    "## 튜플\n",
    "### 문제 설명\n",
    "\n",
    "특정 튜플을 표현하는 집합이 담긴 문자열 s가 매개변수로 주어질 때, s가 표현하는 튜플을 배열에 담아 return 하도록 solution 함수를 완성해주세요."
   ]
  },
  {
   "cell_type": "code",
   "execution_count": 90,
   "id": "33bd772a",
   "metadata": {},
   "outputs": [
    {
     "name": "stdout",
     "output_type": "stream",
     "text": [
      "string : ['20', '111', '111']\n",
      "Counter({'111': 2, '20': 1})\n",
      "s_sorted : [('111', 2), ('20', 1)]\n"
     ]
    },
    {
     "data": {
      "text/plain": [
       "[111, 20]"
      ]
     },
     "execution_count": 90,
     "metadata": {},
     "output_type": "execute_result"
    }
   ],
   "source": [
    "# 내 풀이\n",
    "\n",
    "from collections import Counter\n",
    "\n",
    "def solution(s):\n",
    "    characters = \"{}\" # 문자열에서 \"{}\" 제거\n",
    "    \n",
    "    string = ''.join( x for x in s if x not in characters).split(\",\")   \n",
    "    s_sorted = sorted(Counter(string).items(), key=lambda x : x[1], reverse=True)   \n",
    "    return [int(s_sorted[k][0]) for k in range(len(s_sorted))]\n",
    "\n",
    "s = \"{{1,2,3},{2,1},{1,2,4,3},{2}}\"\n",
    "solution(s)"
   ]
  },
  {
   "cell_type": "code",
   "execution_count": 91,
   "id": "4a1c4828",
   "metadata": {},
   "outputs": [
    {
     "name": "stdout",
     "output_type": "stream",
     "text": [
      "Counter({'2': 4, '1': 3, '3': 2, '4': 1})\n"
     ]
    },
    {
     "data": {
      "text/plain": [
       "[2, 1, 3, 4]"
      ]
     },
     "execution_count": 91,
     "metadata": {},
     "output_type": "execute_result"
    }
   ],
   "source": [
    "# 다른 사람 풀이\n",
    "\n",
    "def solution(s):\n",
    "\n",
    "    s = Counter(re.findall('\\d+', s)) # 숫자인것만 개수 세기 \n",
    "    print(s)\n",
    "    return list(map(int, [k for k, v in sorted(s.items(), key=lambda x: x[1], reverse=True)]))\n",
    "    \n",
    "import re\n",
    "from collections import Counter\n",
    "\n",
    "s = \"{{1,2,3},{2,1},{1,2,4,3},{2}}\"\n",
    "solution(s)"
   ]
  },
  {
   "cell_type": "markdown",
   "id": "2a2c644d",
   "metadata": {},
   "source": [
    "## 영어 끝말잇기\n",
    "### 문제 설명\n",
    "\n",
    "사람의 수 n과 사람들이 순서대로 말한 단어 words 가 매개변수로 주어질 때, 가장 먼저 탈락하는 사람의 번호와 그 사람이 자신의 몇 번째 차례에 탈락하는지를 구해서 return 하도록 solution 함수를 완성해주세요."
   ]
  },
  {
   "cell_type": "code",
   "execution_count": 85,
   "id": "f714b257",
   "metadata": {},
   "outputs": [
    {
     "data": {
      "text/plain": [
       "[1, 3]"
      ]
     },
     "execution_count": 85,
     "metadata": {},
     "output_type": "execute_result"
    }
   ],
   "source": [
    "def solution(n, words):\n",
    "    used_words = [words[0]]\n",
    "\n",
    "    for i in range(1,len(words)):\n",
    "        if used_words[-1][-1] == words[i][0] and words[i] not in used_words :\n",
    "            used_words.append(words[i])\n",
    "        else:\n",
    "            return [(i%n)+1,(i//n)+1]\n",
    "    return [0, 0]\n",
    "\n",
    "words = [\"hello\", \"one\", \"even\", \"never\", \"now\", \"world\", \"draw\"]\n",
    "n = 2\n",
    "solution(n, words)"
   ]
  },
  {
   "cell_type": "code",
   "execution_count": 82,
   "id": "633559e4",
   "metadata": {},
   "outputs": [
    {
     "data": {
      "text/plain": [
       "[1, 3]"
      ]
     },
     "execution_count": 82,
     "metadata": {},
     "output_type": "execute_result"
    }
   ],
   "source": [
    "# 다른 사람 풀이\n",
    "\n",
    "def solution(n, words):\n",
    "    for i in range(1, len(words)):\n",
    "        if words[i][0] != words[i-1][-1] or words[i] in words[:i] :\n",
    "            return [(i%n)+1, (i//n)+1]\n",
    "    else:\n",
    "        return [0,0]\n",
    "words = [\"hello\", \"one\", \"even\", \"never\", \"now\", \"world\", \"draw\"]\n",
    "n = 2\n",
    "solution(n, words)"
   ]
  },
  {
   "cell_type": "code",
   "execution_count": 95,
   "id": "88dfb636",
   "metadata": {},
   "outputs": [
    {
     "data": {
      "text/plain": [
       "8"
      ]
     },
     "execution_count": 95,
     "metadata": {},
     "output_type": "execute_result"
    }
   ],
   "source": [
    "거리두기 확인하기\n",
    "문제 설명"
   ]
  },
  {
   "cell_type": "code",
   "execution_count": null,
   "id": "49c213ee",
   "metadata": {},
   "outputs": [],
   "source": []
  },
  {
   "cell_type": "code",
   "execution_count": null,
   "id": "1cec8030",
   "metadata": {},
   "outputs": [],
   "source": []
  },
  {
   "cell_type": "code",
   "execution_count": null,
   "id": "e8fff878",
   "metadata": {},
   "outputs": [],
   "source": []
  },
  {
   "cell_type": "code",
   "execution_count": null,
   "id": "c92034cf",
   "metadata": {},
   "outputs": [],
   "source": []
  },
  {
   "cell_type": "code",
   "execution_count": null,
   "id": "5fbb7833",
   "metadata": {},
   "outputs": [],
   "source": []
  },
  {
   "cell_type": "code",
   "execution_count": null,
   "id": "d668cb4d",
   "metadata": {},
   "outputs": [],
   "source": []
  },
  {
   "cell_type": "code",
   "execution_count": null,
   "id": "6c108f6c",
   "metadata": {},
   "outputs": [],
   "source": []
  },
  {
   "cell_type": "code",
   "execution_count": null,
   "id": "08a1abca",
   "metadata": {},
   "outputs": [],
   "source": []
  },
  {
   "cell_type": "code",
   "execution_count": null,
   "id": "404bf14f",
   "metadata": {},
   "outputs": [],
   "source": []
  },
  {
   "cell_type": "code",
   "execution_count": null,
   "id": "b7a5a50e",
   "metadata": {},
   "outputs": [],
   "source": []
  },
  {
   "cell_type": "code",
   "execution_count": null,
   "id": "fd465fed",
   "metadata": {},
   "outputs": [],
   "source": []
  },
  {
   "cell_type": "code",
   "execution_count": null,
   "id": "3d0a39a2",
   "metadata": {},
   "outputs": [],
   "source": []
  },
  {
   "cell_type": "code",
   "execution_count": null,
   "id": "2020bb87",
   "metadata": {},
   "outputs": [],
   "source": []
  },
  {
   "cell_type": "code",
   "execution_count": null,
   "id": "acbab529",
   "metadata": {},
   "outputs": [],
   "source": []
  },
  {
   "cell_type": "code",
   "execution_count": null,
   "id": "d6cd5ef8",
   "metadata": {},
   "outputs": [],
   "source": []
  },
  {
   "cell_type": "code",
   "execution_count": null,
   "id": "b7b604cf",
   "metadata": {},
   "outputs": [],
   "source": []
  },
  {
   "cell_type": "code",
   "execution_count": null,
   "id": "7d8aa095",
   "metadata": {},
   "outputs": [],
   "source": []
  },
  {
   "cell_type": "code",
   "execution_count": null,
   "id": "7345442d",
   "metadata": {},
   "outputs": [],
   "source": []
  },
  {
   "cell_type": "code",
   "execution_count": null,
   "id": "8b510637",
   "metadata": {},
   "outputs": [],
   "source": []
  },
  {
   "cell_type": "code",
   "execution_count": null,
   "id": "52cb41ce",
   "metadata": {},
   "outputs": [],
   "source": []
  },
  {
   "cell_type": "code",
   "execution_count": null,
   "id": "a3c60a60",
   "metadata": {},
   "outputs": [],
   "source": []
  },
  {
   "cell_type": "markdown",
   "id": "4de74b34",
   "metadata": {},
   "source": []
  },
  {
   "cell_type": "code",
   "execution_count": null,
   "id": "c56ece9d",
   "metadata": {},
   "outputs": [],
   "source": []
  }
 ],
 "metadata": {
  "kernelspec": {
   "display_name": "Python 3",
   "language": "python",
   "name": "python3"
  },
  "language_info": {
   "codemirror_mode": {
    "name": "ipython",
    "version": 3
   },
   "file_extension": ".py",
   "mimetype": "text/x-python",
   "name": "python",
   "nbconvert_exporter": "python",
   "pygments_lexer": "ipython3",
   "version": "3.8.8"
  }
 },
 "nbformat": 4,
 "nbformat_minor": 5
}
