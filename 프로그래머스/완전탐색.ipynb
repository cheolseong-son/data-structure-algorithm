{
 "cells": [
  {
   "cell_type": "markdown",
   "id": "db154a6b",
   "metadata": {},
   "source": [
    "## 소수 찾기\n",
    "### 문제 설명\n",
    "한자리 숫자가 적힌 종이 조각이 흩어져있습니다. 흩어진 종이 조각을 붙여 소수를 몇 개 만들 수 있는지 알아내려 합니다.\n",
    "\n",
    "각 종이 조각에 적힌 숫자가 적힌 문자열 numbers가 주어졌을 때, 종이 조각으로 만들 수 있는 소수가 몇 개인지 return 하도록 solution 함수를 완성해주세요."
   ]
  },
  {
   "cell_type": "code",
   "execution_count": 14,
   "id": "7b8e922f",
   "metadata": {},
   "outputs": [],
   "source": [
    "numbers = \"011\"\n",
    "a = list(map(str, numbers))"
   ]
  },
  {
   "cell_type": "code",
   "execution_count": null,
   "id": "0ceb2e5e",
   "metadata": {},
   "outputs": [],
   "source": []
  },
  {
   "cell_type": "code",
   "execution_count": null,
   "id": "0399a8bc",
   "metadata": {},
   "outputs": [],
   "source": []
  },
  {
   "cell_type": "code",
   "execution_count": null,
   "id": "8fd2c68c",
   "metadata": {},
   "outputs": [],
   "source": []
  },
  {
   "cell_type": "markdown",
   "id": "db5e06b7",
   "metadata": {},
   "source": [
    "### 문제 설명\n",
    "Leo는 카펫을 사러 갔다가 아래 그림과 같이 중앙에는 노란색으로 칠해져 있고 테두리 1줄은 갈색으로 칠해져 있는 격자 모양 카펫을 봤습니다.\n",
    "\n",
    "Leo는 집으로 돌아와서 아까 본 카펫의 노란색과 갈색으로 색칠된 격자의 개수는 기억했지만, 전체 카펫의 크기는 기억하지 못했습니다.\n",
    "\n",
    "Leo가 본 카펫에서 갈색 격자의 수 brown, 노란색 격자의 수 yellow가 매개변수로 주어질 때 카펫의 가로, 세로 크기를 순서대로 배열에 담아 return 하도록 solution 함수를 작성해주세요."
   ]
  },
  {
   "cell_type": "code",
   "execution_count": 23,
   "id": "e6b21286",
   "metadata": {},
   "outputs": [
    {
     "name": "stdout",
     "output_type": "stream",
     "text": [
      "[[4, 3]]\n",
      "정답 : [4, 3]\n"
     ]
    }
   ],
   "source": [
    "brown = 10\n",
    "yellow = 2\n",
    "hap = brown + yellow\n",
    "# answer [4,3]\n",
    "a = []\n",
    "# 12\n",
    "for i in range(3, hap//2):\n",
    "    if hap % i==0:\n",
    "        b = hap//i\n",
    "        if b >= i:\n",
    "            a.append([b, i])\n",
    "print(a)\n",
    "\n",
    "# ---------------\n",
    "for i in range(len(a)):\n",
    "    x = a[i][0] - 2\n",
    "    y = a[i][1] - 2\n",
    "    if x * y == yellow:\n",
    "        print(\"정답 :\",a[i])"
   ]
  },
  {
   "cell_type": "code",
   "execution_count": 25,
   "id": "26461c46",
   "metadata": {},
   "outputs": [
    {
     "data": {
      "text/plain": [
       "[4, 3]"
      ]
     },
     "execution_count": 25,
     "metadata": {},
     "output_type": "execute_result"
    }
   ],
   "source": [
    "def solution(brown, yellow):\n",
    "    answer = []\n",
    "    hap = brown + yellow\n",
    "    # answer [4,3]\n",
    "    a = []\n",
    "    # 12\n",
    "    for i in range(3, hap//2): # 합의 절반만 반복 돌리기\n",
    "        if hap % i == 0:\n",
    "            b = hap//i\n",
    "            if b >= i:          \n",
    "                a.append([b, i])\n",
    "                \n",
    "    for i in range(len(a)):\n",
    "        x = a[i][0] - 2\n",
    "        y = a[i][1] - 2\n",
    "        if x * y == yellow:\n",
    "            return a[i]\n",
    "    \n",
    "brown = 10\n",
    "yellow = 2\n",
    "solution(brown, yellow)"
   ]
  },
  {
   "cell_type": "code",
   "execution_count": 27,
   "id": "972a829f",
   "metadata": {},
   "outputs": [
    {
     "data": {
      "text/plain": [
       "2"
      ]
     },
     "execution_count": 27,
     "metadata": {},
     "output_type": "execute_result"
    }
   ],
   "source": [
    "# 다른 사람 풀이\n",
    "# 둘레의 길이 : (가로*2 + 세로*2 - 겹치는 부분) = 갈색 둘레\n",
    "\n",
    "def solution(brown, yellow):\n",
    "    for i in range(1, int(yellow**(1/2))+1):\n",
    "        if yellow % i == 0:\n",
    "            if 2*(i + yellow//i) == brown-4:\n",
    "                return [yellow//i+2, i+2]\n",
    "            \n",
    "brown = 10\n",
    "yellow = 2\n",
    "solution(brown, yellow)"
   ]
  },
  {
   "cell_type": "code",
   "execution_count": 29,
   "id": "e822d773",
   "metadata": {},
   "outputs": [
    {
     "data": {
      "text/plain": [
       "1.4142135623730951"
      ]
     },
     "execution_count": 29,
     "metadata": {},
     "output_type": "execute_result"
    }
   ],
   "source": []
  },
  {
   "cell_type": "code",
   "execution_count": null,
   "id": "8b1b9ce0",
   "metadata": {},
   "outputs": [],
   "source": []
  },
  {
   "cell_type": "code",
   "execution_count": null,
   "id": "7bc0418e",
   "metadata": {},
   "outputs": [],
   "source": []
  }
 ],
 "metadata": {
  "kernelspec": {
   "display_name": "Python 3",
   "language": "python",
   "name": "python3"
  },
  "language_info": {
   "codemirror_mode": {
    "name": "ipython",
    "version": 3
   },
   "file_extension": ".py",
   "mimetype": "text/x-python",
   "name": "python",
   "nbconvert_exporter": "python",
   "pygments_lexer": "ipython3",
   "version": "3.8.8"
  }
 },
 "nbformat": 4,
 "nbformat_minor": 5
}
