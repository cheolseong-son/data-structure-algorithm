{
 "cells": [
  {
   "cell_type": "markdown",
   "id": "71b27df5",
   "metadata": {},
   "source": [
    "### 문제 설명\n",
    "점심시간에 도둑이 들어, 일부 학생이 체육복을 도난당했습니다. 다행히 여벌 체육복이 있는 학생이 이들에게 체육복을 빌려주려 합니다. 학생들의 번호는 체격 순으로 매겨져 있어, 바로 앞번호의 학생이나 바로 뒷번호의 학생에게만 체육복을 빌려줄 수 있습니다. 예를 들어, 4번 학생은 3번 학생이나 5번 학생에게만 체육복을 빌려줄 수 있습니다. 체육복이 없으면 수업을 들을 수 없기 때문에 체육복을 적절히 빌려 최대한 많은 학생이 체육수업을 들어야 합니다.\n",
    "\n",
    "전체 학생의 수 n, 체육복을 도난당한 학생들의 번호가 담긴 배열 lost, 여벌의 체육복을 가져온 학생들의 번호가 담긴 배열 reserve가 매개변수로 주어질 때, 체육수업을 들을 수 있는 학생의 최댓값을 return 하도록 solution 함수를 작성해주세요."
   ]
  },
  {
   "cell_type": "code",
   "execution_count": null,
   "id": "e2f0b60e",
   "metadata": {},
   "outputs": [],
   "source": []
  },
  {
   "cell_type": "code",
   "execution_count": null,
   "id": "c526aeb3",
   "metadata": {},
   "outputs": [],
   "source": []
  },
  {
   "cell_type": "code",
   "execution_count": 41,
   "id": "b67cd889",
   "metadata": {},
   "outputs": [
    {
     "name": "stdout",
     "output_type": "stream",
     "text": [
      "reser_del {2, 4}\n",
      "lost_del : {3, 5}\n"
     ]
    },
    {
     "data": {
      "text/plain": [
       "5"
      ]
     },
     "execution_count": 41,
     "metadata": {},
     "output_type": "execute_result"
    }
   ],
   "source": [
    "\"\"\"\n",
    "탐욕법 알고리즘을 찾아보며 해답을 얻었다\n",
    "문제에서 lost와 reserve는 중복되지 않는다고 나와있으므로 set 연산을 해도 그대로이다\n",
    "만약 중복될 경우를 대비해 중복을 제거해준다\n",
    "reserve의 i-1값과 i+1 값이 lost에 포함되어 있다면 제거해준다 (왼쪽부터 제거 시작)\n",
    "총 학생 수에서 체육복을 잃어버린 학생 수를 빼준다면 체육 수업을 들을 수 있는 학생의 수가 도출된다\n",
    "처음에는 Dictionary를 사용하여 풀어보다가, lost[i]-1과 lost[i]+1이 reserve에 포함되었는지를 판단해서 count+=1\n",
    "한 값을 n에서 빼주는 형식으로 풀었는데 TC 3개는 통과 했으나 실행에서 다 틀려서 위와 같이 해결했다..\n",
    "\"\"\"\n",
    "\n",
    "def solution(n, lost, reserve): \n",
    "    reser_del = set(reserve)-set(lost)\n",
    "    print(\"reser_del\", reser_del)\n",
    "    lost_del = set(lost)-set(reserve) \n",
    "    print(\"lost_del :\", lost_del)\n",
    "    \n",
    "    for i in reser_del: \n",
    "        if i-1 in lost_del: \n",
    "            lost_del.remove(i-1) \n",
    "        elif i+1 in lost_del: \n",
    "            lost_del.remove(i+1) \n",
    "    return n-len(lost_del)\n",
    "\n",
    "n = 5\n",
    "lost = [3, 5]\n",
    "reserve = [2, 4]\n",
    "solution(n, lost, reserve)"
   ]
  },
  {
   "cell_type": "code",
   "execution_count": 47,
   "id": "0a1fd4db",
   "metadata": {},
   "outputs": [
    {
     "name": "stdout",
     "output_type": "stream",
     "text": [
      "[1, 3, 5, 6, 8, 8, 1, 4]\n"
     ]
    }
   ],
   "source": [
    "a = [1,3,5,5,6,8,8,1,4]\n",
    "a.remove(5)\n",
    "print(a)"
   ]
  },
  {
   "cell_type": "markdown",
   "id": "42c471f6",
   "metadata": {},
   "source": [
    "## 큰 수 만들기\n",
    "### 문제 설명\n",
    "어떤 숫자에서 k개의 수를 제거했을 때 얻을 수 있는 가장 큰 숫자를 구하려 합니다.\n",
    "\n",
    "예를 들어, 숫자 1924에서 수 두 개를 제거하면 [19, 12, 14, 92, 94, 24] 를 만들 수 있습니다. 이 중 가장 큰 숫자는 94 입니다.\n",
    "\n",
    "문자열 형식으로 숫자 number와 제거할 수의 개수 k가 solution 함수의 매개변수로 주어집니다. number에서 k 개의 수를 제거했을 때 만들 수 있는 수 중 가장 큰 숫자를 문자열 형태로 return 하도록 solution 함수를 완성하세요."
   ]
  },
  {
   "cell_type": "code",
   "execution_count": 85,
   "id": "a8c5eaab",
   "metadata": {},
   "outputs": [
    {
     "name": "stdout",
     "output_type": "stream",
     "text": [
      "['1231', '1312', '1123', '1234', '2312', '2123', '2234', '3123', '3234', '1234']\n"
     ]
    },
    {
     "data": {
      "text/plain": [
       "'3234'"
      ]
     },
     "execution_count": 85,
     "metadata": {},
     "output_type": "execute_result"
    }
   ],
   "source": [
    "number = \"1231234\"\n",
    "k = 3\n",
    "\n",
    "length = len(number) - k \n",
    "\n",
    "ans = []\n",
    "for i in range(len(number)):\n",
    "    # print(number[i])\n",
    "    for j in range(i, len(number)):\n",
    "        if len(number[i]+number[j+1:j+length]) == length:\n",
    "            \n",
    "            ans.append(number[i]+number[j+1:j+length])\n",
    "print(ans)\n",
    "str(max(map(int, ans)))"
   ]
  },
  {
   "cell_type": "code",
   "execution_count": 96,
   "id": "d6187724",
   "metadata": {},
   "outputs": [
    {
     "name": "stdout",
     "output_type": "stream",
     "text": [
      "['7', '7', '5', '8', '4', '1']\n"
     ]
    },
    {
     "data": {
      "text/plain": [
       "'775841'"
      ]
     },
     "execution_count": 96,
     "metadata": {},
     "output_type": "execute_result"
    }
   ],
   "source": [
    "def solution(number, k):\n",
    "    collected = []\n",
    "\n",
    "    for (i, num) in enumerate(number):\n",
    "        while collected and collected[-1] < num and k > 0:\n",
    "            collected.pop()\n",
    "            k -= 1\n",
    "        \n",
    "        if k == 0:\n",
    "            collected += number[i:]\n",
    "            break\n",
    "    \n",
    "        collected.append(num)\n",
    "\n",
    "    collected = collected[:-k] if k > 0 else collected\n",
    "    print(collected)\n",
    "    answer = \"\".join(collected)\n",
    "    return answer\n",
    "\n",
    "number = \"4177252841\"\n",
    "k = 4\n",
    "solution(number, k)"
   ]
  },
  {
   "cell_type": "markdown",
   "id": "4e3cbcbc",
   "metadata": {},
   "source": [
    "## 구명보트\n",
    "### 문제 설명\n",
    "무인도에 갇힌 사람들을 구명보트를 이용하여 구출하려고 합니다. 구명보트는 작아서 한 번에 최대 2명씩 밖에 탈 수 없고, 무게 제한도 있습니다.\n",
    "\n",
    "예를 들어, 사람들의 몸무게가 [70kg, 50kg, 80kg, 50kg]이고 구명보트의 무게 제한이 100kg이라면 2번째 사람과 4번째 사람은 같이 탈 수 있지만 1번째 사람과 3번째 사람의 무게의 합은 150kg이므로 구명보트의 무게 제한을 초과하여 같이 탈 수 없습니다.\n",
    "\n",
    "구명보트를 최대한 적게 사용하여 모든 사람을 구출하려고 합니다.\n",
    "\n",
    "사람들의 몸무게를 담은 배열 people과 구명보트의 무게 제한 limit가 매개변수로 주어질 때, 모든 사람을 구출하기 위해 필요한 구명보트 개수의 최솟값을 return 하도록 solution 함수를 작성해주세요."
   ]
  },
  {
   "cell_type": "code",
   "execution_count": 154,
   "id": "09c669fd",
   "metadata": {},
   "outputs": [
    {
     "data": {
      "text/plain": [
       "3"
      ]
     },
     "execution_count": 154,
     "metadata": {},
     "output_type": "execute_result"
    }
   ],
   "source": [
    "def solution(people, limit):\n",
    "    answer = 0\n",
    "    people.sort()\n",
    "\n",
    "    f_cnt =0\n",
    "    e_cnt =len(people)-1\n",
    "    while e_cnt - f_cnt >=1:\n",
    "        if people[f_cnt] +people[e_cnt] <= limit:\n",
    "            f_cnt +=1\n",
    "            e_cnt -=1\n",
    "        else:\n",
    "            e_cnt -=1\n",
    "            \n",
    "        answer +=1\n",
    "    if e_cnt == f_cnt:\n",
    "        answer +=1\n",
    "    return answer\n",
    "\n",
    "\n",
    "people = [50,50,70,80]\n",
    "limit = 100\n",
    "solution(people, limit)"
   ]
  },
  {
   "cell_type": "code",
   "execution_count": null,
   "id": "be9201e2",
   "metadata": {},
   "outputs": [],
   "source": [
    "# 다른 사람 풀이\n",
    "\n",
    "def solution(people, limit) :\n",
    "    answer = 0\n",
    "    people.sort()\n",
    "\n",
    "    a = 0\n",
    "    b = len(people) - 1\n",
    "    while a < b :\n",
    "        if people[b] + people[a] <= limit :\n",
    "            a += 1\n",
    "            answer += 1\n",
    "        b -= 1\n",
    "    return len(people) - answer"
   ]
  },
  {
   "cell_type": "code",
   "execution_count": 155,
   "id": "b9ed0deb",
   "metadata": {},
   "outputs": [
    {
     "name": "stdout",
     "output_type": "stream",
     "text": [
      "50\n",
      "50\n",
      "50\n"
     ]
    },
    {
     "data": {
      "text/plain": [
       "3"
      ]
     },
     "execution_count": 155,
     "metadata": {},
     "output_type": "execute_result"
    }
   ],
   "source": [
    "from collections import deque\n",
    "\n",
    "def solution(people, limit):\n",
    "    result = 0\n",
    "    deque_people = deque(sorted(people))\n",
    "\n",
    "    while deque_people:\n",
    "        left = deque_people.popleft()\n",
    "        if not deque_people:\n",
    "            return result + 1\n",
    "        right = deque_people.pop()\n",
    "        if left + right > limit:\n",
    "            deque_people.appendleft(left)\n",
    "        result += 1\n",
    "    return result\n",
    "\n",
    "people = [50,50,70,80]\n",
    "limit = 100\n",
    "solution(people, limit)"
   ]
  },
  {
   "cell_type": "code",
   "execution_count": null,
   "id": "6ffb0621",
   "metadata": {},
   "outputs": [],
   "source": []
  }
 ],
 "metadata": {
  "kernelspec": {
   "display_name": "Python 3",
   "language": "python",
   "name": "python3"
  },
  "language_info": {
   "codemirror_mode": {
    "name": "ipython",
    "version": 3
   },
   "file_extension": ".py",
   "mimetype": "text/x-python",
   "name": "python",
   "nbconvert_exporter": "python",
   "pygments_lexer": "ipython3",
   "version": "3.8.8"
  }
 },
 "nbformat": 4,
 "nbformat_minor": 5
}
