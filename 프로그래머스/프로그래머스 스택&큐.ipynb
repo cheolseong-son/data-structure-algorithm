{
 "cells": [
  {
   "cell_type": "markdown",
   "id": "9bfb89dd",
   "metadata": {},
   "source": [
    "## 스택&큐"
   ]
  },
  {
   "cell_type": "markdown",
   "id": "eae3ce01",
   "metadata": {},
   "source": [
    "### 문제 설명\n",
    "프로그래머스 팀에서는 기능 개선 작업을 수행 중입니다. 각 기능은 진도가 100%일 때 서비스에 반영할 수 있습니다.\n",
    "\n",
    "또, 각 기능의 개발속도는 모두 다르기 때문에 뒤에 있는 기능이 앞에 있는 기능보다 먼저 개발될 수 있고, 이때 뒤에 있는 기능은 앞에 있는<br> 기능이 배포될 때 함께 배포됩니다.\n",
    "\n",
    "먼저 배포되어야 하는 순서대로 작업의 진도가 적힌 정수 배열 progresses와 각 작업의 개발 속도가 적힌 정수 배열 speeds가 주어질 때<br> \n",
    "각 배포마다 몇 개의 기능이 배포되는지를 return 하도록 solution 함수를 완성하세요."
   ]
  },
  {
   "cell_type": "markdown",
   "id": "714b6122",
   "metadata": {},
   "source": [
    "---\n",
    "#### 풀이\n"
   ]
  },
  {
   "cell_type": "code",
   "execution_count": 66,
   "id": "bd56fc98",
   "metadata": {},
   "outputs": [],
   "source": [
    "# 다른 사람 풀이\n",
    "\n",
    "def solution(progresses, speeds):\n",
    "    answer = []\n",
    "    time = 0\n",
    "    count = 0\n",
    "    \n",
    "    while len(progresses)> 0:\n",
    "        if (progresses[0] + time*speeds[0]) >= 100: \n",
    "            progresses.pop(0)\n",
    "            speeds.pop(0)\n",
    "            count += 1\n",
    "            \n",
    "        else:\n",
    "            if count > 0:\n",
    "                answer.append(count)\n",
    "                count = 0\n",
    "            time += 1\n",
    "    answer.append(count)\n",
    "    return answer"
   ]
  },
  {
   "cell_type": "markdown",
   "id": "9ade266d",
   "metadata": {},
   "source": [
    "1) count, time 변수를 설정해둔다. \n",
    "\n",
    "2) 첫번째가 100이 될때까지 loop 를 돌며 time 을 늘린다. \n",
    "\n",
    "    else --> time+=1\n",
    "\n",
    "3) (time =7) 이 되면  첫번째 값이(93) 100이 되어 if에 따라 pop 되고 count +=1\n",
    "\n",
    "4) 현재 time 이 7이기 때문에 두번째 값(30)도 if에 따라 pop 되고 count +=1 \n",
    "\n",
    "5) 세번째 값은 100이 안되기 때문에 loop를 돌며 time 을 늘리는데 \n",
    "\n",
    "    2) 번과 달리 그전에 완성된 친구들 count 값이 있기 때문에 이 친구들을 출시해줘야함 \n",
    "\n",
    "        따라서 answer 리스트에 append하고 count 초기화!!! \n",
    "\n",
    "    그후에 loop를 돌며 time 을 늘리는데 \n",
    "\n",
    "6) 세번째 값(55)이 100을 넘으면 count +=1 하고 \n",
    "\n",
    "    이 count 를 다시한번 answer 리스트에 append 해줌으로써 마지막 제품까지 출시 ! "
   ]
  },
  {
   "cell_type": "markdown",
   "id": "264f9a92",
   "metadata": {},
   "source": [
    "---\n",
    "### 문제 설명\n",
    "\n",
    "일반적인 프린터는 인쇄 요청이 들어온 순서대로 인쇄합니다. 그렇기 때문에 중요한 문서가 나중에 인쇄될 수 있습니다. 이런 문제를 보완하기 위해 중요도가 높은 문서를 먼저 인쇄하는 프린터를 개발했습니다. 이 새롭게 개발한 프린터는 아래와 같은 방식으로 인쇄 작업을 수행합니다.\n",
    "\n",
    "1. 인쇄 대기목록의 가장 앞에 있는 문서(J)를 대기목록에서 꺼냅니다.\n",
    "2. 나머지 인쇄 대기목록에서 J보다 중요도가 높은 문서가 한 개라도 존재하면 J를 대기목록의 가장 마지막에 넣습니다.\n",
    "3. 그렇지 않으면 J를 인쇄합니다.\n",
    "예를 들어, 4개의 문서(A, B, C, D)가 순서대로 인쇄 대기목록에 있고 중요도가 2 1 3 2 라면 C D A B 순으로 인쇄하게 됩니다.\n",
    "\n",
    "내가 인쇄를 요청한 문서가 몇 번째로 인쇄되는지 알고 싶습니다. 위의 예에서 C는 1번째로, A는 3번째로 인쇄됩니다.\n",
    "\n",
    "현재 대기목록에 있는 문서의 중요도가 순서대로 담긴 배열 priorities와 내가 인쇄를 요청한 문서가 현재 대기목록의 어떤 위치에 있는지를 알려주는 location이 매개변수로 주어질 때, 내가 인쇄를 요청한 문서가 몇 번째로 인쇄되는지 return 하도록 solution 함수를 작성해주세요."
   ]
  },
  {
   "cell_type": "code",
   "execution_count": 42,
   "id": "edb76346",
   "metadata": {},
   "outputs": [
    {
     "data": {
      "text/plain": [
       "1"
      ]
     },
     "execution_count": 42,
     "metadata": {},
     "output_type": "execute_result"
    }
   ],
   "source": [
    "# 풀이\n",
    "def solution(priorities, location):\n",
    "    count = 0\n",
    "    while (len(priorities) != 0): # 길이가 0이 될 때까지 반복\n",
    "        \n",
    "        # 인쇄 요청 문서의 위치가 0일 때 \n",
    "        if location == 0:                \n",
    "            if priorities[0] < max(priorities): # -----> 최대값이 아니라면  \n",
    "                priorities.append(priorities.pop(0)) # pop하여 다시 priorities에 추가\n",
    "                location = len(priorities) - 1       # 위치값도 변경  \n",
    "            else:\n",
    "                return count + 1 # -----------------> 위치 0의 값이 최대값이면     \n",
    "        \n",
    "        # 인쇄 요청 문서의 위치가 0이 아닐 경우\n",
    "        else:                     \n",
    "            if priorities[0] < max(priorities):  # -----> 최대값이 아니라면  \n",
    "                priorities.append(priorities.pop(0))\n",
    "                location -= 1\n",
    "            else: # -----> 최대값이라면           \n",
    "                priorities.pop(0)    \n",
    "                location -= 1\n",
    "                count += 1\n",
    "\n",
    "priorities = [2, 1, 3, 2]\n",
    "location = 2\n",
    "\n",
    "solution(priorities, location)"
   ]
  },
  {
   "cell_type": "markdown",
   "id": "4e4fb65b",
   "metadata": {},
   "source": [
    "### 문제 설명\n",
    "트럭 여러 대가 강을 가로지르는 일차선 다리를 정해진 순으로 건너려 합니다. 모든 트럭이 다리를 건너려면 최소 몇 초가 걸리는지 알아내야 합니다. 다리에는 트럭이 최대 bridge_length대 올라갈 수 있으며, 다리는 weight 이하까지의 무게를 견딜 수 있습니다. 단, 다리에 완전히 오르지 않은 트럭의 무게는 무시합니다.\n",
    "\n",
    "예를 들어, 트럭 2대가 올라갈 수 있고 무게를 10kg까지 견디는 다리가 있습니다. 무게가 [7, 4, 5, 6]kg인 트럭이 순서대로 최단 시간 안에 다리를 건너려면 다음과 같이 건너야 합니다.\n",
    "\n",
    "solution 함수의 매개변수로 다리에 올라갈 수 있는 트럭 수 bridge_length, 다리가 견딜 수 있는 무게 weight, 트럭 별 무게 truck_weights가 주어집니다. 이때 모든 트럭이 다리를 건너려면 최소 몇 초가 걸리는지 return 하도록 solution 함수를 완성하세요.\n",
    "\n",
    "#### 입출력 예 설명\n",
    "- 1초의 주가는 1이며 1초부터 5초까지 총 4초간 주가를 유지했습니다.<br>\n",
    "- 2초의 주가는 2이며 2초부터 5초까지 총 3초간 주가를 유지했습니다.<br>\n",
    "- 3초의 주가는 3이며 4초의 주가는 2로 주가가 떨어졌지만 3초에서 4초가 되기 직전까지의 1초간 주가가 유지 된것으로 봅니다. 따라서 5초까지 총 1초간 주가를 유지했습니다.<br>\n",
    "- 4초의 주가는 2이며 4초부터 5초까지 총 1초간 주가를 유지했습니다.<br>\n",
    "- 5초의 주가는 3이며 5초 이후로는 데이터가 없으므로 총 0초간 주가를 유지했습니다."
   ]
  },
  {
   "cell_type": "code",
   "execution_count": 3,
   "id": "ceb3cfc9",
   "metadata": {},
   "outputs": [
    {
     "data": {
      "text/plain": [
       "[4, 3, 1, 1, 0]"
      ]
     },
     "execution_count": 3,
     "metadata": {},
     "output_type": "execute_result"
    }
   ],
   "source": [
    "prices = [1, 2, 3, 2, 3]\n",
    "# answer [4, 3, 1, 1, 0]\n",
    "def solution(prices):\n",
    "    answer = [0] * len(prices)\n",
    "\n",
    "    for i in range(len(prices)-1):\n",
    "        count = 0\n",
    "        for j in range(i+1, len(prices)):\n",
    "            if prices[i] <= prices[j]:\n",
    "                answer[i] += 1\n",
    "            else:\n",
    "                answer[i] += 1\n",
    "                break\n",
    "    return answer\n",
    "\n",
    "solution(prices)\n"
   ]
  },
  {
   "cell_type": "code",
   "execution_count": null,
   "id": "08e2ad58",
   "metadata": {},
   "outputs": [],
   "source": []
  },
  {
   "cell_type": "code",
   "execution_count": null,
   "id": "b777fbaf",
   "metadata": {},
   "outputs": [],
   "source": []
  },
  {
   "cell_type": "code",
   "execution_count": null,
   "id": "8eb8fd3f",
   "metadata": {},
   "outputs": [],
   "source": []
  },
  {
   "cell_type": "code",
   "execution_count": null,
   "id": "27921368",
   "metadata": {},
   "outputs": [],
   "source": []
  },
  {
   "cell_type": "code",
   "execution_count": null,
   "id": "b553eb00",
   "metadata": {},
   "outputs": [],
   "source": []
  },
  {
   "cell_type": "code",
   "execution_count": null,
   "id": "ad6be173",
   "metadata": {},
   "outputs": [],
   "source": []
  },
  {
   "cell_type": "code",
   "execution_count": null,
   "id": "ad9325e4",
   "metadata": {},
   "outputs": [],
   "source": []
  },
  {
   "cell_type": "code",
   "execution_count": null,
   "id": "71ec7f5b",
   "metadata": {},
   "outputs": [],
   "source": []
  }
 ],
 "metadata": {
  "kernelspec": {
   "display_name": "Python 3",
   "language": "python",
   "name": "python3"
  },
  "language_info": {
   "codemirror_mode": {
    "name": "ipython",
    "version": 3
   },
   "file_extension": ".py",
   "mimetype": "text/x-python",
   "name": "python",
   "nbconvert_exporter": "python",
   "pygments_lexer": "ipython3",
   "version": "3.8.8"
  }
 },
 "nbformat": 4,
 "nbformat_minor": 5
}
