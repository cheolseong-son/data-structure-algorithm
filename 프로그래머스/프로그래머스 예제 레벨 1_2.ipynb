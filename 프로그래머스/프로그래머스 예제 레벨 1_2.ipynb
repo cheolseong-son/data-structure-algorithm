{
 "cells": [
  {
   "cell_type": "markdown",
   "id": "3e0f6e68",
   "metadata": {},
   "source": [
    "#### 문제 설명\n",
    "    수많은 마라톤 선수들이 마라톤에 참여하였습니다. 단 한 명의 선수를 제외하고는 모든 선수가 마라톤을 완주하였습니다.\n",
    "\n",
    "    마라톤에 참여한 선수들의 이름이 담긴 배열 participant와 완주한 선수들의 이름이 담긴 배열 completion이 주어질 때,\n",
    "    완주하지 못한 선수의 이름을 return 하도록 solution 함수를 작성해주세요."
   ]
  },
  {
   "cell_type": "code",
   "execution_count": 19,
   "id": "d5217982",
   "metadata": {},
   "outputs": [],
   "source": [
    "def solution(participant, completion):\n",
    "    count = {}\n",
    "    for i in participant:\n",
    "        try:count[i] += 1 # 없으면 새로 만들고\n",
    "        except:count[i] = 1 # 있으면 추가하기\n",
    "            \n",
    "    for j in completion:\n",
    "        if j in count:\n",
    "            count[j]-= 1\n",
    "   \n",
    "    return  \",\".join([key for key, value  in count.items() if value > 0])"
   ]
  },
  {
   "cell_type": "code",
   "execution_count": 24,
   "id": "7a9ad709",
   "metadata": {},
   "outputs": [
    {
     "data": {
      "text/plain": [
       "'vinko'"
      ]
     },
     "execution_count": 24,
     "metadata": {},
     "output_type": "execute_result"
    }
   ],
   "source": [
    "\n",
    "participant = [\"marina\", \"josipa\", \"nikola\", \"vinko\", \"filipa\"]\n",
    "completion = [\"josipa\", \"filipa\", \"marina\", \"nikola\"]\n",
    "solution(participant, completion)"
   ]
  },
  {
   "cell_type": "code",
   "execution_count": null,
   "id": "ea8b602d",
   "metadata": {},
   "outputs": [],
   "source": [
    "# 다른 사람 풀이\n",
    "# 방법 1 \n",
    "def solution(participant, completion):\n",
    "    answer = ''\n",
    "    temp = 0\n",
    "    dic = {}\n",
    "    for part in participant:\n",
    "        dic[hash(part)] = part\n",
    "        temp += int(hash(part))\n",
    "        \n",
    "    for com in completion:\n",
    "        temp -= hash(com)\n",
    "    answer = dic[temp]\n",
    "\n",
    "    return answer\n",
    " # ----------------------------------------------------------\n",
    "def solution(participant, completion):\n",
    "    participant.sort()\n",
    "    completion.sort()\n",
    "    for i in range(len(completion)):\n",
    "        if participant[i] != completion[i]:\n",
    "            return participant[i]\n",
    "    return participant[len(participant)-1]\n",
    "\n",
    "# -----------------------------------------------------------\n",
    "import collections\n",
    "\n",
    "def solution(participant, completion):\n",
    "    answer = collections.Counter(participant) - collections.Counter(completion)\n",
    "    return list(answer.keys())[0]\n"
   ]
  },
  {
   "cell_type": "markdown",
   "id": "ea2aa5d3",
   "metadata": {},
   "source": [
    "#### 문제 설명\n",
    "    문자열로 구성된 리스트 strings와, 정수 n이 주어졌을 때, 각 문자열의 인덱스 n번째 글자를 기준으로 오름차순 정렬하려 합니다. \n",
    "    예를 들어 strings가 [\"sun\", \"bed\", \"car\"]이고 n이 1이면 각 단어의 인덱스 1의 문자 \"u\", \"e\", \"a\"로 strings를 정렬합니다."
   ]
  },
  {
   "cell_type": "code",
   "execution_count": null,
   "id": "19cb94ab",
   "metadata": {},
   "outputs": [],
   "source": [
    "# 10진수를 2진수로 변환\n"
   ]
  },
  {
   "cell_type": "code",
   "execution_count": 131,
   "id": "4daeb2fd",
   "metadata": {},
   "outputs": [],
   "source": [
    "def solution(n, arr1, arr2):\n",
    "    answer = []\n",
    "    arr1_bin = []\n",
    "    arr2_bin = []\n",
    "    for i in range(n):\n",
    "        arr1_bin.append(bin(arr1[i])[2:])\n",
    "        arr2_bin.append(bin(arr2[i])[2:])\n",
    "        arr1_bin[i] = ('0' * (n-len(arr1_bin[i]))) + arr1_bin[i]\n",
    "        arr2_bin[i] = ('0' * (n-len(arr2_bin[i]))) + arr2_bin[i]\n",
    "    \n",
    "        tmp = ''\n",
    "        for p in range(n):\n",
    "            if arr1_bin[i][p] == '1' or arr2_bin[i][p] == '1':\n",
    "                tmp += '#'\n",
    "            elif arr1_bin[i][p] == '0' and arr2_bin[i][p] == '0':\n",
    "                tmp += ' '\n",
    "        answer.append(tmp)\n",
    "        \n",
    "    return answer"
   ]
  },
  {
   "cell_type": "code",
   "execution_count": 132,
   "id": "c2d92efc",
   "metadata": {},
   "outputs": [
    {
     "data": {
      "text/plain": [
       "['######', '###  #', '##  ##', ' #### ', ' #####', '### # ']"
      ]
     },
     "execution_count": 132,
     "metadata": {},
     "output_type": "execute_result"
    }
   ],
   "source": [
    "n = 6\n",
    "arr1 = [46, 33, 33 ,22, 31, 50]\n",
    "arr2 = [27,56, 19, 14, 14, 10]\n",
    "solution(n, arr1, arr2)"
   ]
  },
  {
   "cell_type": "markdown",
   "id": "de43baa0",
   "metadata": {},
   "source": [
    "#### 문제 설명 \n",
    "    수포자는 수학을 포기한 사람의 준말입니다. 수포자 삼인방은 모의고사에 수학 문제를 전부 찍으려 합니다. \n",
    "    수포자는 1번 문제부터 마지막 문제까지 다음과 같이 찍습니다.\n",
    "    1번 학생 : 1, 2, 3, 4, 5, 1, 2, 3, 4, 5, ...\n",
    "    2번 학생 : 2, 1, 2, 3, 2, 4, 2, 5, 2, 1, 2, 3, 2, 4, 2, 5, ...\n",
    "    3번 학생 : 3, 3, 1, 1, 2, 2, 4, 4, 5, 5, 3, 3, 1, 1, 2, 2, 4, 4, 5, 5, ..."
   ]
  },
  {
   "cell_type": "code",
   "execution_count": null,
   "id": "70c82422",
   "metadata": {},
   "outputs": [],
   "source": [
    "one = [1, 2, 3, 4, 5]\n",
    "two = [2, 1, 2, 3, 2, 4, 2, 5]\n",
    "three = [3, 3, 1, 1, 2, 2, 4, 4, 5, 5]\n",
    "\n",
    "answer = [1,3,2,4,2]"
   ]
  },
  {
   "cell_type": "markdown",
   "id": "ece7e252",
   "metadata": {},
   "source": [
    "#### 문제 설명\n",
    "    주어진 숫자 중 3개의 수를 더했을 때 소수가 되는 경우의 개수를 구하려고 합니다. \n",
    "    숫자들이 들어있는 배열 nums가 매개변수로 주어질 때, nums에 있는 숫자들 중 서로 다른 3개를 골라 더했을 때 소수가 되는 \n",
    "    경우의 개수를 return 하도록 solution 함수를 완성해주세요."
   ]
  },
  {
   "cell_type": "code",
   "execution_count": 159,
   "id": "f6f1f8f7",
   "metadata": {},
   "outputs": [],
   "source": [
    "nums = [1,2,7,6,4]\n"
   ]
  },
  {
   "cell_type": "code",
   "execution_count": 179,
   "id": "f5a82b13",
   "metadata": {},
   "outputs": [
    {
     "name": "stdout",
     "output_type": "stream",
     "text": [
      "[2, 3, 5, 7, 11, 13, 17, 19, 23, 29, 31, 37, 41, 43, 47, 53, 59, 61, 67, 71, 73, 79, 83, 89, 97, 101, 103, 107, 109, 113, 127, 131, 137, 139, 149, 151, 157, 163, 167, 173, 179, 181, 191, 193, 197, 199, 211, 223, 227, 229, 233, 239, 241, 251, 257, 263, 269, 271, 277, 281, 283, 293, 307, 311, 313, 317, 331, 337, 347, 349, 353, 359, 367, 373, 379, 383, 389, 397, 401, 409, 419, 421, 431, 433, 439, 443, 449, 457, 461, 463, 467, 479, 487, 491, 499, 503, 509, 521, 523, 541, 547, 557, 563, 569, 571, 577, 587, 593, 599, 601, 607, 613, 617, 619, 631, 641, 643, 647, 653, 659, 661, 673, 677, 683, 691, 701, 709, 719, 727, 733, 739, 743, 751, 757, 761, 769, 773, 787, 797, 809, 811, 821, 823, 827, 829, 839, 853, 857, 859, 863, 877, 881, 883, 887, 907, 911, 919, 929, 937, 941, 947, 953, 967, 971, 977, 983, 991, 997, 1009, 1013, 1019, 1021, 1031, 1033, 1039, 1049, 1051, 1061, 1063, 1069, 1087, 1091, 1093, 1097, 1103, 1109, 1117, 1123, 1129, 1151, 1153, 1163, 1171, 1181, 1187, 1193, 1201, 1213, 1217, 1223, 1229, 1231, 1237, 1249, 1259, 1277, 1279, 1283, 1289, 1291, 1297, 1301, 1303, 1307, 1319, 1321, 1327, 1361, 1367, 1373, 1381, 1399, 1409, 1423, 1427, 1429, 1433, 1439, 1447, 1451, 1453, 1459, 1471, 1481, 1483, 1487, 1489, 1493, 1499, 1511, 1523, 1531, 1543, 1549, 1553, 1559, 1567, 1571, 1579, 1583, 1597, 1601, 1607, 1609, 1613, 1619, 1621, 1627, 1637, 1657, 1663, 1667, 1669, 1693, 1697, 1699, 1709, 1721, 1723, 1733, 1741, 1747, 1753, 1759, 1777, 1783, 1787, 1789, 1801, 1811, 1823, 1831, 1847, 1861, 1867, 1871, 1873, 1877, 1879, 1889, 1901, 1907, 1913, 1931, 1933, 1949, 1951, 1973, 1979, 1987, 1993, 1997, 1999, 2003, 2011, 2017, 2027, 2029, 2039, 2053, 2063, 2069, 2081, 2083, 2087, 2089, 2099, 2111, 2113, 2129, 2131, 2137, 2141, 2143, 2153, 2161, 2179, 2203, 2207, 2213, 2221, 2237, 2239, 2243, 2251, 2267, 2269, 2273, 2281, 2287, 2293, 2297, 2309, 2311, 2333, 2339, 2341, 2347, 2351, 2357, 2371, 2377, 2381, 2383, 2389, 2393, 2399, 2411, 2417, 2423, 2437, 2441, 2447, 2459, 2467, 2473, 2477, 2503, 2521, 2531, 2539, 2543, 2549, 2551, 2557, 2579, 2591, 2593, 2609, 2617, 2621, 2633, 2647, 2657, 2659, 2663, 2671, 2677, 2683, 2687, 2689, 2693, 2699, 2707, 2711, 2713, 2719, 2729, 2731, 2741, 2749, 2753, 2767, 2777, 2789, 2791, 2797, 2801, 2803, 2819, 2833, 2837, 2843, 2851, 2857, 2861, 2879, 2887, 2897, 2903, 2909, 2917, 2927, 2939, 2953, 2957, 2963, 2969, 2971, 2999]\n"
     ]
    }
   ],
   "source": [
    "n = 3000\n",
    "sieve = [True] * n\n",
    "\n",
    "m = int(n ** 0.5)\n",
    "for i in range(2, m + 1):\n",
    "    if sieve[i] == True:           # i가 소수인 경우 \n",
    "        for j in range(i+i, n, i): # i이후 i의 배수들을 False 판정\n",
    "            sieve[j] = False\n",
    "# 소수 목록 산출\n",
    "sosu = [i for i in range(2, n) if sieve[i] == True]"
   ]
  },
  {
   "cell_type": "code",
   "execution_count": 187,
   "id": "27782a53",
   "metadata": {
    "scrolled": false
   },
   "outputs": [
    {
     "name": "stdout",
     "output_type": "stream",
     "text": [
      "1 2 3\n",
      "1 2 4\n",
      "1 3 4\n",
      "1 4 3\n",
      "2 3 4\n",
      "2 4 3\n",
      "3 2 4\n",
      "4 2 3\n",
      "0\n",
      "------------------\n",
      "[8, 9, 6, 7]\n"
     ]
    }
   ],
   "source": [
    "c\n",
    "count = 0\n",
    "\n",
    "a = []\n",
    "for i in range(len(nums)):\n",
    "    \n",
    "    for j in range(1, len(nums)):\n",
    "        \n",
    "        for k in range(2, len(nums)):\n",
    "            if nums[i] == nums[j] or nums[i] == nums[k] or nums[j] == nums[k]:\n",
    "                pass\n",
    "                \n",
    "            else:\n",
    "                hap = nums[i] + nums[j] + nums[k]\n",
    "                a.append(hap)\n",
    "            \n",
    "print(count)\n",
    "print(\"------------------\")\n",
    "b = list(set(a))\n",
    "print(b)"
   ]
  },
  {
   "cell_type": "code",
   "execution_count": 188,
   "id": "5ea9fd2b",
   "metadata": {},
   "outputs": [
    {
     "name": "stdout",
     "output_type": "stream",
     "text": [
      "[8, 9, 6, 7]\n"
     ]
    }
   ],
   "source": [
    "b = list(set(a))\n",
    "print(b)"
   ]
  },
  {
   "cell_type": "code",
   "execution_count": 191,
   "id": "cef3e37f",
   "metadata": {},
   "outputs": [],
   "source": [
    "cnt = 0\n",
    "for i in list(set(a)):\n",
    "    if i in sosu:\n",
    "        cnt += 1"
   ]
  },
  {
   "cell_type": "code",
   "execution_count": 192,
   "id": "4dceac95",
   "metadata": {},
   "outputs": [
    {
     "name": "stdout",
     "output_type": "stream",
     "text": [
      "1\n"
     ]
    }
   ],
   "source": [
    "print(cnt)"
   ]
  },
  {
   "cell_type": "code",
   "execution_count": 182,
   "id": "d0354b79",
   "metadata": {},
   "outputs": [
    {
     "name": "stdout",
     "output_type": "stream",
     "text": [
      "1\n",
      "2\n",
      "3\n"
     ]
    }
   ],
   "source": [
    "for j in range(1, len(nums)):\n",
    "    print(j)"
   ]
  },
  {
   "cell_type": "code",
   "execution_count": 183,
   "id": "a240f1d7",
   "metadata": {},
   "outputs": [
    {
     "name": "stdout",
     "output_type": "stream",
     "text": [
      "2\n",
      "3\n"
     ]
    }
   ],
   "source": [
    "for k in range(2, len(nums)):\n",
    "    print(k)"
   ]
  },
  {
   "cell_type": "code",
   "execution_count": null,
   "id": "407f0090",
   "metadata": {},
   "outputs": [],
   "source": []
  },
  {
   "cell_type": "code",
   "execution_count": 219,
   "id": "664c40ef",
   "metadata": {},
   "outputs": [],
   "source": [
    "def solution(nums):\n",
    "    n = 3000\n",
    "    cnt = 0\n",
    "    a = []\n",
    "    \n",
    "    sieve = [True] * n\n",
    "    m = int(n ** 0.5)\n",
    "    for i in range(2, m + 1):\n",
    "        if sieve[i] == True:           # i가 소수인 경우 \n",
    "            for j in range(i+i, n, i): # i이후 i의 배수들을 False 판정\n",
    "                sieve[j] = False\n",
    "    # 소수 목록 산출\n",
    "    decimal = [i for i in range(2, n) if sieve[i] == True] # #소수 리스트 만들기\n",
    "    #print(decimal)\n",
    "    for i in range(len(nums)-2):\n",
    "        for j in range(i+1, len(nums)-1):\n",
    "            for k in range(j+1, len(nums)):\n",
    "                hap = nums[i] + nums[j] + nums[k]\n",
    "                a.append(hap)                        \n",
    "    for i in a:\n",
    "        if i in decimal: # 3갱의 수 합 리스트의 값들 중에서 소수 리스트에 값이 있으면 count세기\n",
    "            cnt += 1\n",
    "    return  cnt"
   ]
  },
  {
   "cell_type": "code",
   "execution_count": 220,
   "id": "3cc387d1",
   "metadata": {},
   "outputs": [
    {
     "data": {
      "text/plain": [
       "1"
      ]
     },
     "execution_count": 220,
     "metadata": {},
     "output_type": "execute_result"
    }
   ],
   "source": [
    "nums = [1,2,3,4]\n",
    "solution(nums)"
   ]
  },
  {
   "cell_type": "markdown",
   "id": "58380fe7",
   "metadata": {},
   "source": [
    "#### 소수 판정법 중에 가장 알려진 예시 하나가 주어진 자연수 n에 대해서 1보다 크고 루트 n 이하인 모든 자연수들로 나누어떨어지지 않으면 소수라는 것인데, 이걸 이용한 듯합니다."
   ]
  },
  {
   "cell_type": "code",
   "execution_count": 242,
   "id": "0cc0cd64",
   "metadata": {},
   "outputs": [],
   "source": [
    "# 다른 사람 풀이\n",
    "from itertools import combinations\n",
    "def prime_number(x):\n",
    "    answer = 0\n",
    "    for i in range(1,int(x**0.5)+1):\n",
    "        if x % i==0:\n",
    "            answer+=1\n",
    "    return 1 if answer==1 else 0\n",
    "\n",
    "def solution(nums):\n",
    "    return sum([prime_number(sum(c)) for c in combinations(nums,3)])\n",
    "\n",
    "# 다른 사람 풀이 -------------------------------------------------------------------\n",
    "def solution(nums):\n",
    "    from itertools import combinations as cb\n",
    "    answer = 0\n",
    "    for a in cb(nums, 3):\n",
    "        #print(\"a :\",a)\n",
    "        cand = sum(a)\n",
    "        #print(\"cand\",cand)\n",
    "        for j in range(2, cand):\n",
    "            if cand%j==0:\n",
    "                break\n",
    "        else:\n",
    "            answer += 1\n",
    "    return answer"
   ]
  },
  {
   "cell_type": "code",
   "execution_count": 246,
   "id": "cbdbbee7",
   "metadata": {},
   "outputs": [
    {
     "data": {
      "text/plain": [
       "1"
      ]
     },
     "execution_count": 246,
     "metadata": {},
     "output_type": "execute_result"
    }
   ],
   "source": [
    "nums = [1,2,3,4]\n",
    "solution(nums)"
   ]
  },
  {
   "cell_type": "code",
   "execution_count": null,
   "id": "3957168e",
   "metadata": {},
   "outputs": [],
   "source": []
  },
  {
   "cell_type": "code",
   "execution_count": null,
   "id": "4188b19e",
   "metadata": {},
   "outputs": [],
   "source": []
  },
  {
   "cell_type": "markdown",
   "id": "bd9adb98",
   "metadata": {},
   "source": [
    "#### 문제 설명\n",
    "    S사에서는 각 부서에 필요한 물품을 지원해 주기 위해 부서별로 물품을 구매하는데 필요한 금액을 조사했습니다. \n",
    "    그러나, 전체 예산이 정해져 있기 때문에 모든 부서의 물품을 구매해 줄 수는 없습니다. \n",
    "    그래서 최대한 많은 부서의 물품을 구매해 줄 수 있도록 하려고 합니다.\n",
    "\n",
    "    물품을 구매해 줄 때는 각 부서가 신청한 금액만큼을 모두 지원해 줘야 합니다. \n",
    "    예를 들어 1,000원을 신청한 부서에는 정확히 1,000원을 지원해야 하며, 1,000원보다 적은 금액을 지원해 줄 수는 없습니다.\n",
    "\n",
    "    부서별로 신청한 금액이 들어있는 배열 d와 예산 budget이 매개변수로 주어질 때, \n",
    "    최대 몇 개의 부서에 물품을 지원할 수 있는지 return 하도록 solution 함수를 완성해주세요."
   ]
  },
  {
   "cell_type": "code",
   "execution_count": 1,
   "id": "481863ee",
   "metadata": {},
   "outputs": [],
   "source": [
    "def solution(d, budget):\n",
    "    cnt = 0\n",
    "    hap = 0\n",
    "    sort_value = sorted(d)\n",
    "    for i in sort_value:\n",
    "        hap += i\n",
    "        if hap <= budget:\n",
    "            cnt += 1\n",
    "        else:\n",
    "            break\n",
    "    return cnt"
   ]
  },
  {
   "cell_type": "code",
   "execution_count": 2,
   "id": "4bc22251",
   "metadata": {},
   "outputs": [
    {
     "data": {
      "text/plain": [
       "3"
      ]
     },
     "execution_count": 2,
     "metadata": {},
     "output_type": "execute_result"
    }
   ],
   "source": [
    "d = [1,3,2,5,4]\n",
    "budget = 9\n",
    "solution(d, budget)"
   ]
  },
  {
   "cell_type": "markdown",
   "id": "9f1abbf9",
   "metadata": {},
   "source": [
    "### 2021 카카오 채용연계형 인턴십\n",
    "#### 숫자 문자열과 영단어\n",
    "    네오와 프로도가 숫자놀이를 하고 있습니다. 네오가 프로도에게 숫자를 건넬 때 일부 자릿수를 영단어로 바꾼 카드를 건네주면 프로도는 원래 숫자를 찾는 게임입니다."
   ]
  },
  {
   "cell_type": "code",
   "execution_count": 59,
   "id": "ed162721",
   "metadata": {},
   "outputs": [],
   "source": [
    "def solution(s):\n",
    "    num = {\"zero\":0, \"one\":1, \"two\":2, \"three\":3, \"four\":4, \"five\":5, \"six\":6, \"seven\":7, \"eight\":8, \"nine\":9}\n",
    "\n",
    "    for key,value  in num.items():\n",
    "        if key in s:\n",
    "            s = s.replace(key, str(value))   \n",
    "    return int(s)\n",
    "\n",
    "s = \"1zerotwozero3\"\n",
    "solution(s)"
   ]
  },
  {
   "cell_type": "code",
   "execution_count": 88,
   "id": "d17d3a22",
   "metadata": {},
   "outputs": [
    {
     "data": {
      "text/plain": [
       "'10'"
      ]
     },
     "execution_count": 88,
     "metadata": {},
     "output_type": "execute_result"
    }
   ],
   "source": [
    "s[5:7]"
   ]
  },
  {
   "cell_type": "markdown",
   "id": "9d2422a0",
   "metadata": {},
   "source": [
    "### 월간 코드 챌린지 시즌1\n",
    "#### 3진법 뒤집기\n",
    "\n",
    "문제 설명\n",
    "자연수 n이 매개변수로 주어집니다. n을 3진법 상에서 앞뒤로 뒤집은 후, 이를 다시 10진법으로 표현한 수를 return 하도록 solution 함수를 완성해주세요."
   ]
  },
  {
   "cell_type": "code",
   "execution_count": 119,
   "id": "4c35cf57",
   "metadata": {},
   "outputs": [
    {
     "name": "stdout",
     "output_type": "stream",
     "text": [
      "7\n"
     ]
    }
   ],
   "source": [
    "def solution(n):\n",
    "    rev_base = ''\n",
    "    answer = 0\n",
    "    while n > 0:\n",
    "        n, mod = divmod(n, 3)\n",
    "        rev_base += str(mod)       \n",
    "    base= rev_base[::-1] \n",
    "    \n",
    "    for i in range(len(base)):\n",
    "        answer += int(base[i])*(3**i)\n",
    "    \n",
    "    return answer\n",
    "    \n",
    "print(solution(45))"
   ]
  },
  {
   "cell_type": "code",
   "execution_count": 121,
   "id": "b839af05",
   "metadata": {},
   "outputs": [
    {
     "name": "stdout",
     "output_type": "stream",
     "text": [
      "1234567\n"
     ]
    }
   ],
   "source": [
    "# 다른 사람 풀이\n",
    "def solution(n):\n",
    "    tmp = ''\n",
    "    while n:\n",
    "        tmp += str(n % 3)\n",
    "        n = n // 3\n",
    "\n",
    "    answer = int(tmp, 3)\n",
    "    return answer"
   ]
  },
  {
   "cell_type": "markdown",
   "id": "9f49ea20",
   "metadata": {},
   "source": [
    "### 월간 코드 챌린지 시즌1\n",
    "#### 두 개 뽑아서 더하기\n",
    "\n",
    "\n",
    "#### 문제 설명\n",
    "    정수 배열 numbers가 주어집니다. numbers에서 서로 다른 인덱스에 있는 두 개의 수를 뽑아 더해서 만들 수 있는 모든 수를 배열에 오름차순으로 담아 return 하도록 solution 함수를 완성해주세요."
   ]
  },
  {
   "cell_type": "code",
   "execution_count": 142,
   "id": "09a219ec",
   "metadata": {},
   "outputs": [],
   "source": [
    "def solution(numbers):\n",
    "    answer = []\n",
    "    \n",
    "    for i in range(len(numbers)-1):\n",
    "        for j in range(i+1,len(numbers)):\n",
    "            answer.append(numbers[i] + numbers[j])  \n",
    "    return sorted(list(set(answer))) "
   ]
  },
  {
   "cell_type": "markdown",
   "id": "89b82e61",
   "metadata": {},
   "source": [
    "### 월간 코드 챌린지 시즌2\n",
    "#### 음양 더하기\n",
    "#### 문제 설명\n",
    "    어떤 정수들이 있습니다. \n",
    "    이 정수들의 절댓값을 차례대로 담은 정수 배열 absolutes와 이 정수들의 부호를 차례대로 담은 불리언 배열 signs가 매개변수로 주어집니다. 실제 정수들의 합을 구하여 return 하도록 solution 함수를 완성해주세요."
   ]
  },
  {
   "cell_type": "code",
   "execution_count": 149,
   "id": "b96944c1",
   "metadata": {},
   "outputs": [],
   "source": [
    "absol = [4,4,7,12]\n",
    "signs = [False, True,False,True]"
   ]
  },
  {
   "cell_type": "code",
   "execution_count": 151,
   "id": "f4124393",
   "metadata": {},
   "outputs": [],
   "source": [
    "# 내 풀이\n",
    "def solution(absolutes, signs):\n",
    "    answer = 0\n",
    "    for i in range(len(absolutes)):\n",
    "        if signs:\n",
    "            answer += absolutes[i]\n",
    "        else:\n",
    "            answer -= absolutes[i]\n",
    "    return answer"
   ]
  },
  {
   "cell_type": "code",
   "execution_count": null,
   "id": "1867e90e",
   "metadata": {},
   "outputs": [],
   "source": [
    "# 다른 사람 풀이\n",
    "\n",
    "def solution(absolutes, signs):\n",
    "    return sum(absolutes if sign else -absolutes for absolutes, sign in zip(absolutes, signs))"
   ]
  },
  {
   "cell_type": "markdown",
   "id": "c2198874",
   "metadata": {},
   "source": [
    "### 월간 코드 챌린지 시즌3\n",
    "#### 없는 숫자 더하기\n",
    "#### 문제 설명\n",
    "    0부터 9까지의 숫자 중 일부가 들어있는 배열 numbers가 매개변수로 주어집니다. numbers에서 찾을 수 없는 0부터 9까지의 숫자를 모두 \n",
    "    찾아 더한 수를 return 하도록 solution 함수를 완성해주세요."
   ]
  },
  {
   "cell_type": "code",
   "execution_count": 170,
   "id": "a966976e",
   "metadata": {},
   "outputs": [],
   "source": [
    "numbers = [1,2,3,4,6,7,8,0]\n",
    "no_num = [i for i in range(10)]\n",
    "\n",
    "for i in numbers:\n",
    "    no_num.remove(i)"
   ]
  },
  {
   "cell_type": "code",
   "execution_count": null,
   "id": "a040fcee",
   "metadata": {},
   "outputs": [],
   "source": [
    "# 다른 사람 풀이\n",
    "def solution(numbers):\n",
    "    return 45 - sum(numbers)"
   ]
  },
  {
   "cell_type": "markdown",
   "id": "21f00140",
   "metadata": {},
   "source": [
    "### 월간 코드 챌린지 시즌1\n",
    "#### 내적\n",
    "#### 문제 설명\n",
    "    길이가 같은 두 1차원 정수 배열 a, b가 매개변수로 주어집니다. a와 b의 내적을 return 하도록 solution 함수를 완성해주세요.\n",
    "    이때, a와 b의 내적은 a[0]*b[0] + a[1]*b[1] + ... + a[n-1]*b[n-1] 입니다. (n은 a, b의 길이)"
   ]
  },
  {
   "cell_type": "code",
   "execution_count": 173,
   "id": "f6e863a6",
   "metadata": {},
   "outputs": [
    {
     "name": "stdout",
     "output_type": "stream",
     "text": [
      "3\n"
     ]
    }
   ],
   "source": [
    "answer = []\n",
    "a = [1,2,3,4]\n",
    "b = [-3,-1,0,2]\n",
    "for i in range(len(a)):\n",
    "    answer.append(a[i]*b[i])\n",
    "print(sum(answer))\n",
    "#========================================================\n",
    "\n",
    "def solution(a,b):\n",
    "    return sum([a[i]*b[i] for i in range(len(a))])"
   ]
  },
  {
   "cell_type": "code",
   "execution_count": 175,
   "id": "79974b7e",
   "metadata": {},
   "outputs": [
    {
     "data": {
      "text/plain": [
       "3"
      ]
     },
     "execution_count": 175,
     "metadata": {},
     "output_type": "execute_result"
    }
   ],
   "source": [
    "# 다른 사람 풀이\n",
    "\n",
    "def solution(a, b):\n",
    "\n",
    "    return sum([x*y for x, y in zip(a,b)])\n",
    "#----------------------------------------------\n",
    "\n"
   ]
  },
  {
   "cell_type": "markdown",
   "id": "ddef4090",
   "metadata": {},
   "source": [
    "### 최대공약수와 최소공배수\n",
    "#### 문제 설명\n",
    "    두 수를 입력받아 두 수의 최대공약수와 최소공배수를 반환하는 함수, solution을 완성해 보세요. 배열의 맨 앞에 최대공약수, \n",
    "    그다음 최소공배수를 넣어 반환하면 됩니다. 예를 들어 두 수 3, 12의 최대공약수는 3, \n",
    "    최소공배수는 12이므로 solution(3, 12)는 [3, 12]를 반환해야 합니다."
   ]
  },
  {
   "cell_type": "code",
   "execution_count": 189,
   "id": "930459d0",
   "metadata": {},
   "outputs": [
    {
     "name": "stdout",
     "output_type": "stream",
     "text": [
      "[1, 3]\n",
      "[1, 2, 3, 4, 6]\n"
     ]
    }
   ],
   "source": [
    "def solution(n, m):\n",
    "    answer = []\n",
    "    nn = [i for i in range(1,int(max(n,m)/2)+1) if n % i == 0]\n",
    "    mm = [i for i in range(1,int(max(n,m)/2)+1) if m % i == 0]\n",
    "    answer.append(max(i for i in mm if i in nn))\n",
    "    answer.append(n*m/max(i for i in mm if i in nn))\n",
    "\n",
    "    return answer"
   ]
  },
  {
   "cell_type": "code",
   "execution_count": null,
   "id": "3fc5e7f9",
   "metadata": {},
   "outputs": [],
   "source": [
    "# 다른 사람 풀이\n",
    "def gcdlcm(a, b):\n",
    "    c, d = max(a, b), min(a, b)\n",
    "    t = 1\n",
    "    while t > 0:\n",
    "        t = c % d\n",
    "        c, d = d, t\n",
    "    answer = [c, int(a*b/c)]\n",
    "\n",
    "    return answer"
   ]
  },
  {
   "cell_type": "code",
   "execution_count": null,
   "id": "1b3ae537",
   "metadata": {},
   "outputs": [],
   "source": []
  },
  {
   "cell_type": "markdown",
   "id": "c396c2c7",
   "metadata": {},
   "source": [
    "## 승률"
   ]
  },
  {
   "cell_type": "code",
   "execution_count": 54,
   "id": "661c8589",
   "metadata": {},
   "outputs": [],
   "source": [
    "def solution(weights, head2head):\n",
    "    answer = []\n",
    "    result = []\n",
    "    for i in range(len(head2head)):\n",
    "        w = 0\n",
    "        l = 0\n",
    "        cnt = 0\n",
    "        head2head[i] = list(head2head[i])\n",
    "        for j in range(len(weights)):\n",
    "            if head2head[i][j] == 'W':\n",
    "                w += 1\n",
    "                if weights[i] < weights[j]:\n",
    "                    cnt += 1\n",
    "            elif head2head[i][j] == 'L':\n",
    "                l += 1\n",
    "        if w+l != 0:\n",
    "            result.append([i+1, w/(w+l), cnt, weights[i]])\n",
    "        else:\n",
    "            result.append([i+1, 0, cnt, weights[i]])\n",
    "    result.sort(reverse=True, key = lambda x : (x[1],x[2],x[3]) )\n",
    "    for i in range(len(result)):\n",
    "        answer.append(result[i][0])\n",
    "    return answer\n",
    "\n",
    "w = [50,82,75,120]\n",
    "h2h = [\"NLWL\",\"WNLL\",\"LWNW\",\"WWLN\"]\n",
    "solution(w,h2h)"
   ]
  },
  {
   "cell_type": "markdown",
   "id": "65cf9b7f",
   "metadata": {},
   "source": [
    "### 2019 KAKAO BLIND RECRUITMENT\n",
    "#### 실패율"
   ]
  },
  {
   "cell_type": "code",
   "execution_count": 145,
   "id": "9c6c046e",
   "metadata": {},
   "outputs": [
    {
     "name": "stdout",
     "output_type": "stream",
     "text": [
      "1  스테이지 참가자 8\n",
      "2  스테이지 참가자 7\n",
      "3  스테이지 참가자 4\n",
      "4  스테이지 참가자 2\n",
      "[[0.5, 3], [0.5, 4], [0.42857142857142855, 2], [0.125, 1], [0, 5]]\n"
     ]
    },
    {
     "data": {
      "text/plain": [
       "[3, 4, 2, 1, 5]"
      ]
     },
     "execution_count": 145,
     "metadata": {},
     "output_type": "execute_result"
    }
   ],
   "source": [
    "def solution(N, stages):\n",
    "    cnt = len(stages) # 총 참가자 수\n",
    "    result = []\n",
    "    for i in range(1,N+1):\n",
    "        if stages.count(i) != 0:\n",
    "            result.append([stages.count(i)/cnt, i])\n",
    "            print(i,\" 스테이지 참가자\", cnt) \n",
    "            cnt = cnt-stages.count(i)\n",
    "        else:\n",
    "            result.append([0, i])\n",
    "        \n",
    "    answer = sorted(result, reverse=True, key=lambda x : x[0])\n",
    "    return [answer[i][1] for i in range(N)]  \n",
    "        \n",
    "N = 5\n",
    "stages = [2, 1, 2, 6, 2, 4, 3, 3]\n",
    "solution(N, stages)"
   ]
  },
  {
   "cell_type": "markdown",
   "id": "a4c5901d",
   "metadata": {},
   "source": [
    "### 2020 카카오 인턴십\n",
    "#### 키패드 누르기\n"
   ]
  },
  {
   "cell_type": "code",
   "execution_count": 162,
   "id": "53d2f487",
   "metadata": {},
   "outputs": [],
   "source": [
    "def solution(strings, n):\n",
    "    answer = sorted([list(i) for i in strings], key=lambda x : (x[n],x))\n",
    "    \n",
    "    return [\"\".join(answer[i]) for i in range(len(answer)) ]"
   ]
  },
  {
   "cell_type": "code",
   "execution_count": 161,
   "id": "58d25dbf",
   "metadata": {},
   "outputs": [
    {
     "data": {
      "text/plain": [
       "['abcd', 'abce', 'cdx']"
      ]
     },
     "execution_count": 161,
     "metadata": {},
     "output_type": "execute_result"
    }
   ],
   "source": [
    "def solution(strings, n):\n",
    "    return sorted(strings, key=lambda x: (x[n], x))\n",
    "\n",
    "\n",
    "strings = [\"abce\", \"abcd\", \"cdx\"]\n",
    "n = 2\n",
    "\n",
    "solution(strings, n)"
   ]
  },
  {
   "cell_type": "code",
   "execution_count": null,
   "id": "7155d54c",
   "metadata": {},
   "outputs": [],
   "source": [
    "sorted(strings, key=lambda x: (x[n], x))"
   ]
  },
  {
   "cell_type": "markdown",
   "id": "de5bddad",
   "metadata": {},
   "source": [
    "### 완전탐색\n",
    "#### 모의고사\n"
   ]
  },
  {
   "cell_type": "code",
   "execution_count": 195,
   "id": "fa935819",
   "metadata": {},
   "outputs": [],
   "source": [
    "def solution(answers):\n",
    "    answer = []\n",
    "    score = [0,0,0]\n",
    "    \n",
    "    std1 = [1,2,3,4,5]\n",
    "    std2 = [2,1,2,3,2,4,2,5]\n",
    "    std3 = [3,3,1,1,2,2,4,4,5,5]\n",
    "    \n",
    "    for i in range(len(answers)):\n",
    "        if answers[i] == std1[i%5]: \n",
    "            score[0] += 1\n",
    "        if answers[i] == std2[i%8]: \n",
    "            score[1] += 1\n",
    "        if answers[i] == std3[i%10]: \n",
    "            score[2] += 1\n",
    "            \n",
    "    return [i+1 for i in range(3) if max(score) == score[i] ]"
   ]
  },
  {
   "cell_type": "code",
   "execution_count": null,
   "id": "ff7daa7f",
   "metadata": {},
   "outputs": [],
   "source": [
    "answers = [1,3,2,4,2]\n",
    "solution(answers)"
   ]
  },
  {
   "cell_type": "code",
   "execution_count": 186,
   "id": "94c035c1",
   "metadata": {},
   "outputs": [
    {
     "name": "stdout",
     "output_type": "stream",
     "text": [
      "[1, 2, 3]\n"
     ]
    }
   ],
   "source": [
    "answer = []\n",
    "for i in range(3):\n",
    "    if max(score) == score[i]:\n",
    "        answer.append(i+1)\n",
    "print(answer)"
   ]
  },
  {
   "cell_type": "code",
   "execution_count": 190,
   "id": "f73ee849",
   "metadata": {},
   "outputs": [
    {
     "data": {
      "text/plain": [
       "[1, 2, 3]"
      ]
     },
     "execution_count": 190,
     "metadata": {},
     "output_type": "execute_result"
    }
   ],
   "source": [
    "answers = [1,3,2,4,2]\n",
    "solution(answers)"
   ]
  },
  {
   "cell_type": "code",
   "execution_count": 1,
   "id": "36bb62c6",
   "metadata": {},
   "outputs": [
    {
     "name": "stdout",
     "output_type": "stream",
     "text": [
      "사랑한다\n"
     ]
    }
   ],
   "source": []
  },
  {
   "cell_type": "code",
   "execution_count": null,
   "id": "37589923",
   "metadata": {},
   "outputs": [],
   "source": []
  },
  {
   "cell_type": "code",
   "execution_count": null,
   "id": "a41fadee",
   "metadata": {},
   "outputs": [],
   "source": []
  },
  {
   "cell_type": "code",
   "execution_count": null,
   "id": "11eac26c",
   "metadata": {},
   "outputs": [],
   "source": []
  },
  {
   "cell_type": "code",
   "execution_count": null,
   "id": "5e9bc141",
   "metadata": {},
   "outputs": [],
   "source": []
  },
  {
   "cell_type": "code",
   "execution_count": null,
   "id": "aba20ad8",
   "metadata": {},
   "outputs": [],
   "source": []
  },
  {
   "cell_type": "code",
   "execution_count": null,
   "id": "971f89a2",
   "metadata": {},
   "outputs": [],
   "source": []
  },
  {
   "cell_type": "code",
   "execution_count": null,
   "id": "7937ed55",
   "metadata": {},
   "outputs": [],
   "source": []
  },
  {
   "cell_type": "code",
   "execution_count": null,
   "id": "ff14a2bf",
   "metadata": {},
   "outputs": [],
   "source": []
  },
  {
   "cell_type": "code",
   "execution_count": null,
   "id": "51f598de",
   "metadata": {},
   "outputs": [],
   "source": []
  }
 ],
 "metadata": {
  "kernelspec": {
   "display_name": "Python 3",
   "language": "python",
   "name": "python3"
  },
  "language_info": {
   "codemirror_mode": {
    "name": "ipython",
    "version": 3
   },
   "file_extension": ".py",
   "mimetype": "text/x-python",
   "name": "python",
   "nbconvert_exporter": "python",
   "pygments_lexer": "ipython3",
   "version": "3.8.8"
  }
 },
 "nbformat": 4,
 "nbformat_minor": 5
}
