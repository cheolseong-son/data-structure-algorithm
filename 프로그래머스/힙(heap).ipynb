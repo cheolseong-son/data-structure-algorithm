{
 "cells": [
  {
   "cell_type": "markdown",
   "id": "5ab2d6cf",
   "metadata": {},
   "source": [
    "### 1. 문제 설명\n",
    "매운 것을 좋아하는 Leo는 모든 음식의 스코빌 지수를 K 이상으로 만들고 싶습니다. 모든 음식의 스코빌 지수를 K 이상으로 만들기 위해 Leo는 스코빌 지수가 가장 낮은 두 개의 음식을 아래와 같이 특별한 방법으로 섞어 새로운 음식을 만듭니다.\n",
    "\n",
    "#### 섞은 음식의 스코빌 지수 = 가장 맵지 않은 음식의 스코빌 지수 + (두 번째로 맵지 않은 음식의 스코빌 지수 * 2)\n",
    "\n",
    "Leo는 모든 음식의 스코빌 지수가 K 이상이 될 때까지 반복하여 섞습니다.\n",
    "Leo가 가진 음식의 스코빌 지수를 담은 배열 scoville과 원하는 스코빌 지수 K가 주어질 때, 모든 음식의 스코빌 지수를 K 이상으로 만들기 위해 섞어야 하는 최소 횟수를 return 하도록 solution 함수를 작성해주세요."
   ]
  },
  {
   "cell_type": "code",
   "execution_count": 52,
   "id": "21a0185c",
   "metadata": {},
   "outputs": [
    {
     "data": {
      "text/plain": [
       "2"
      ]
     },
     "execution_count": 52,
     "metadata": {},
     "output_type": "execute_result"
    }
   ],
   "source": [
    "# 내풀이\n",
    "# 테스트 통과 O, 효율성 통과 X\n",
    "\n",
    "def solution(scoville, K):\n",
    "    answer = 0\n",
    "    if len(scoville) >= 2: \n",
    "        while scoville[0] < K:\n",
    "            try:\n",
    "                answer += 1\n",
    "                scoville.sort()\n",
    "                mix_scoville = scoville.pop(0) + (scoville.pop(0)*2)\n",
    "                scoville.append(mix_scoville)   \n",
    "            except Exception as e:\n",
    "                return -1\n",
    "    else:\n",
    "        return -1\n",
    "    if answer == 0:\n",
    "        return -1\n",
    "    return answer\n",
    "\n",
    "scoville = [1, 2, 3, 9, 10, 12]\n",
    "K = 7\n",
    "solution(scoville, K)"
   ]
  },
  {
   "cell_type": "code",
   "execution_count": null,
   "id": "10249483",
   "metadata": {},
   "outputs": [],
   "source": [
    "from heapq import *\n",
    "\n",
    "def solution(scoville, K):\n",
    "    count = 0\n",
    "    heapify(scoville)\n",
    "    while scoville[0] < K and len(scoville) > 1:\n",
    "        num1 = heappop(scoville)\n",
    "        num2 = heappop(scoville)\n",
    "        heappush(scoville, num1 + num2 * 2)\n",
    "        count += 1\n",
    "    return count if scoville[0] >= K else -1"
   ]
  },
  {
   "cell_type": "markdown",
   "id": "9a5945b4",
   "metadata": {},
   "source": [
    "### 문제 설명\n",
    "하드디스크는 한 번에 하나의 작업만 수행할 수 있습니다. 디스크 컨트롤러를 구현하는 방법은 여러 가지가 있습니다. 가장 일반적인 방법은 요청이 들어온 순서대로 처리하는 것입니다.\n",
    "\n",
    "각 작업에 대해 [작업이 요청되는 시점, 작업의 소요시간]을 담은 2차원 배열 jobs가 매개변수로 주어질 때, 작업의 요청부터 종료까지 걸린 시간의 평균을 가장 줄이는 방법으로 처리하면 평균이 얼마가 되는지 return 하도록 solution 함수를 작성해주세요. (단, 소수점 이하의 수는 버립니다)\n",
    "\n",
    "제한 사항\n",
    "- jobs의 길이는 1 이상 500 이하입니다.\n",
    "- jobs의 각 행은 하나의 작업에 대한 [작업이 요청되는 시점, 작업의 소요시간] 입니다.\n",
    "- 각 작업에 대해 작업이 요청되는 시간은 0 이상 1,000 이하입니다.\n",
    "- 각 작업에 대해 작업의 소요시간은 1 이상 1,000 이하입니다.\n",
    "- 하드디스크가 작업을 수행하고 있지 않을 때에는 먼저 요청이 들어온 작업부터 처리합니다."
   ]
  },
  {
   "cell_type": "markdown",
   "id": "ea087669",
   "metadata": {},
   "source": [
    "[0, 10], [2,10], [9,10], [15,2] 의 작업 순서는 [0, 10], [2,10], [15,2], [9,10] 가 되어야 합니다.<br>\n",
    "( [0, 10], [2,10], [9,10] 처리하고 나서 [15, 2] 기다리면 안됩니다)\n",
    "\n",
    "[0, 10], [2,10], [25,10], [25,2] 의 작업 순서는 [0, 10], [2,10], [25,2], [25,10] 가 되어야 합니다.<br>\n",
    "(나중에 들어오는 [25,10], [25,2] 도 순서를 정해서 계산해야 합니다)"
   ]
  },
  {
   "cell_type": "code",
   "execution_count": null,
   "id": "3016250d",
   "metadata": {},
   "outputs": [],
   "source": []
  },
  {
   "cell_type": "code",
   "execution_count": null,
   "id": "7efd85ac",
   "metadata": {},
   "outputs": [],
   "source": []
  },
  {
   "cell_type": "code",
   "execution_count": null,
   "id": "e9be5bdf",
   "metadata": {},
   "outputs": [],
   "source": []
  },
  {
   "cell_type": "code",
   "execution_count": null,
   "id": "329828c8",
   "metadata": {},
   "outputs": [],
   "source": []
  },
  {
   "cell_type": "code",
   "execution_count": null,
   "id": "2677e12b",
   "metadata": {},
   "outputs": [],
   "source": []
  },
  {
   "cell_type": "code",
   "execution_count": null,
   "id": "9c441bdb",
   "metadata": {},
   "outputs": [],
   "source": []
  }
 ],
 "metadata": {
  "kernelspec": {
   "display_name": "Python 3",
   "language": "python",
   "name": "python3"
  },
  "language_info": {
   "codemirror_mode": {
    "name": "ipython",
    "version": 3
   },
   "file_extension": ".py",
   "mimetype": "text/x-python",
   "name": "python",
   "nbconvert_exporter": "python",
   "pygments_lexer": "ipython3",
   "version": "3.8.8"
  }
 },
 "nbformat": 4,
 "nbformat_minor": 5
}
